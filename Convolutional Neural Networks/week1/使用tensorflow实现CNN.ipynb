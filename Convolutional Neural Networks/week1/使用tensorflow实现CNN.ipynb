{
 "cells": [
  {
   "cell_type": "markdown",
   "metadata": {},
   "source": [
    "# 使用tensorflow实现CNN"
   ]
  },
  {
   "cell_type": "code",
   "execution_count": 12,
   "metadata": {},
   "outputs": [],
   "source": [
    "import math\n",
    "import numpy as np\n",
    "import h5py\n",
    "import matplotlib.pyplot as plt\n",
    "import scipy\n",
    "from PIL import Image\n",
    "from scipy import ndimage\n",
    "import tensorflow as tf\n",
    "from tensorflow.python.framework import ops\n",
    "%matplotlib inline\n",
    "np.random.seed(1)\n",
    "\n",
    "from cnn_utils import  load_dataset"
   ]
  },
  {
   "cell_type": "code",
   "execution_count": 13,
   "metadata": {},
   "outputs": [
    {
     "name": "stdout",
     "output_type": "stream",
     "text": [
      "y=0\n"
     ]
    },
    {
     "data": {
      "image/png": "[encoded data removed]",
      "text/plain": [
       "<Figure size 432x288 with 1 Axes>"
      ]
     },
     "metadata": {},
     "output_type": "display_data"
    }
   ],
   "source": [
    "# Loading the data (signs)\n",
    "X_train_orig, Y_train_orig, X_test_orig, Y_test_orig, classes = load_dataset()\n",
    "\n",
    "index=1\n",
    "plt.imshow(X_train_orig[index])\n",
    "print(\"y={}\".format(np.squeeze(Y_train_orig[:,index])))"
   ]
  },
  {
   "cell_type": "markdown",
   "metadata": {},
   "source": [
    "- one-hot编码用的是 `np.eye(C)[Y.reshape(-1)].T`代码，原理是numpy 切片; 非常经典的用法\n"
   ]
  },
  {
   "cell_type": "code",
   "execution_count": 14,
   "metadata": {},
   "outputs": [
    {
     "name": "stdout",
     "output_type": "stream",
     "text": [
      "(6, 1080)\n",
      "(6, 120)\n"
     ]
    }
   ],
   "source": [
    "X_train = X_train_orig/255.\n",
    "X_test = X_test_orig/255.\n",
    "\n",
    "Y_train=np.eye(6)[Y_train_orig.reshape(-1)].T\n",
    "print(Y_train.shape)\n",
    "Y_test=np.eye(6)[Y_test_orig.reshape(-1)].T\n",
    "print(Y_test.shape)"
   ]
  },
  {
   "cell_type": "code",
   "execution_count": 15,
   "metadata": {},
   "outputs": [
    {
     "name": "stdout",
     "output_type": "stream",
     "text": [
      "number of training examples = 1080\n",
      "number of test examples = 120\n",
      "X_train shape: (1080, 64, 64, 3)\n",
      "Y_train shape: (6, 1080)\n",
      "X_test shape: (120, 64, 64, 3)\n",
      "Y_test shape: (6, 120)\n"
     ]
    }
   ],
   "source": [
    "print (\"number of training examples = \" + str(X_train.shape[0]))\n",
    "print (\"number of test examples = \" + str(X_test.shape[0]))\n",
    "print (\"X_train shape: \" + str(X_train.shape))\n",
    "print (\"Y_train shape: \" + str(Y_train.shape))\n",
    "print (\"X_test shape: \" + str(X_test.shape))\n",
    "print (\"Y_test shape: \" + str(Y_test.shape))\n"
   ]
  },
  {
   "cell_type": "markdown",
   "metadata": {},
   "source": [
    "# 1 place holder\n",
    "\n",
    "- Y [None,n_y]"
   ]
  },
  {
   "cell_type": "code",
   "execution_count": 16,
   "metadata": {
    "collapsed": true
   },
   "outputs": [],
   "source": [
    "def create_placeholders(n_H0,n_W0,n_C0,n_y):\n",
    "    \"\"\"\n",
    "    \n",
    "\n",
    "    Parameters\n",
    "    ----------\n",
    "    n_H0: \n",
    "    n_W0:\n",
    "    n_C0:\n",
    "    n_y: \n",
    "\n",
    "    Returns\n",
    "    -------\n",
    "    X: (None,n_H0,n_W0,n_C0)\n",
    "    Y: (None,n_y)\n",
    "     \n",
    "    \"\"\"\n",
    "    X=tf.placeholder(tf.float32,shape=(None,n_H0,n_W0,n_C0))\n",
    "    Y=tf.placeholder(tf.float32,shape=(None,n_y))\n",
    "    return X,Y\n",
    "    "
   ]
  },
  {
   "cell_type": "code",
   "execution_count": 17,
   "metadata": {},
   "outputs": [
    {
     "name": "stdout",
     "output_type": "stream",
     "text": [
      "X = Tensor(\"Placeholder_2:0\", shape=(?, 64, 64, 3), dtype=float32)\n",
      "Y = Tensor(\"Placeholder_3:0\", shape=(?, 6), dtype=float32)\n"
     ]
    }
   ],
   "source": [
    "X, Y = create_placeholders(64, 64, 3, 6)\n",
    "print (\"X = \" + str(X))\n",
    "print (\"Y = \" + str(Y))"
   ]
  },
  {
   "cell_type": "markdown",
   "metadata": {},
   "source": [
    "## 2 初始化参数\n",
    "\n",
    "- eval方法可以用来观察值"
   ]
  },
  {
   "cell_type": "code",
   "execution_count": 18,
   "metadata": {
    "collapsed": true
   },
   "outputs": [],
   "source": [
    "def initialize_parameters():\n",
    "    \"\"\"\n",
    "    W1 [4，4，3,8]\n",
    "    W2 [2,2,8,16]\n",
    "\n",
    "    Parameters\n",
    "    ----------\n",
    "     : \n",
    "\n",
    "    Returns\n",
    "    -------\n",
    "    Parameters : dict W1 W2\n",
    "     \n",
    "    \"\"\"    \n",
    "    tf.set_random_seed(1)\n",
    "    \n",
    "    W1=tf.get_variable(name='W1',shape=[4,4,3,8],initializer=tf.contrib.layers.xavier_initializer(seed=0))\n",
    "    W2=tf.get_variable(name='W2',shape=[2,2,8,16],initializer=tf.contrib.layers.xavier_initializer(seed=0))    \n",
    "    parameters={\"W1\":W1,\"W2\":W2}\n",
    "    return parameters"
   ]
  },
  {
   "cell_type": "code",
   "execution_count": 19,
   "metadata": {},
   "outputs": [
    {
     "name": "stdout",
     "output_type": "stream",
     "text": [
      "W1 = [ 0.00131723  0.1417614  -0.04434952  0.09197326  0.14984085 -0.03514394\n",
      " -0.06847463  0.05245192]\n",
      "W2 = [-0.08566415  0.17750949  0.11974221  0.16773748 -0.0830943  -0.08058\n",
      " -0.00577033 -0.14643836  0.24162132 -0.05857408 -0.19055021  0.1345228\n",
      " -0.22779644 -0.1601823  -0.16117483 -0.10286498]\n"
     ]
    }
   ],
   "source": [
    "tf.reset_default_graph()\n",
    "with tf.Session() as sess:\n",
    "    parameters=initialize_parameters()\n",
    "    init=tf.global_variables_initializer()\n",
    "    sess.run(init)\n",
    "    print(\"W1 = \" + str(parameters['W1'].eval()[1,1,1]))\n",
    "    print(\"W2 = \" + str(parameters['W2'].eval()[1,1,1]))\n",
    "    \n"
   ]
  },
  {
   "cell_type": "markdown",
   "metadata": {},
   "source": [
    "## 正向传播\n",
    "- 【bug1】strides=(1,4,4,1)\n",
    "\n",
    "```\n",
    "~/anaconda3/lib/python3.6/site-packages/tensorflow/python/ops/gen_nn_ops.py in conv2d(input, filter, strides, padding, use_cudnn_on_gpu, data_format, dilations, name)\n",
    "    936       raise TypeError(\n",
    "    937           \"Expected list for 'strides' argument to \"\n",
    "--> 938           \"'conv2d' Op, not %r.\" % strides)\n",
    "    939     strides = [_execute.make_int(_i, \"strides\") for _i in strides]\n",
    "    940     padding = _execute.make_str(padding, \"padding\")\n",
    "\n",
    "TypeError: Expected list for 'strides' argument to 'conv2d' Op, not 1.\n",
    "\n",
    "```\n",
    "\n",
    "- 【bug2】要用max_pool 而不是pool\n",
    "\n",
    "```\n",
    "<ipython-input-111-07ee245ebd1a> in forwar_propagation(X, parameters)\n",
    "     24     Z2=tf.nn.conv2d(input=P1,filter=W2,strides=(1,4,4,1),padding='SAME')\n",
    "     25     A2=tf.nn.relu(Z2)\n",
    "---> 26     P2=tf.nn.pool(input=A2,window_shape=(4,4),strides=(1,4,4,1),pooling_type='MAX',padding='SAME')\n",
    "     27 \n",
    "```\n",
    "\n",
    "- 【bug3】   ` Z3=tf.contrib.layers.fully_connected(P2,num_outputs=6,activation_fn=None)`中\n",
    "`activation_fn=None`不可缺少"
   ]
  },
  {
   "cell_type": "markdown",
   "metadata": {},
   "source": [
    "\n",
    "#### 要能够把完整过程推导出来"
   ]
  },
  {
   "cell_type": "code",
   "execution_count": 20,
   "metadata": {},
   "outputs": [],
   "source": [
    "def forward_propagation(X,parameters):\n",
    "    \"\"\"\n",
    "    正向传播（conv-relu-pool）\n",
    "    Parameters\n",
    "    ----------\n",
    "    X: (m,n_H0,n_W0,n_C0)\n",
    "    parameters :\n",
    "        W1 [4，4，3,8]\n",
    "        W2 [2,2,8,16]\n",
    "                    \n",
    "    Returns\n",
    "    -------\n",
    "    Z : \n",
    "     \n",
    "    \"\"\"    \n",
    "    \n",
    "    W1=parameters['W1']\n",
    "    W2=parameters['W2']    \n",
    "    \n",
    "    Z1=tf.nn.conv2d(input=X,filter=W1,strides=[1,1,1,1],padding='SAME')\n",
    "    A1=tf.nn.relu(Z1)\n",
    "    P1=tf.nn.max_pool(A1,ksize=[1,8,8,1],strides=[1,8,8,1],padding='SAME')\n",
    "    \n",
    "    Z2=tf.nn.conv2d(input=P1,filter=W2,strides=(1,1,1,1),padding='SAME')\n",
    "    A2=tf.nn.relu(Z2)\n",
    "    P2=tf.nn.max_pool(A2,ksize=[1,4,4,1],strides=(1,4,4,1),padding='SAME')\n",
    "    P2= tf.contrib.layers.flatten(P2)\n",
    "    \n",
    "    Z3=tf.contrib.layers.fully_connected(P2,num_outputs=6,activation_fn=None)\n",
    "    return Z3\n"
   ]
  },
  {
   "cell_type": "code",
   "execution_count": 21,
   "metadata": {},
   "outputs": [
    {
     "name": "stdout",
     "output_type": "stream",
     "text": [
      "Z3 = [[ 1.4416984  -0.24909666  5.450499   -0.2618962  -0.20669907  1.3654671 ]\n",
      " [ 1.4070846  -0.02573211  5.08928    -0.48669922 -0.40940708  1.2624859 ]]\n"
     ]
    }
   ],
   "source": [
    "tf.reset_default_graph()\n",
    "with tf.Session() as sess:\n",
    "    np.random.seed(1)\n",
    "    X,Y=create_placeholders(64,64,3,6)\n",
    "    parameters=initialize_parameters()\n",
    "    Z3=forward_propagation(X,parameters)\n",
    "    init=tf.global_variables_initializer()\n",
    "    sess.run(init)    \n",
    "    a=sess.run(Z3,feed_dict={X:np.random.randn(2,64,64,3),Y:np.random.randn(2,6)})\n",
    "    print(\"Z3 = \" + str(a))"
   ]
  },
  {
   "cell_type": "markdown",
   "metadata": {},
   "source": [
    "## 3 compute cost\n",
    "\n",
    "- labels shape= [batch_size, num_classes]\n"
   ]
  },
  {
   "cell_type": "code",
   "execution_count": 22,
   "metadata": {},
   "outputs": [],
   "source": [
    "def compute_cost(Z3,Y):\n",
    "    cost=tf.reduce_mean(tf.nn.softmax_cross_entropy_with_logits_v2(logits=Z3,labels=Y))\n",
    "    return cost\n",
    "    \n"
   ]
  },
  {
   "cell_type": "code",
   "execution_count": 23,
   "metadata": {},
   "outputs": [
    {
     "name": "stdout",
     "output_type": "stream",
     "text": [
      "Z3= Tensor(\"fully_connected/BiasAdd:0\", shape=(?, 6), dtype=float32)\n",
      "Y= Tensor(\"Placeholder_1:0\", shape=(?, 6), dtype=float32)\n",
      "cost = 4.6648693\n"
     ]
    }
   ],
   "source": [
    "tf.reset_default_graph()\n",
    "\n",
    "with tf.Session() as sess:\n",
    "    np.random.seed(1)\n",
    "    X, Y = create_placeholders(64, 64, 3, 6)\n",
    "    parameters = initialize_parameters()\n",
    "    Z3 = forward_propagation(X, parameters)\n",
    "    print(\"Z3=\",Z3)\n",
    "    print(\"Y=\",Y)\n",
    "    cost = compute_cost(Z3, Y)\n",
    "    \n",
    "    init = tf.global_variables_initializer()\n",
    "    sess.run(init)\n",
    "    a = sess.run(cost, {X: np.random.randn(4,64,64,3), Y: np.random.randn(4,6)})\n",
    "    print(\"cost = \" + str(a))    \n",
    "    "
   ]
  },
  {
   "cell_type": "markdown",
   "metadata": {},
   "source": [
    "## 4 Model\n",
    "\n",
    "- 【bug】<span style=\"color:red;font-weight:bold\"> IndexError: index 858 is out of bounds for axis 0 with size 6</span>\n",
    "    - 原因： 输入数据维度不对，要进行维度检查\n",
    "\n",
    "```\n",
    "<ipython-input-80-3ede693b7bef> in model(X_train, Y_train, X_test, Y_test, learning_rate, num_epoches, minibatch_size, print_cost)\n",
    "     26             num_minibatches=int(m/minibatch_size)\n",
    "     27             seed+=1\n",
    "---> 28             minibatches=random_mini_batches(X_train,Y_train,minibatch_size,seed)\n",
    "     29 \n",
    "     30             for minibatch in minibatches:\n",
    "\n",
    "~/python-workspace/deep-learning-coursera-full/Convolutional Neural Networks/week1/cnn_utils.py in random_mini_batches(X, Y, mini_batch_size, seed)\n",
    "     44     permutation = list(np.random.permutation(m))\n",
    "     45     shuffled_X = X[permutation,:,:,:]\n",
    "---> 46     shuffled_Y = Y[permutation,:]\n",
    "     47 \n",
    "     48     # Step 2: Partition (shuffled_X, shuffled_Y). Minus the end case.\n",
    "\n",
    "IndexError: index 858 is out of bounds for axis 0 with size 6\n",
    "\n",
    "```\n",
    "\n",
    "\n",
    "- [bug] <span style=\"color:red;font-weight:bold\"> cost没有下降</span>\n",
    "    - 检查原因：之前遇到过问题：计算损失函数时行列颠倒了\n",
    "    - 发现问题：打印损失函数的代码放在了epoch内部，这是有问题的\n",
    "\n",
    "```\n",
    "Cost after epoch 0: 0.124256\n",
    "Cost after epoch 0: 0.235755\n",
    "Cost after epoch 0: 0.346379\n",
    "Cost after epoch 0: 0.460018\n",
    "Cost after epoch 0: 0.572946\n",
    "Cost after epoch 0: 0.686253\n",
    "Cost after epoch 0: 0.799503\n",
    "Cost after epoch 0: 0.911139\n",
    "Cost after epoch 0: 1.023798\n",
    "Cost after epoch 0: 1.136514\n",
    "Cost after epoch 0: 1.248791\n",
    "Cost after epoch 0: 1.360714\n",
    "Cost after epoch 0: 1.472453\n",
    "Cost after epoch 0: 1.584704\n",
    "```\n",
    "\n",
    "- [方法] <span style=\"color:red;font-weight:bold\">计算softmax准确率的方法 </span>\n",
    "\n",
    "```\n",
    "        # Calculate the correct predictions\n",
    "        predict_op = tf.argmax(Z3, 1)\n",
    "        correct_prediction = tf.equal(predict_op, tf.argmax(Y, 1))\n",
    "        \n",
    "        # Calculate accuracy on the test set\n",
    "        accuracy = tf.reduce_mean(tf.cast(correct_prediction, \"float\"))\n",
    "\n",
    "```\n",
    "\n",
    "- 学习率对结果影响很大，过大的学习率导致下降非常缓慢，且比较容易陷入瓶颈期"
   ]
  },
  {
   "cell_type": "code",
   "execution_count": 28,
   "metadata": {},
   "outputs": [],
   "source": [
    "from cnn_utils import random_mini_batches\n",
    "def model(X_train,Y_train,X_test,Y_test,learning_rate=0.009,num_epoches=100,minibatch_size=64,print_cost=True):    \n",
    "    \"\"\"\n",
    "    CONV2D-->RELU-->MAXPOOl-->CON2D-->RELU-->MAXPOOL-->FLATTEN-->FC\n",
    "    \n",
    "\n",
    "    Parameters\n",
    "    ----------\n",
    "    X_train : (None, 64,64,3)\n",
    "    Y_train : (None, n_y=6)\n",
    "    X_test: (None, 64,64,3)\n",
    "    Y_test:(None, n_y=6)\n",
    "\n",
    "    Returns\n",
    "    -------\n",
    "     : \n",
    "     \n",
    "    \"\"\"    \n",
    "    \n",
    "    ops.reset_default_graph()\n",
    "    tf.set_random_seed(1)\n",
    "    seed=3\n",
    "    (m,n_H0,n_W0,n_C0)=X_train.shape\n",
    "    n_y=Y_train.shape[1]\n",
    "    costs=[]\n",
    "\n",
    "    X,Y=create_placeholders(n_H0, n_W0, n_C0, n_y)\n",
    "\n",
    "    parameters=initialize_parameters()\n",
    "\n",
    "    Z3=forward_propagation(X, parameters)\n",
    "\n",
    "    cost=compute_cost(Z3,Y)\n",
    "\n",
    "    optimizer=tf.train.AdamOptimizer(learning_rate=learning_rate).minimize(cost)\n",
    "\n",
    "    init=tf.global_variables_initializer()\n",
    "\n",
    "    with  tf.Session() as sess:\n",
    "        sess.run(init)    \n",
    "        for epoch in range(num_epoches):\n",
    "\n",
    "            minibatch_cost=0.\n",
    "            num_minibatches=int(m/minibatch_size)\n",
    "            seed+=1            \n",
    "            minibatches=random_mini_batches(X_train,Y_train,minibatch_size,seed)\n",
    "\n",
    "            for minibatch in minibatches:\n",
    "                (minibatch_X,minibatch_Y)=minibatch\n",
    "                _,temp_cost=sess.run([optimizer,cost],feed_dict={X:minibatch_X,Y:minibatch_Y})\n",
    "                minibatch_cost+=temp_cost/num_minibatches\n",
    "\n",
    "\n",
    "\n",
    "            # Print the cost every epoch\n",
    "            if print_cost == True and epoch % 5 == 0:\n",
    "                print (\"Cost after epoch %i: %f\" % (epoch, minibatch_cost))\n",
    "            if print_cost == True and epoch % 1 == 0:\n",
    "                costs.append(minibatch_cost)\n",
    "\n",
    "        \n",
    "        # plot the cost\n",
    "        plt.plot(np.squeeze(costs))\n",
    "        plt.ylabel('cost')\n",
    "        plt.xlabel('iterations (per tens)')\n",
    "        plt.title(\"Learning rate =\" + str(learning_rate))\n",
    "        plt.show()\n",
    "\n",
    "        # Calculate the correct predictions\n",
    "        predict_op = tf.argmax(Z3, 1)\n",
    "        correct_prediction = tf.equal(predict_op, tf.argmax(Y, 1))\n",
    "        \n",
    "        # Calculate accuracy on the test set\n",
    "        accuracy = tf.reduce_mean(tf.cast(correct_prediction, \"float\"))\n",
    "        print(accuracy)\n",
    "        train_accuracy = accuracy.eval({X: X_train, Y: Y_train})\n",
    "        test_accuracy = accuracy.eval({X: X_test, Y: Y_test})\n",
    "        print(\"Train Accuracy:\", train_accuracy)\n",
    "        print(\"Test Accuracy:\", test_accuracy)\n",
    "                \n",
    "        return train_accuracy, test_accuracy, parameters            \n",
    "    "
   ]
  },
  {
   "cell_type": "markdown",
   "metadata": {},
   "source": [
    "- [总结] 当梯度下降学习率过大时，会出现较大的抖动"
   ]
  },
  {
   "cell_type": "code",
   "execution_count": 29,
   "metadata": {
    "scrolled": true
   },
   "outputs": [
    {
     "name": "stdout",
     "output_type": "stream",
     "text": [
      "Cost after epoch 0: 1.921332\n",
      "Cost after epoch 5: 1.904156\n",
      "Cost after epoch 10: 1.904309\n",
      "Cost after epoch 15: 1.904477\n",
      "Cost after epoch 20: 1.901876\n",
      "Cost after epoch 25: 1.784078\n",
      "Cost after epoch 30: 1.681051\n",
      "Cost after epoch 35: 1.618206\n",
      "Cost after epoch 40: 1.597971\n",
      "Cost after epoch 45: 1.566707\n",
      "Cost after epoch 50: 1.554487\n",
      "Cost after epoch 55: 1.502187\n",
      "Cost after epoch 60: 1.461035\n",
      "Cost after epoch 65: 1.304489\n",
      "Cost after epoch 70: 1.201760\n",
      "Cost after epoch 75: 1.163242\n",
      "Cost after epoch 80: 1.102885\n",
      "Cost after epoch 85: 1.087105\n",
      "Cost after epoch 90: 1.051911\n",
      "Cost after epoch 95: 1.018554\n",
      "Cost after epoch 100: 1.005099\n",
      "Cost after epoch 105: 0.957182\n",
      "Cost after epoch 110: 0.964193\n",
      "Cost after epoch 115: 0.949561\n",
      "Cost after epoch 120: 0.925645\n",
      "Cost after epoch 125: 0.898527\n",
      "Cost after epoch 130: 0.914478\n",
      "Cost after epoch 135: 0.862254\n",
      "Cost after epoch 140: 0.849145\n",
      "Cost after epoch 145: 0.819312\n",
      "Cost after epoch 150: 0.836543\n",
      "Cost after epoch 155: 0.801438\n",
      "Cost after epoch 160: 0.802415\n",
      "Cost after epoch 165: 0.783429\n",
      "Cost after epoch 170: 0.768749\n",
      "Cost after epoch 175: 0.813330\n",
      "Cost after epoch 180: 0.784397\n",
      "Cost after epoch 185: 0.758522\n",
      "Cost after epoch 190: 0.737094\n",
      "Cost after epoch 195: 0.752693\n",
      "Cost after epoch 200: 0.762742\n",
      "Cost after epoch 205: 0.727055\n",
      "Cost after epoch 210: 0.713271\n",
      "Cost after epoch 215: 0.726869\n",
      "Cost after epoch 220: 0.706035\n",
      "Cost after epoch 225: 0.722597\n",
      "Cost after epoch 230: 0.687860\n",
      "Cost after epoch 235: 0.681637\n",
      "Cost after epoch 240: 0.684159\n",
      "Cost after epoch 245: 0.693955\n",
      "Cost after epoch 250: 0.663403\n",
      "Cost after epoch 255: 0.691499\n",
      "Cost after epoch 260: 0.672843\n",
      "Cost after epoch 265: 0.711000\n",
      "Cost after epoch 270: 0.651325\n",
      "Cost after epoch 275: 0.679433\n",
      "Cost after epoch 280: 0.643831\n",
      "Cost after epoch 285: 0.653080\n",
      "Cost after epoch 290: 0.661920\n",
      "Cost after epoch 295: 0.642061\n",
      "Cost after epoch 300: 0.680636\n",
      "Cost after epoch 305: 0.657828\n",
      "Cost after epoch 310: 0.626926\n",
      "Cost after epoch 315: 0.639511\n",
      "Cost after epoch 320: 0.636503\n",
      "Cost after epoch 325: 0.642180\n",
      "Cost after epoch 330: 0.611750\n",
      "Cost after epoch 335: 0.609934\n",
      "Cost after epoch 340: 0.617764\n",
      "Cost after epoch 345: 0.629863\n",
      "Cost after epoch 350: 0.633768\n",
      "Cost after epoch 355: 0.626678\n",
      "Cost after epoch 360: 0.603601\n",
      "Cost after epoch 365: 0.616325\n",
      "Cost after epoch 370: 0.616580\n",
      "Cost after epoch 375: 0.633109\n",
      "Cost after epoch 380: 0.642071\n",
      "Cost after epoch 385: 0.611464\n",
      "Cost after epoch 390: 0.599196\n",
      "Cost after epoch 395: 0.610315\n",
      "Cost after epoch 400: 0.620565\n",
      "Cost after epoch 405: 0.603420\n",
      "Cost after epoch 410: 0.608074\n",
      "Cost after epoch 415: 0.599242\n",
      "Cost after epoch 420: 0.600869\n",
      "Cost after epoch 425: 0.613332\n",
      "Cost after epoch 430: 0.585749\n",
      "Cost after epoch 435: 0.602575\n",
      "Cost after epoch 440: 0.615326\n",
      "Cost after epoch 445: 0.590276\n",
      "Cost after epoch 450: 0.612788\n",
      "Cost after epoch 455: 0.626169\n",
      "Cost after epoch 460: 0.582000\n",
      "Cost after epoch 465: 0.598592\n",
      "Cost after epoch 470: 0.576821\n",
      "Cost after epoch 475: 0.614759\n",
      "Cost after epoch 480: 0.592339\n",
      "Cost after epoch 485: 0.605750\n",
      "Cost after epoch 490: 0.585668\n",
      "Cost after epoch 495: 0.596594\n",
      "Cost after epoch 500: 0.589713\n",
      "Cost after epoch 505: 0.586788\n",
      "Cost after epoch 510: 0.575419\n",
      "Cost after epoch 515: 0.576521\n",
      "Cost after epoch 520: 0.593974\n",
      "Cost after epoch 525: 0.591998\n",
      "Cost after epoch 530: 0.609762\n",
      "Cost after epoch 535: 0.578987\n",
      "Cost after epoch 540: 0.603254\n",
      "Cost after epoch 545: 0.596622\n",
      "Cost after epoch 550: 0.604670\n",
      "Cost after epoch 555: 0.621139\n",
      "Cost after epoch 560: 0.568892\n",
      "Cost after epoch 565: 0.559710\n",
      "Cost after epoch 570: 0.582795\n",
      "Cost after epoch 575: 0.585788\n",
      "Cost after epoch 580: 0.570510\n",
      "Cost after epoch 585: 0.565360\n",
      "Cost after epoch 590: 0.567950\n",
      "Cost after epoch 595: 0.583497\n",
      "Cost after epoch 600: 0.560851\n",
      "Cost after epoch 605: 0.614565\n",
      "Cost after epoch 610: 0.615194\n",
      "Cost after epoch 615: 0.601997\n",
      "Cost after epoch 620: 0.575940\n",
      "Cost after epoch 625: 0.574825\n",
      "Cost after epoch 630: 0.585809\n",
      "Cost after epoch 635: 0.575581\n",
      "Cost after epoch 640: 0.569069\n",
      "Cost after epoch 645: 0.549554\n",
      "Cost after epoch 650: 0.580182\n",
      "Cost after epoch 655: 0.585384\n",
      "Cost after epoch 660: 0.552809\n",
      "Cost after epoch 665: 0.582657\n",
      "Cost after epoch 670: 0.643403\n",
      "Cost after epoch 675: 0.581983\n",
      "Cost after epoch 680: 0.566386\n",
      "Cost after epoch 685: 0.563439\n",
      "Cost after epoch 690: 0.601344\n",
      "Cost after epoch 695: 0.576523\n",
      "Cost after epoch 700: 0.561698\n",
      "Cost after epoch 705: 0.569771\n",
      "Cost after epoch 710: 0.556212\n",
      "Cost after epoch 715: 0.563582\n",
      "Cost after epoch 720: 0.584926\n",
      "Cost after epoch 725: 0.563560\n",
      "Cost after epoch 730: 0.589549\n",
      "Cost after epoch 735: 0.569784\n",
      "Cost after epoch 740: 0.647427\n",
      "Cost after epoch 745: 0.578824\n",
      "Cost after epoch 750: 0.553782\n",
      "Cost after epoch 755: 0.583801\n",
      "Cost after epoch 760: 0.557395\n",
      "Cost after epoch 765: 0.581081\n",
      "Cost after epoch 770: 0.552482\n",
      "Cost after epoch 775: 0.548308\n",
      "Cost after epoch 780: 0.556427\n",
      "Cost after epoch 785: 0.570956\n",
      "Cost after epoch 790: 0.571175\n",
      "Cost after epoch 795: 0.580335\n",
      "Cost after epoch 800: 0.545352\n",
      "Cost after epoch 805: 0.583366\n",
      "Cost after epoch 810: 0.564790\n",
      "Cost after epoch 815: 0.556624\n",
      "Cost after epoch 820: 0.554501\n",
      "Cost after epoch 825: 0.558145\n",
      "Cost after epoch 830: 0.558796\n",
      "Cost after epoch 835: 0.540501\n",
      "Cost after epoch 840: 0.565403\n",
      "Cost after epoch 845: 0.567704\n",
      "Cost after epoch 850: 0.547307\n",
      "Cost after epoch 855: 0.571649\n",
      "Cost after epoch 860: 0.554392\n",
      "Cost after epoch 865: 0.564407\n",
      "Cost after epoch 870: 0.585398\n",
      "Cost after epoch 875: 0.560260\n",
      "Cost after epoch 880: 0.577623\n",
      "Cost after epoch 885: 0.571430\n",
      "Cost after epoch 890: 0.549793\n",
      "Cost after epoch 895: 0.589973\n",
      "Cost after epoch 900: 0.552798\n",
      "Cost after epoch 905: 0.575314\n",
      "Cost after epoch 910: 0.591349\n",
      "Cost after epoch 915: 0.539106\n",
      "Cost after epoch 920: 0.545778\n",
      "Cost after epoch 925: 0.569459\n",
      "Cost after epoch 930: 0.582149\n",
      "Cost after epoch 935: 0.551556\n",
      "Cost after epoch 940: 0.549456\n",
      "Cost after epoch 945: 0.591653\n",
      "Cost after epoch 950: 0.565134\n",
      "Cost after epoch 955: 0.551908\n",
      "Cost after epoch 960: 0.550120\n",
      "Cost after epoch 965: 0.554290\n",
      "Cost after epoch 970: 0.608143\n",
      "Cost after epoch 975: 0.551309\n",
      "Cost after epoch 980: 0.564265\n",
      "Cost after epoch 985: 0.553871\n",
      "Cost after epoch 990: 0.541979\n",
      "Cost after epoch 995: 0.544510\n"
     ]
    },
    {
     "data": {
      "image/png": "[encoded data removed]",
      "text/plain": [
       "<Figure size 432x288 with 1 Axes>"
      ]
     },
     "metadata": {},
     "output_type": "display_data"
    },
    {
     "name": "stdout",
     "output_type": "stream",
     "text": [
      "Tensor(\"Mean_1:0\", shape=(), dtype=float32)\n",
      "Train Accuracy: 0.8203704\n",
      "Test Accuracy: 0.675\n"
     ]
    }
   ],
   "source": [
    "_, _, parameters = model(X_train, Y_train.T, X_test, Y_test.T,num_epoches=1000)"
   ]
  },
  {
   "cell_type": "code",
   "execution_count": 30,
   "metadata": {
    "scrolled": true
   },
   "outputs": [
    {
     "name": "stdout",
     "output_type": "stream",
     "text": [
      "Cost after epoch 0: 1.971088\n",
      "Cost after epoch 5: 1.894469\n",
      "Cost after epoch 10: 1.881239\n",
      "Cost after epoch 15: 1.854496\n",
      "Cost after epoch 20: 1.777080\n",
      "Cost after epoch 25: 1.615358\n",
      "Cost after epoch 30: 1.404743\n",
      "Cost after epoch 35: 1.187280\n",
      "Cost after epoch 40: 1.048417\n",
      "Cost after epoch 45: 0.915120\n",
      "Cost after epoch 50: 0.839881\n",
      "Cost after epoch 55: 0.758703\n",
      "Cost after epoch 60: 0.701555\n",
      "Cost after epoch 65: 0.640890\n",
      "Cost after epoch 70: 0.615407\n",
      "Cost after epoch 75: 0.581381\n",
      "Cost after epoch 80: 0.555603\n",
      "Cost after epoch 85: 0.525676\n",
      "Cost after epoch 90: 0.492369\n",
      "Cost after epoch 95: 0.478995\n"
     ]
    },
    {
     "data": {
      "image/png": "[encoded data removed]",
      "text/plain": [
       "<Figure size 432x288 with 1 Axes>"
      ]
     },
     "metadata": {},
     "output_type": "display_data"
    },
    {
     "name": "stdout",
     "output_type": "stream",
     "text": [
      "Tensor(\"Mean_1:0\", shape=(), dtype=float32)\n",
      "Train Accuracy: 0.84166664\n",
      "Test Accuracy: 0.775\n"
     ]
    }
   ],
   "source": [
    "_, _, parameters = model(X_train, Y_train.T, X_test, Y_test.T,learning_rate=0.001,num_epoches=100)\n"
   ]
  },
  {
   "cell_type": "code",
   "execution_count": 32,
   "metadata": {
    "scrolled": true
   },
   "outputs": [
    {
     "name": "stdout",
     "output_type": "stream",
     "text": [
      "Cost after epoch 0: 2.012588\n",
      "Cost after epoch 5: 1.900229\n",
      "Cost after epoch 10: 1.888745\n",
      "Cost after epoch 15: 1.879187\n",
      "Cost after epoch 20: 1.863316\n",
      "Cost after epoch 25: 1.841501\n",
      "Cost after epoch 30: 1.798425\n",
      "Cost after epoch 35: 1.721196\n",
      "Cost after epoch 40: 1.601986\n",
      "Cost after epoch 45: 1.466162\n",
      "Cost after epoch 50: 1.354402\n",
      "Cost after epoch 55: 1.253490\n",
      "Cost after epoch 60: 1.174554\n",
      "Cost after epoch 65: 1.108251\n",
      "Cost after epoch 70: 1.049195\n",
      "Cost after epoch 75: 1.001917\n",
      "Cost after epoch 80: 0.953724\n",
      "Cost after epoch 85: 0.904982\n",
      "Cost after epoch 90: 0.863703\n",
      "Cost after epoch 95: 0.824888\n",
      "Cost after epoch 100: 0.794920\n",
      "Cost after epoch 105: 0.765818\n",
      "Cost after epoch 110: 0.735164\n",
      "Cost after epoch 115: 0.707815\n",
      "Cost after epoch 120: 0.697145\n",
      "Cost after epoch 125: 0.672554\n",
      "Cost after epoch 130: 0.637609\n",
      "Cost after epoch 135: 0.615952\n",
      "Cost after epoch 140: 0.596869\n",
      "Cost after epoch 145: 0.580574\n",
      "Cost after epoch 150: 0.565618\n",
      "Cost after epoch 155: 0.549066\n",
      "Cost after epoch 160: 0.527261\n",
      "Cost after epoch 165: 0.513305\n",
      "Cost after epoch 170: 0.505228\n",
      "Cost after epoch 175: 0.499763\n",
      "Cost after epoch 180: 0.474150\n",
      "Cost after epoch 185: 0.453903\n",
      "Cost after epoch 190: 0.442188\n",
      "Cost after epoch 195: 0.434590\n",
      "Cost after epoch 200: 0.422521\n",
      "Cost after epoch 205: 0.405277\n",
      "Cost after epoch 210: 0.397786\n",
      "Cost after epoch 215: 0.390180\n",
      "Cost after epoch 220: 0.381944\n",
      "Cost after epoch 225: 0.371674\n",
      "Cost after epoch 230: 0.362350\n",
      "Cost after epoch 235: 0.373036\n",
      "Cost after epoch 240: 0.354708\n",
      "Cost after epoch 245: 0.343717\n",
      "Cost after epoch 250: 0.334480\n",
      "Cost after epoch 255: 0.334418\n",
      "Cost after epoch 260: 0.333612\n",
      "Cost after epoch 265: 0.318673\n",
      "Cost after epoch 270: 0.312498\n",
      "Cost after epoch 275: 0.304601\n",
      "Cost after epoch 280: 0.299678\n",
      "Cost after epoch 285: 0.293521\n",
      "Cost after epoch 290: 0.289543\n",
      "Cost after epoch 295: 0.284581\n",
      "Cost after epoch 300: 0.280862\n",
      "Cost after epoch 305: 0.274608\n",
      "Cost after epoch 310: 0.267402\n",
      "Cost after epoch 315: 0.266796\n",
      "Cost after epoch 320: 0.264988\n",
      "Cost after epoch 325: 0.254151\n",
      "Cost after epoch 330: 0.252799\n",
      "Cost after epoch 335: 0.248548\n",
      "Cost after epoch 340: 0.244800\n",
      "Cost after epoch 345: 0.239745\n",
      "Cost after epoch 350: 0.236246\n",
      "Cost after epoch 355: 0.234550\n",
      "Cost after epoch 360: 0.226740\n",
      "Cost after epoch 365: 0.221430\n",
      "Cost after epoch 370: 0.223646\n",
      "Cost after epoch 375: 0.222796\n",
      "Cost after epoch 380: 0.213881\n",
      "Cost after epoch 385: 0.212395\n",
      "Cost after epoch 390: 0.202899\n",
      "Cost after epoch 395: 0.196037\n",
      "Cost after epoch 400: 0.194450\n",
      "Cost after epoch 405: 0.193443\n",
      "Cost after epoch 410: 0.188283\n",
      "Cost after epoch 415: 0.186248\n",
      "Cost after epoch 420: 0.182335\n",
      "Cost after epoch 425: 0.181807\n",
      "Cost after epoch 430: 0.174336\n",
      "Cost after epoch 435: 0.170097\n",
      "Cost after epoch 440: 0.171129\n",
      "Cost after epoch 445: 0.173093\n",
      "Cost after epoch 450: 0.162037\n",
      "Cost after epoch 455: 0.165988\n",
      "Cost after epoch 460: 0.165984\n",
      "Cost after epoch 465: 0.157107\n",
      "Cost after epoch 470: 0.149973\n",
      "Cost after epoch 475: 0.152606\n",
      "Cost after epoch 480: 0.152172\n",
      "Cost after epoch 485: 0.148666\n",
      "Cost after epoch 490: 0.141101\n",
      "Cost after epoch 495: 0.140756\n",
      "Cost after epoch 500: 0.140174\n",
      "Cost after epoch 505: 0.135755\n",
      "Cost after epoch 510: 0.130239\n",
      "Cost after epoch 515: 0.128924\n",
      "Cost after epoch 520: 0.129453\n",
      "Cost after epoch 525: 0.127220\n",
      "Cost after epoch 530: 0.128916\n",
      "Cost after epoch 535: 0.122323\n",
      "Cost after epoch 540: 0.116153\n",
      "Cost after epoch 545: 0.117820\n",
      "Cost after epoch 550: 0.117763\n",
      "Cost after epoch 555: 0.116264\n",
      "Cost after epoch 560: 0.112022\n",
      "Cost after epoch 565: 0.108560\n",
      "Cost after epoch 570: 0.106787\n",
      "Cost after epoch 575: 0.106526\n",
      "Cost after epoch 580: 0.101861\n",
      "Cost after epoch 585: 0.099882\n",
      "Cost after epoch 590: 0.098261\n",
      "Cost after epoch 595: 0.095864\n",
      "Cost after epoch 600: 0.098312\n",
      "Cost after epoch 605: 0.097285\n",
      "Cost after epoch 610: 0.092454\n",
      "Cost after epoch 615: 0.092353\n",
      "Cost after epoch 620: 0.087069\n",
      "Cost after epoch 625: 0.088738\n",
      "Cost after epoch 630: 0.084467\n",
      "Cost after epoch 635: 0.083977\n",
      "Cost after epoch 640: 0.085632\n",
      "Cost after epoch 645: 0.083472\n",
      "Cost after epoch 650: 0.078574\n",
      "Cost after epoch 655: 0.077202\n",
      "Cost after epoch 660: 0.074800\n",
      "Cost after epoch 665: 0.076496\n",
      "Cost after epoch 670: 0.074048\n",
      "Cost after epoch 675: 0.071460\n",
      "Cost after epoch 680: 0.073961\n",
      "Cost after epoch 685: 0.069140\n",
      "Cost after epoch 690: 0.068739\n",
      "Cost after epoch 695: 0.069926\n",
      "Cost after epoch 700: 0.068964\n",
      "Cost after epoch 705: 0.063637\n",
      "Cost after epoch 710: 0.062287\n",
      "Cost after epoch 715: 0.073320\n",
      "Cost after epoch 720: 0.061572\n",
      "Cost after epoch 725: 0.060140\n",
      "Cost after epoch 730: 0.058902\n",
      "Cost after epoch 735: 0.060992\n",
      "Cost after epoch 740: 0.057324\n",
      "Cost after epoch 745: 0.057009\n",
      "Cost after epoch 750: 0.053751\n",
      "Cost after epoch 755: 0.054590\n",
      "Cost after epoch 760: 0.051944\n",
      "Cost after epoch 765: 0.050814\n",
      "Cost after epoch 770: 0.050528\n",
      "Cost after epoch 775: 0.051826\n",
      "Cost after epoch 780: 0.049376\n",
      "Cost after epoch 785: 0.047490\n",
      "Cost after epoch 790: 0.045750\n",
      "Cost after epoch 795: 0.047437\n",
      "Cost after epoch 800: 0.044014\n",
      "Cost after epoch 805: 0.046118\n",
      "Cost after epoch 810: 0.044530\n",
      "Cost after epoch 815: 0.047713\n",
      "Cost after epoch 820: 0.042031\n",
      "Cost after epoch 825: 0.041540\n",
      "Cost after epoch 830: 0.043406\n",
      "Cost after epoch 835: 0.038815\n",
      "Cost after epoch 840: 0.040572\n",
      "Cost after epoch 845: 0.038033\n",
      "Cost after epoch 850: 0.037376\n",
      "Cost after epoch 855: 0.035290\n",
      "Cost after epoch 860: 0.034269\n",
      "Cost after epoch 865: 0.039047\n",
      "Cost after epoch 870: 0.034698\n",
      "Cost after epoch 875: 0.032034\n",
      "Cost after epoch 880: 0.033361\n",
      "Cost after epoch 885: 0.032178\n",
      "Cost after epoch 890: 0.031815\n",
      "Cost after epoch 895: 0.031382\n",
      "Cost after epoch 900: 0.031997\n",
      "Cost after epoch 905: 0.029749\n",
      "Cost after epoch 910: 0.028688\n",
      "Cost after epoch 915: 0.030225\n",
      "Cost after epoch 920: 0.028349\n",
      "Cost after epoch 925: 0.028008\n",
      "Cost after epoch 930: 0.026766\n",
      "Cost after epoch 935: 0.029711\n",
      "Cost after epoch 940: 0.028621\n",
      "Cost after epoch 945: 0.026359\n",
      "Cost after epoch 950: 0.025108\n",
      "Cost after epoch 955: 0.024348\n",
      "Cost after epoch 960: 0.026426\n",
      "Cost after epoch 965: 0.024691\n",
      "Cost after epoch 970: 0.023692\n",
      "Cost after epoch 975: 0.024286\n",
      "Cost after epoch 980: 0.022146\n",
      "Cost after epoch 985: 0.021179\n",
      "Cost after epoch 990: 0.023692\n",
      "Cost after epoch 995: 0.020216\n"
     ]
    },
    {
     "data": {
      "image/png": "[encoded data removed]",
      "text/plain": [
       "<Figure size 432x288 with 1 Axes>"
      ]
     },
     "metadata": {},
     "output_type": "display_data"
    },
    {
     "name": "stdout",
     "output_type": "stream",
     "text": [
      "Tensor(\"Mean_1:0\", shape=(), dtype=float32)\n",
      "Train Accuracy: 1.0\n",
      "Test Accuracy: 0.8666667\n"
     ]
    }
   ],
   "source": [
    "_, _, parameters = model(X_train, Y_train.T, X_test, Y_test.T,learning_rate=0.0005,num_epoches=1000)"
   ]
  },
  {
   "cell_type": "code",
   "execution_count": null,
   "metadata": {
    "collapsed": true
   },
   "outputs": [],
   "source": []
  },
  {
   "cell_type": "code",
   "execution_count": null,
   "metadata": {
    "collapsed": true
   },
   "outputs": [],
   "source": []
  },
  {
   "cell_type": "code",
   "execution_count": null,
   "metadata": {
    "collapsed": true
   },
   "outputs": [],
   "source": []
  },
  {
   "cell_type": "code",
   "execution_count": null,
   "metadata": {
    "collapsed": true
   },
   "outputs": [],
   "source": []
  }
 ],
 "metadata": {
  "kernelspec": {
   "display_name": "Python 3",
   "language": "python",
   "name": "python3"
  },
  "language_info": {
   "codemirror_mode": {
    "name": "ipython",
    "version": 3
   },
   "file_extension": ".py",
   "mimetype": "text/x-python",
   "name": "python",
   "nbconvert_exporter": "python",
   "pygments_lexer": "ipython3",
   "version": "3.6.3"
  }
 },
 "nbformat": 4,
 "nbformat_minor": 2
}
