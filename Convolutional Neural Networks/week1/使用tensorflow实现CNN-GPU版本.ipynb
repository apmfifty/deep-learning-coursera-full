{
 "cells": [
  {
   "cell_type": "markdown",
   "metadata": {},
   "source": [
    "# 使用tensorflow实现CNN"
   ]
  },
  {
   "cell_type": "markdown",
   "metadata": {},
   "source": [
    "## 0 开始代码前调通GPU的使用"
   ]
  },
  {
   "cell_type": "code",
   "execution_count": 1,
   "metadata": {
    "collapsed": false
   },
   "outputs": [
    {
     "name": "stdout",
     "output_type": "stream",
     "text": [
      "[[22. 28.]\n",
      " [49. 64.]]\n"
     ]
    }
   ],
   "source": [
    "import tensorflow as tf\n",
    "\n",
    "# Creates a graph.\n",
    "with tf.device('/device:GPU:0'):\n",
    "  a = tf.constant([1.0, 2.0, 3.0, 4.0, 5.0, 6.0], shape=[2, 3], name='a')\n",
    "  b = tf.constant([1.0, 2.0, 3.0, 4.0, 5.0, 6.0], shape=[3, 2], name='b')\n",
    "  c = tf.matmul(a, b)\n",
    "# Creates a session with log_device_placement set to True.\n",
    "sess = tf.Session(config=tf.ConfigProto(log_device_placement=True))\n",
    "# Runs the op.\n",
    "print(sess.run(c))"
   ]
  },
  {
   "cell_type": "code",
   "execution_count": 2,
   "metadata": {
    "collapsed": true
   },
   "outputs": [],
   "source": [
    "import math\n",
    "import numpy as np\n",
    "import h5py\n",
    "import matplotlib.pyplot as plt\n",
    "import scipy\n",
    "from PIL import Image\n",
    "from scipy import ndimage\n",
    "import tensorflow as tf\n",
    "from tensorflow.python.framework import ops\n",
    "%matplotlib inline\n",
    "np.random.seed(1)\n",
    "\n",
    "from cnn_utils import  load_dataset"
   ]
  },
  {
   "cell_type": "code",
   "execution_count": 3,
   "metadata": {
    "collapsed": false
   },
   "outputs": [
    {
     "name": "stdout",
     "output_type": "stream",
     "text": [
      "y=0\n"
     ]
    },
    {
     "data": {
      "image/png": "[encoded data removed]",
      "text/plain": [
       "<matplotlib.figure.Figure at 0x7ff5d8517cc0>"
      ]
     },
     "metadata": {},
     "output_type": "display_data"
    }
   ],
   "source": [
    "# Loading the data (signs)\n",
    "X_train_orig, Y_train_orig, X_test_orig, Y_test_orig, classes = load_dataset()\n",
    "\n",
    "index=1\n",
    "plt.imshow(X_train_orig[index])\n",
    "print(\"y={}\".format(np.squeeze(Y_train_orig[:,index])))"
   ]
  },
  {
   "cell_type": "markdown",
   "metadata": {},
   "source": [
    "- one-hot编码用的是 `np.eye(C)[Y.reshape(-1)].T`代码，原理是numpy 切片; 非常经典的用法\n"
   ]
  },
  {
   "cell_type": "code",
   "execution_count": 4,
   "metadata": {
    "collapsed": false
   },
   "outputs": [
    {
     "name": "stdout",
     "output_type": "stream",
     "text": [
      "(6, 1080)\n",
      "(6, 120)\n"
     ]
    }
   ],
   "source": [
    "X_train = X_train_orig/255.\n",
    "X_test = X_test_orig/255.\n",
    "\n",
    "Y_train=np.eye(6)[Y_train_orig.reshape(-1)].T\n",
    "print(Y_train.shape)\n",
    "Y_test=np.eye(6)[Y_test_orig.reshape(-1)].T\n",
    "print(Y_test.shape)"
   ]
  },
  {
   "cell_type": "code",
   "execution_count": 9,
   "metadata": {
    "collapsed": false
   },
   "outputs": [
    {
     "name": "stdout",
     "output_type": "stream",
     "text": [
      "number of training examples = 1080\n",
      "number of test examples = 120\n",
      "X_train shape: (1080, 64, 64, 3)\n",
      "Y_train shape: (6, 1080)\n",
      "X_test shape: (120, 64, 64, 3)\n",
      "Y_test shape: (6, 120)\n"
     ]
    }
   ],
   "source": [
    "print (\"number of training examples = \" + str(X_train.shape[0]))\n",
    "print (\"number of test examples = \" + str(X_test.shape[0]))\n",
    "print (\"X_train shape: \" + str(X_train.shape))\n",
    "print (\"Y_train shape: \" + str(Y_train.shape))\n",
    "print (\"X_test shape: \" + str(X_test.shape))\n",
    "print (\"Y_test shape: \" + str(Y_test.shape))\n"
   ]
  },
  {
   "cell_type": "markdown",
   "metadata": {},
   "source": [
    "# 1 place holder\n",
    "\n",
    "- Y [None,n_y]"
   ]
  },
  {
   "cell_type": "code",
   "execution_count": 10,
   "metadata": {
    "collapsed": true
   },
   "outputs": [],
   "source": [
    "def create_placeholders(n_H0,n_W0,n_C0,n_y):\n",
    "    \"\"\"\n",
    "    \n",
    "\n",
    "    Parameters\n",
    "    ----------\n",
    "    n_H0: \n",
    "    n_W0:\n",
    "    n_C0:\n",
    "    n_y: \n",
    "\n",
    "    Returns\n",
    "    -------\n",
    "    X: (None,n_H0,n_W0,n_C0)\n",
    "    Y: (None,n_y)\n",
    "     \n",
    "    \"\"\"\n",
    "    X=tf.placeholder(tf.float32,shape=(None,n_H0,n_W0,n_C0))\n",
    "    Y=tf.placeholder(tf.float32,shape=(None,n_y))\n",
    "    return X,Y\n",
    "    "
   ]
  },
  {
   "cell_type": "code",
   "execution_count": 11,
   "metadata": {
    "collapsed": false
   },
   "outputs": [
    {
     "name": "stdout",
     "output_type": "stream",
     "text": [
      "X = Tensor(\"Placeholder:0\", shape=(?, 64, 64, 3), dtype=float32)\n",
      "Y = Tensor(\"Placeholder_1:0\", shape=(?, 6), dtype=float32)\n"
     ]
    }
   ],
   "source": [
    "X, Y = create_placeholders(64, 64, 3, 6)\n",
    "print (\"X = \" + str(X))\n",
    "print (\"Y = \" + str(Y))"
   ]
  },
  {
   "cell_type": "markdown",
   "metadata": {},
   "source": [
    "## 2 初始化参数\n",
    "\n",
    "- eval方法可以用来观察值"
   ]
  },
  {
   "cell_type": "code",
   "execution_count": 12,
   "metadata": {
    "collapsed": true
   },
   "outputs": [],
   "source": [
    "def initialize_parameters():\n",
    "    \"\"\"\n",
    "    W1 [4，4，3,8]\n",
    "    W2 [2,2,8,16]\n",
    "\n",
    "    Parameters\n",
    "    ----------\n",
    "     : \n",
    "\n",
    "    Returns\n",
    "    -------\n",
    "    Parameters : dict W1 W2\n",
    "     \n",
    "    \"\"\"    \n",
    "    tf.set_random_seed(1)\n",
    "    \n",
    "    W1=tf.get_variable(name='W1',shape=[4,4,3,8],initializer=tf.contrib.layers.xavier_initializer(seed=0))\n",
    "    W2=tf.get_variable(name='W2',shape=[2,2,8,16],initializer=tf.contrib.layers.xavier_initializer(seed=0))    \n",
    "    parameters={\"W1\":W1,\"W2\":W2}\n",
    "    return parameters"
   ]
  },
  {
   "cell_type": "code",
   "execution_count": 13,
   "metadata": {
    "collapsed": false
   },
   "outputs": [
    {
     "name": "stdout",
     "output_type": "stream",
     "text": [
      "W1 = [ 0.00131723  0.1417614  -0.04434952  0.09197326  0.14984085 -0.03514394\n",
      " -0.06847463  0.05245192]\n",
      "W2 = [-0.08566415  0.17750949  0.11974221  0.16773748 -0.0830943  -0.08058\n",
      " -0.00577033 -0.14643836  0.24162132 -0.05857408 -0.19055021  0.1345228\n",
      " -0.22779644 -0.1601823  -0.16117483 -0.10286498]\n"
     ]
    }
   ],
   "source": [
    "tf.reset_default_graph()\n",
    "with tf.Session() as sess:\n",
    "    parameters=initialize_parameters()\n",
    "    init=tf.global_variables_initializer()\n",
    "    sess.run(init)\n",
    "    print(\"W1 = \" + str(parameters['W1'].eval()[1,1,1]))\n",
    "    print(\"W2 = \" + str(parameters['W2'].eval()[1,1,1]))\n",
    "    \n"
   ]
  },
  {
   "cell_type": "markdown",
   "metadata": {},
   "source": [
    "## 正向传播\n",
    "- 【bug1】strides=(1,4,4,1)\n",
    "\n",
    "```\n",
    "~/anaconda3/lib/python3.6/site-packages/tensorflow/python/ops/gen_nn_ops.py in conv2d(input, filter, strides, padding, use_cudnn_on_gpu, data_format, dilations, name)\n",
    "    936       raise TypeError(\n",
    "    937           \"Expected list for 'strides' argument to \"\n",
    "--> 938           \"'conv2d' Op, not %r.\" % strides)\n",
    "    939     strides = [_execute.make_int(_i, \"strides\") for _i in strides]\n",
    "    940     padding = _execute.make_str(padding, \"padding\")\n",
    "\n",
    "TypeError: Expected list for 'strides' argument to 'conv2d' Op, not 1.\n",
    "\n",
    "```\n",
    "\n",
    "- 【bug2】要用max_pool 而不是pool\n",
    "\n",
    "```\n",
    "<ipython-input-111-07ee245ebd1a> in forwar_propagation(X, parameters)\n",
    "     24     Z2=tf.nn.conv2d(input=P1,filter=W2,strides=(1,4,4,1),padding='SAME')\n",
    "     25     A2=tf.nn.relu(Z2)\n",
    "---> 26     P2=tf.nn.pool(input=A2,window_shape=(4,4),strides=(1,4,4,1),pooling_type='MAX',padding='SAME')\n",
    "     27 \n",
    "```\n",
    "\n",
    "- 【bug3】   ` Z3=tf.contrib.layers.fully_connected(P2,num_outputs=6,activation_fn=None)`中\n",
    "`activation_fn=None`不可缺少"
   ]
  },
  {
   "cell_type": "markdown",
   "metadata": {},
   "source": [
    "\n",
    "#### 要能够把完整过程推导出来"
   ]
  },
  {
   "cell_type": "code",
   "execution_count": 14,
   "metadata": {
    "collapsed": true
   },
   "outputs": [],
   "source": [
    "def forward_propagation(X,parameters):\n",
    "    \"\"\"\n",
    "    正向传播（conv-relu-pool）\n",
    "    Parameters\n",
    "    ----------\n",
    "    X: (m,n_H0,n_W0,n_C0)\n",
    "    parameters :\n",
    "        W1 [4，4，3,8]\n",
    "        W2 [2,2,8,16]\n",
    "                    \n",
    "    Returns\n",
    "    -------\n",
    "    Z : \n",
    "     \n",
    "    \"\"\"    \n",
    "    \n",
    "    W1=parameters['W1']\n",
    "    W2=parameters['W2']    \n",
    "    \n",
    "    Z1=tf.nn.conv2d(input=X,filter=W1,strides=[1,1,1,1],padding='SAME')\n",
    "    A1=tf.nn.relu(Z1)\n",
    "    P1=tf.nn.max_pool(A1,ksize=[1,8,8,1],strides=[1,8,8,1],padding='SAME')\n",
    "    \n",
    "    Z2=tf.nn.conv2d(input=P1,filter=W2,strides=(1,1,1,1),padding='SAME')\n",
    "    A2=tf.nn.relu(Z2)\n",
    "    P2=tf.nn.max_pool(A2,ksize=[1,4,4,1],strides=(1,4,4,1),padding='SAME')\n",
    "    P2= tf.contrib.layers.flatten(P2)\n",
    "    \n",
    "    Z3=tf.contrib.layers.fully_connected(P2,num_outputs=6,activation_fn=None)\n",
    "    return Z3\n"
   ]
  },
  {
   "cell_type": "code",
   "execution_count": 15,
   "metadata": {
    "collapsed": false
   },
   "outputs": [
    {
     "name": "stdout",
     "output_type": "stream",
     "text": [
      "Z3 = [[-0.4467027  -1.572088   -1.5304927  -2.3101306  -1.2910441   0.46852106]\n",
      " [-0.17601559 -1.5797201  -1.473701   -2.6167207  -1.0081062   0.5747784 ]]\n"
     ]
    }
   ],
   "source": [
    "tf.reset_default_graph()\n",
    "with tf.Session() as sess:\n",
    "    np.random.seed(1)\n",
    "    X,Y=create_placeholders(64,64,3,6)\n",
    "    parameters=initialize_parameters()\n",
    "    Z3=forward_propagation(X,parameters)\n",
    "    init=tf.global_variables_initializer()\n",
    "    sess.run(init)    \n",
    "    a=sess.run(Z3,feed_dict={X:np.random.randn(2,64,64,3),Y:np.random.randn(2,6)})\n",
    "    print(\"Z3 = \" + str(a))"
   ]
  },
  {
   "cell_type": "markdown",
   "metadata": {},
   "source": [
    "## 3 compute cost\n",
    "\n",
    "- labels shape= [batch_size, num_classes]\n"
   ]
  },
  {
   "cell_type": "code",
   "execution_count": 18,
   "metadata": {
    "collapsed": true
   },
   "outputs": [],
   "source": [
    "def compute_cost(Z3,Y):\n",
    "    cost=tf.reduce_mean(tf.nn.softmax_cross_entropy_with_logits(logits=Z3,labels=Y))\n",
    "    return cost\n",
    "    \n"
   ]
  },
  {
   "cell_type": "code",
   "execution_count": 19,
   "metadata": {
    "collapsed": false
   },
   "outputs": [
    {
     "name": "stdout",
     "output_type": "stream",
     "text": [
      "Z3= Tensor(\"fully_connected/BiasAdd:0\", shape=(?, 6), dtype=float32)\n",
      "Y= Tensor(\"Placeholder_1:0\", shape=(?, 6), dtype=float32)\n",
      "cost = 2.91034\n"
     ]
    }
   ],
   "source": [
    "tf.reset_default_graph()\n",
    "\n",
    "with tf.Session() as sess:\n",
    "    np.random.seed(1)\n",
    "    X, Y = create_placeholders(64, 64, 3, 6)\n",
    "    parameters = initialize_parameters()\n",
    "    Z3 = forward_propagation(X, parameters)\n",
    "    print(\"Z3=\",Z3)\n",
    "    print(\"Y=\",Y)\n",
    "    cost = compute_cost(Z3, Y)\n",
    "    \n",
    "    init = tf.global_variables_initializer()\n",
    "    sess.run(init)\n",
    "    a = sess.run(cost, {X: np.random.randn(4,64,64,3), Y: np.random.randn(4,6)})\n",
    "    print(\"cost = \" + str(a))    \n",
    "    "
   ]
  },
  {
   "cell_type": "markdown",
   "metadata": {},
   "source": [
    "## 4 Model\n",
    "\n",
    "- 【bug】<span style=\"color:red;font-weight:bold\"> IndexError: index 858 is out of bounds for axis 0 with size 6</span>\n",
    "    - 原因： 输入数据维度不对，要进行维度检查\n",
    "\n",
    "```\n",
    "<ipython-input-80-3ede693b7bef> in model(X_train, Y_train, X_test, Y_test, learning_rate, num_epoches, minibatch_size, print_cost)\n",
    "     26             num_minibatches=int(m/minibatch_size)\n",
    "     27             seed+=1\n",
    "---> 28             minibatches=random_mini_batches(X_train,Y_train,minibatch_size,seed)\n",
    "     29 \n",
    "     30             for minibatch in minibatches:\n",
    "\n",
    "~/python-workspace/deep-learning-coursera-full/Convolutional Neural Networks/week1/cnn_utils.py in random_mini_batches(X, Y, mini_batch_size, seed)\n",
    "     44     permutation = list(np.random.permutation(m))\n",
    "     45     shuffled_X = X[permutation,:,:,:]\n",
    "---> 46     shuffled_Y = Y[permutation,:]\n",
    "     47 \n",
    "     48     # Step 2: Partition (shuffled_X, shuffled_Y). Minus the end case.\n",
    "\n",
    "IndexError: index 858 is out of bounds for axis 0 with size 6\n",
    "\n",
    "```\n",
    "\n",
    "\n",
    "- [bug] <span style=\"color:red;font-weight:bold\"> cost没有下降</span>\n",
    "    - 检查原因：之前遇到过问题：计算损失函数时行列颠倒了\n",
    "    - 发现问题：打印损失函数的代码放在了epoch内部，这是有问题的\n",
    "\n",
    "```\n",
    "Cost after epoch 0: 0.124256\n",
    "Cost after epoch 0: 0.235755\n",
    "Cost after epoch 0: 0.346379\n",
    "Cost after epoch 0: 0.460018\n",
    "Cost after epoch 0: 0.572946\n",
    "Cost after epoch 0: 0.686253\n",
    "Cost after epoch 0: 0.799503\n",
    "Cost after epoch 0: 0.911139\n",
    "Cost after epoch 0: 1.023798\n",
    "Cost after epoch 0: 1.136514\n",
    "Cost after epoch 0: 1.248791\n",
    "Cost after epoch 0: 1.360714\n",
    "Cost after epoch 0: 1.472453\n",
    "Cost after epoch 0: 1.584704\n",
    "```\n",
    "\n",
    "- [方法] <span style=\"color:red;font-weight:bold\">计算softmax准确率的方法 </span>\n",
    "\n",
    "```\n",
    "        # Calculate the correct predictions\n",
    "        predict_op = tf.argmax(Z3, 1)\n",
    "        correct_prediction = tf.equal(predict_op, tf.argmax(Y, 1))\n",
    "        \n",
    "        # Calculate accuracy on the test set\n",
    "        accuracy = tf.reduce_mean(tf.cast(correct_prediction, \"float\"))\n",
    "\n",
    "```\n",
    "\n",
    "- 学习率对结果影响很大，过大的学习率导致下降非常缓慢，且比较容易陷入瓶颈期"
   ]
  },
  {
   "cell_type": "code",
   "execution_count": 24,
   "metadata": {
    "collapsed": true
   },
   "outputs": [],
   "source": [
    "from cnn_utils import random_mini_batches\n",
    "def model(X_train,Y_train,X_test,Y_test,learning_rate=0.009,num_epoches=100,minibatch_size=64,print_cost=True):    \n",
    "    \"\"\"\n",
    "    CONV2D-->RELU-->MAXPOOl-->CON2D-->RELU-->MAXPOOL-->FLATTEN-->FC\n",
    "    \n",
    "\n",
    "    Parameters\n",
    "    ----------\n",
    "    X_train : (None, 64,64,3)\n",
    "    Y_train : (None, n_y=6)\n",
    "    X_test: (None, 64,64,3)\n",
    "    Y_test:(None, n_y=6)\n",
    "\n",
    "    Returns\n",
    "    -------\n",
    "     : \n",
    "     \n",
    "    \"\"\"    \n",
    "    \n",
    "    ops.reset_default_graph()\n",
    "    tf.set_random_seed(1)\n",
    "    seed=3\n",
    "    (m,n_H0,n_W0,n_C0)=X_train.shape\n",
    "    n_y=Y_train.shape[1]\n",
    "    costs=[]\n",
    "\n",
    "    X,Y=create_placeholders(n_H0, n_W0, n_C0, n_y)\n",
    "\n",
    "    parameters=initialize_parameters()\n",
    "\n",
    "    Z3=forward_propagation(X, parameters)\n",
    "\n",
    "    cost=compute_cost(Z3,Y)\n",
    "\n",
    "    optimizer=tf.train.AdamOptimizer(learning_rate=learning_rate).minimize(cost)\n",
    "\n",
    "    init=tf.global_variables_initializer()\n",
    "\n",
    "    with  tf.Session(config=tf.ConfigProto(log_device_placement=True)) as sess:\n",
    "        sess.run(init)    \n",
    "        for epoch in range(num_epoches):\n",
    "\n",
    "            minibatch_cost=0.\n",
    "            num_minibatches=int(m/minibatch_size)\n",
    "            seed+=1            \n",
    "            minibatches=random_mini_batches(X_train,Y_train,minibatch_size,seed)\n",
    "\n",
    "            for minibatch in minibatches:\n",
    "                (minibatch_X,minibatch_Y)=minibatch\n",
    "                _,temp_cost=sess.run([optimizer,cost],feed_dict={X:minibatch_X,Y:minibatch_Y})\n",
    "                minibatch_cost+=temp_cost/num_minibatches\n",
    "\n",
    "\n",
    "\n",
    "            # Print the cost every epoch\n",
    "            if print_cost == True and epoch % 5 == 0:\n",
    "                print (\"Cost after epoch %i: %f\" % (epoch, minibatch_cost))\n",
    "            if print_cost == True and epoch % 1 == 0:\n",
    "                costs.append(minibatch_cost)\n",
    "\n",
    "        \n",
    "        # plot the cost\n",
    "        plt.plot(np.squeeze(costs))\n",
    "        plt.ylabel('cost')\n",
    "        plt.xlabel('iterations (per tens)')\n",
    "        plt.title(\"Learning rate =\" + str(learning_rate))\n",
    "        plt.show()\n",
    "\n",
    "        # Calculate the correct predictions\n",
    "        predict_op = tf.argmax(Z3, 1)\n",
    "        correct_prediction = tf.equal(predict_op, tf.argmax(Y, 1))\n",
    "        \n",
    "        # Calculate accuracy on the test set\n",
    "        accuracy = tf.reduce_mean(tf.cast(correct_prediction, \"float\"))\n",
    "        print(accuracy)\n",
    "        train_accuracy = accuracy.eval({X: X_train, Y: Y_train})\n",
    "        test_accuracy = accuracy.eval({X: X_test, Y: Y_test})\n",
    "        print(\"Train Accuracy:\", train_accuracy)\n",
    "        print(\"Test Accuracy:\", test_accuracy)\n",
    "                \n",
    "        return train_accuracy, test_accuracy, parameters            \n",
    "    "
   ]
  },
  {
   "cell_type": "markdown",
   "metadata": {},
   "source": [
    "- [总结] 当梯度下降学习率过大时，会出现较大的抖动\n",
    "- 使用GPU确实可以非常快的加速训练过程\n",
    "- tensorflow不同版本的会略有差异，安装了 1.2.0后发现100epoch就可以降到非常低的损失"
   ]
  },
  {
   "cell_type": "code",
   "execution_count": 27,
   "metadata": {
    "collapsed": false,
    "scrolled": true
   },
   "outputs": [
    {
     "name": "stdout",
     "output_type": "stream",
     "text": [
      "Cost after epoch 0: 1.917920\n",
      "Cost after epoch 5: 1.540033\n",
      "Cost after epoch 10: 0.992298\n",
      "Cost after epoch 15: 0.839653\n",
      "Cost after epoch 20: 0.710836\n",
      "Cost after epoch 25: 0.632729\n",
      "Cost after epoch 30: 0.577552\n",
      "Cost after epoch 35: 0.575659\n",
      "Cost after epoch 40: 0.519009\n",
      "Cost after epoch 45: 0.501021\n",
      "Cost after epoch 50: 0.461009\n",
      "Cost after epoch 55: 0.409495\n",
      "Cost after epoch 60: 0.438418\n",
      "Cost after epoch 65: 0.425703\n",
      "Cost after epoch 70: 0.457151\n",
      "Cost after epoch 75: 0.402885\n",
      "Cost after epoch 80: 0.365937\n",
      "Cost after epoch 85: 0.366628\n",
      "Cost after epoch 90: 0.331412\n",
      "Cost after epoch 95: 0.340995\n",
      "Cost after epoch 100: 0.336570\n",
      "Cost after epoch 105: 0.312758\n",
      "Cost after epoch 110: 0.361475\n",
      "Cost after epoch 115: 0.295021\n",
      "Cost after epoch 120: 0.284120\n",
      "Cost after epoch 125: 0.312697\n",
      "Cost after epoch 130: 0.331823\n",
      "Cost after epoch 135: 0.255904\n",
      "Cost after epoch 140: 0.310225\n",
      "Cost after epoch 145: 0.240415\n",
      "Cost after epoch 150: 0.244950\n",
      "Cost after epoch 155: 0.267117\n",
      "Cost after epoch 160: 0.235310\n",
      "Cost after epoch 165: 0.226583\n",
      "Cost after epoch 170: 0.210748\n",
      "Cost after epoch 175: 0.261070\n",
      "Cost after epoch 180: 0.224248\n",
      "Cost after epoch 185: 0.216759\n",
      "Cost after epoch 190: 0.220636\n",
      "Cost after epoch 195: 0.188553\n",
      "Cost after epoch 200: 0.221889\n",
      "Cost after epoch 205: 0.166872\n",
      "Cost after epoch 210: 0.200308\n",
      "Cost after epoch 215: 0.208920\n",
      "Cost after epoch 220: 0.181304\n",
      "Cost after epoch 225: 0.196585\n",
      "Cost after epoch 230: 0.213347\n",
      "Cost after epoch 235: 0.231987\n",
      "Cost after epoch 240: 0.146438\n",
      "Cost after epoch 245: 0.211989\n",
      "Cost after epoch 250: 0.166112\n",
      "Cost after epoch 255: 0.135136\n",
      "Cost after epoch 260: 0.229238\n",
      "Cost after epoch 265: 0.182681\n",
      "Cost after epoch 270: 0.163235\n",
      "Cost after epoch 275: 0.141795\n",
      "Cost after epoch 280: 0.140447\n",
      "Cost after epoch 285: 0.136627\n",
      "Cost after epoch 290: 0.271177\n",
      "Cost after epoch 295: 0.182991\n",
      "Cost after epoch 300: 0.122606\n",
      "Cost after epoch 305: 0.146766\n",
      "Cost after epoch 310: 0.121301\n",
      "Cost after epoch 315: 0.130579\n",
      "Cost after epoch 320: 0.112467\n",
      "Cost after epoch 325: 0.145925\n",
      "Cost after epoch 330: 0.109011\n",
      "Cost after epoch 335: 0.129779\n",
      "Cost after epoch 340: 0.122854\n",
      "Cost after epoch 345: 0.124101\n",
      "Cost after epoch 350: 0.142500\n",
      "Cost after epoch 355: 0.202049\n",
      "Cost after epoch 360: 0.100097\n",
      "Cost after epoch 365: 0.098370\n",
      "Cost after epoch 370: 0.119004\n",
      "Cost after epoch 375: 0.142252\n",
      "Cost after epoch 380: 0.091535\n",
      "Cost after epoch 385: 0.117839\n",
      "Cost after epoch 390: 0.078062\n",
      "Cost after epoch 395: 0.062266\n",
      "Cost after epoch 400: 0.115507\n",
      "Cost after epoch 405: 0.065220\n",
      "Cost after epoch 410: 0.221478\n",
      "Cost after epoch 415: 0.085466\n",
      "Cost after epoch 420: 0.112189\n",
      "Cost after epoch 425: 0.096264\n",
      "Cost after epoch 430: 0.100706\n",
      "Cost after epoch 435: 0.059933\n",
      "Cost after epoch 440: 0.133238\n",
      "Cost after epoch 445: 0.065575\n",
      "Cost after epoch 450: 0.094927\n",
      "Cost after epoch 455: 0.118364\n",
      "Cost after epoch 460: 0.068188\n",
      "Cost after epoch 465: 0.098572\n",
      "Cost after epoch 470: 0.112007\n",
      "Cost after epoch 475: 0.075370\n",
      "Cost after epoch 480: 0.051117\n",
      "Cost after epoch 485: 0.090247\n",
      "Cost after epoch 490: 0.101869\n",
      "Cost after epoch 495: 0.094530\n"
     ]
    },
    {
     "data": {
      "image/png": "[encoded data removed]",
      "text/plain": [
       "<matplotlib.figure.Figure at 0x7f852f46ba20>"
      ]
     },
     "metadata": {},
     "output_type": "display_data"
    },
    {
     "name": "stdout",
     "output_type": "stream",
     "text": [
      "Tensor(\"Mean_1:0\", shape=(), dtype=float32)\n",
      "Train Accuracy: 0.98703706\n",
      "Test Accuracy: 0.84166676\n"
     ]
    }
   ],
   "source": [
    "_, _, parameters = model(X_train, Y_train.T, X_test, Y_test.T,num_epoches=500)\n"
   ]
  },
  {
   "cell_type": "code",
   "execution_count": 28,
   "metadata": {
    "collapsed": false,
    "scrolled": true
   },
   "outputs": [
    {
     "name": "stdout",
     "output_type": "stream",
     "text": [
      "Cost after epoch 0: 1.920183\n",
      "Cost after epoch 5: 1.885450\n",
      "Cost after epoch 10: 1.849220\n",
      "Cost after epoch 15: 1.736100\n",
      "Cost after epoch 20: 1.511072\n",
      "Cost after epoch 25: 1.277277\n",
      "Cost after epoch 30: 1.116706\n",
      "Cost after epoch 35: 0.996151\n",
      "Cost after epoch 40: 0.918852\n",
      "Cost after epoch 45: 0.846604\n",
      "Cost after epoch 50: 0.797367\n",
      "Cost after epoch 55: 0.749053\n",
      "Cost after epoch 60: 0.698228\n",
      "Cost after epoch 65: 0.665810\n",
      "Cost after epoch 70: 0.645770\n",
      "Cost after epoch 75: 0.622721\n",
      "Cost after epoch 80: 0.596309\n",
      "Cost after epoch 85: 0.565947\n",
      "Cost after epoch 90: 0.543165\n",
      "Cost after epoch 95: 0.509978\n",
      "Cost after epoch 100: 0.497773\n",
      "Cost after epoch 105: 0.468780\n",
      "Cost after epoch 110: 0.455361\n",
      "Cost after epoch 115: 0.436660\n",
      "Cost after epoch 120: 0.450471\n",
      "Cost after epoch 125: 0.414184\n",
      "Cost after epoch 130: 0.400057\n",
      "Cost after epoch 135: 0.399521\n",
      "Cost after epoch 140: 0.371492\n",
      "Cost after epoch 145: 0.359385\n",
      "Cost after epoch 150: 0.347719\n",
      "Cost after epoch 155: 0.337510\n",
      "Cost after epoch 160: 0.333093\n",
      "Cost after epoch 165: 0.326144\n",
      "Cost after epoch 170: 0.306549\n",
      "Cost after epoch 175: 0.305455\n",
      "Cost after epoch 180: 0.298414\n",
      "Cost after epoch 185: 0.283550\n",
      "Cost after epoch 190: 0.283626\n",
      "Cost after epoch 195: 0.282400\n",
      "Cost after epoch 200: 0.258849\n",
      "Cost after epoch 205: 0.254769\n",
      "Cost after epoch 210: 0.236887\n",
      "Cost after epoch 215: 0.243294\n",
      "Cost after epoch 220: 0.238186\n",
      "Cost after epoch 225: 0.229033\n",
      "Cost after epoch 230: 0.238027\n",
      "Cost after epoch 235: 0.229126\n",
      "Cost after epoch 240: 0.217209\n",
      "Cost after epoch 245: 0.210671\n",
      "Cost after epoch 250: 0.201438\n",
      "Cost after epoch 255: 0.197600\n",
      "Cost after epoch 260: 0.193552\n",
      "Cost after epoch 265: 0.189478\n",
      "Cost after epoch 270: 0.189489\n",
      "Cost after epoch 275: 0.179071\n",
      "Cost after epoch 280: 0.180828\n",
      "Cost after epoch 285: 0.164592\n",
      "Cost after epoch 290: 0.162875\n",
      "Cost after epoch 295: 0.159801\n",
      "Cost after epoch 300: 0.153559\n",
      "Cost after epoch 305: 0.163533\n",
      "Cost after epoch 310: 0.158492\n",
      "Cost after epoch 315: 0.143436\n",
      "Cost after epoch 320: 0.144607\n",
      "Cost after epoch 325: 0.137238\n",
      "Cost after epoch 330: 0.138909\n",
      "Cost after epoch 335: 0.133870\n",
      "Cost after epoch 340: 0.130579\n",
      "Cost after epoch 345: 0.129383\n",
      "Cost after epoch 350: 0.122018\n",
      "Cost after epoch 355: 0.128244\n",
      "Cost after epoch 360: 0.115111\n",
      "Cost after epoch 365: 0.123332\n",
      "Cost after epoch 370: 0.114376\n",
      "Cost after epoch 375: 0.106305\n",
      "Cost after epoch 380: 0.105685\n",
      "Cost after epoch 385: 0.106140\n",
      "Cost after epoch 390: 0.119306\n",
      "Cost after epoch 395: 0.098968\n",
      "Cost after epoch 400: 0.102836\n",
      "Cost after epoch 405: 0.107845\n",
      "Cost after epoch 410: 0.098304\n",
      "Cost after epoch 415: 0.106187\n",
      "Cost after epoch 420: 0.092162\n",
      "Cost after epoch 425: 0.099977\n",
      "Cost after epoch 430: 0.089337\n",
      "Cost after epoch 435: 0.084093\n",
      "Cost after epoch 440: 0.085460\n",
      "Cost after epoch 445: 0.080827\n",
      "Cost after epoch 450: 0.076100\n",
      "Cost after epoch 455: 0.075216\n",
      "Cost after epoch 460: 0.072218\n",
      "Cost after epoch 465: 0.079421\n",
      "Cost after epoch 470: 0.070157\n",
      "Cost after epoch 475: 0.073487\n",
      "Cost after epoch 480: 0.066962\n",
      "Cost after epoch 485: 0.063279\n",
      "Cost after epoch 490: 0.064085\n",
      "Cost after epoch 495: 0.069920\n"
     ]
    },
    {
     "data": {
      "image/png": "[encoded data removed]",
      "text/plain": [
       "<matplotlib.figure.Figure at 0x7f85185f6358>"
      ]
     },
     "metadata": {},
     "output_type": "display_data"
    },
    {
     "name": "stdout",
     "output_type": "stream",
     "text": [
      "Tensor(\"Mean_1:0\", shape=(), dtype=float32)\n",
      "Train Accuracy: 0.9925925\n",
      "Test Accuracy: 0.90000004\n"
     ]
    }
   ],
   "source": [
    "_, _, parameters = model(X_train, Y_train.T, X_test, Y_test.T,learning_rate=0.001,num_epoches=500)\n"
   ]
  },
  {
   "cell_type": "markdown",
   "metadata": {
    "collapsed": true
   },
   "source": [
    "## 重新编写一个带dropout和BatchNorm的程序"
   ]
  },
  {
   "cell_type": "code",
   "execution_count": 1,
   "metadata": {
    "collapsed": false
   },
   "outputs": [],
   "source": [
    "# placeholder\n",
    "\n",
    "import tensorflow as tf\n",
    "import numpy as np\n",
    "import matplotlib.pyplot as plt\n",
    "from tensorflow.python.framework import ops\n",
    "from cnn_utils import load_dataset,random_mini_batches\n",
    "\n",
    "%matplotlib inline\n",
    "np.random.seed(1)\n",
    "\n",
    "import time"
   ]
  },
  {
   "cell_type": "markdown",
   "metadata": {},
   "source": [
    "## 源数据处理"
   ]
  },
  {
   "cell_type": "code",
   "execution_count": 2,
   "metadata": {
    "collapsed": false
   },
   "outputs": [
    {
     "name": "stdout",
     "output_type": "stream",
     "text": [
      "X_train=(1080, 64, 64, 3)\n",
      "X_test=(120, 64, 64, 3)\n",
      "Y_train=(1080, 6)\n",
      "Y_test=(120, 6)\n"
     ]
    }
   ],
   "source": [
    "X_train_orig,Y_train_orig,X_test_orig,Y_test_orig,classes=load_dataset()\n",
    "\n",
    "X_train=X_train_orig/255.0\n",
    "X_test=X_test_orig/255.0\n",
    "Y_train=np.eye(6)[Y_train_orig.reshape(-1)]\n",
    "Y_test=np.eye(6)[Y_test_orig.reshape(-1)]\n",
    "\n",
    "print(\"X_train={}\".format(X_train.shape))\n",
    "print(\"X_test={}\".format(X_test.shape))\n",
    "print(\"Y_train={}\".format(Y_train.shape))\n",
    "print(\"Y_test={}\".format(Y_test.shape))\n"
   ]
  },
  {
   "cell_type": "code",
   "execution_count": 3,
   "metadata": {
    "collapsed": true
   },
   "outputs": [],
   "source": [
    "learning_rate=0.001\n",
    "epochs=100\n",
    "minibatch_size=64"
   ]
  },
  {
   "cell_type": "code",
   "execution_count": 4,
   "metadata": {
    "collapsed": false
   },
   "outputs": [
    {
     "name": "stdout",
     "output_type": "stream",
     "text": [
      "X= Tensor(\"X:0\", shape=(?, 64, 64, 3), dtype=float32)\n",
      "Y= Tensor(\"Y:0\", shape=(?, 6), dtype=float32)\n",
      "W1= Tensor(\"W1/read:0\", shape=(4, 4, 3, 8), dtype=float32)\n",
      "b1= Tensor(\"b1/read:0\", shape=(1, 1, 1, 8), dtype=float32)\n",
      "W2= Tensor(\"W2/read:0\", shape=(2, 2, 8, 16), dtype=float32)\n",
      "b2= Tensor(\"b2/read:0\", shape=(1, 1, 1, 16), dtype=float32)\n",
      "Z1= Tensor(\"Z1:0\", shape=(?, 64, 64, 8), dtype=float32)\n",
      "A1= Tensor(\"A1:0\", shape=(?, 64, 64, 8), dtype=float32)\n",
      "P1= Tensor(\"P1:0\", shape=(?, 8, 8, 8), dtype=float32)\n",
      "Z2= Tensor(\"Z2:0\", shape=(?, 8, 8, 16), dtype=float32)\n",
      "A2= Tensor(\"A2:0\", shape=(?, 8, 8, 16), dtype=float32)\n",
      "P2= Tensor(\"P2:0\", shape=(?, 16, 16, 8), dtype=float32)\n",
      "F1= Tensor(\"Flatten/Reshape:0\", shape=(?, 2048), dtype=float32)\n",
      "Z3= Tensor(\"fully_connected/BiasAdd:0\", shape=(?, 6), dtype=float32)\n",
      "0.91 seconds later,cost after epoch 0: 1.891941\n",
      "1.97 seconds later,cost after epoch 10: 0.699376\n",
      "3.02 seconds later,cost after epoch 20: 0.384429\n",
      "4.05 seconds later,cost after epoch 30: 0.237787\n",
      "5.08 seconds later,cost after epoch 40: 0.161887\n",
      "6.08 seconds later,cost after epoch 50: 0.123871\n",
      "7.07 seconds later,cost after epoch 60: 0.080651\n",
      "8.09 seconds later,cost after epoch 70: 0.057378\n",
      "9.16 seconds later,cost after epoch 80: 0.045131\n",
      "10.20 seconds later,cost after epoch 90: 0.036431\n"
     ]
    },
    {
     "data": {
      "image/png": "[encoded data removed]",
      "text/plain": [
       "<matplotlib.figure.Figure at 0x7f707d93dcc0>"
      ]
     },
     "metadata": {},
     "output_type": "display_data"
    },
    {
     "name": "stdout",
     "output_type": "stream",
     "text": [
      "prediction_op= Tensor(\"ArgMax:0\", shape=(?,), dtype=int64)\n",
      "actual_op= Tensor(\"ArgMax_1:0\", shape=(?,), dtype=int64)\n",
      "correct_prediction= Tensor(\"Equal:0\", shape=(?,), dtype=bool)\n",
      "accuracy= Tensor(\"Mean_1:0\", shape=(), dtype=float32)\n",
      "train accuracy=100.00%\n",
      "test accuracy=94.17%\n"
     ]
    }
   ],
   "source": [
    "tf.reset_default_graph()\n",
    "m,n_W0,n_H0,n_C0=X_train.shape\n",
    "n_y=Y_train.shape[1]\n",
    "\n",
    "\n",
    "X=tf.placeholder(tf.float32,shape=(None,n_W0,n_H0,n_C0),name='X')\n",
    "Y=tf.placeholder(tf.float32,shape=(None,n_y),name='Y')\n",
    "print(\"X=\",X)\n",
    "print(\"Y=\",Y)\n",
    "\n",
    "W1=tf.get_variable(\"W1\",shape=(4,4,3,8),dtype=tf.float32,initializer=tf.contrib.layers.xavier_initializer())\n",
    "b1=tf.get_variable(\"b1\",shape=(1,1,1,8),dtype=tf.float32,initializer=tf.zeros_initializer())\n",
    "W2=tf.get_variable(\"W2\",shape=(2,2,8,16),dtype=tf.float32,initializer=tf.contrib.layers.xavier_initializer())\n",
    "b2=tf.get_variable(\"b2\",shape=(1,1,1,16),dtype=tf.float32,initializer=tf.zeros_initializer())\n",
    "\n",
    "print(\"W1=\",str(W1))\n",
    "print(\"b1=\",str(b1))\n",
    "print(\"W2=\",str(W2))\n",
    "print(\"b2=\",str(b2))\n",
    "\n",
    "Z1=tf.nn.conv2d(input=X,filter=W1,strides=[1,1,1,1],padding='SAME',name='Z1')\n",
    "A1=tf.nn.relu(Z1,name='A1')\n",
    "P1=tf.nn.max_pool(value=A1,ksize=[1,8,8,1],strides=[1,8,8,1],padding='SAME',name='P1')\n",
    "\n",
    "Z2=tf.nn.conv2d(input=P1,filter=W2,strides=[1,1,1,1],padding='SAME',name='Z2')\n",
    "A2=tf.nn.relu(Z2,name='A2')\n",
    "P2=tf.nn.max_pool(value=A1,ksize=[1,4,4,1],strides=[1,4,4,1],padding='SAME',name='P2')\n",
    "\n",
    "F1=tf.contrib.layers.flatten(P2)\n",
    "Z3=tf.contrib.layers.fully_connected(F1,num_outputs=6,activation_fn=None)\n",
    "\n",
    "print(\"Z1=\",str(Z1))\n",
    "print(\"A1=\",str(A1))\n",
    "print(\"P1=\",str(P1))\n",
    "print(\"Z2=\",str(Z2))\n",
    "print(\"A2=\",str(A2))\n",
    "print(\"P2=\",str(P2))\n",
    "print(\"F1=\",str(F1))\n",
    "print(\"Z3=\",str(Z3))\n",
    "\n",
    "cost=tf.reduce_mean(tf.nn.softmax_cross_entropy_with_logits(logits=Z3,labels=Y)) \n",
    "optimizer=tf.train.AdamOptimizer(learning_rate=learning_rate).minimize(cost)\n",
    "\n",
    "init=tf.global_variables_initializer()\n",
    "\n",
    "stime=time.time()\n",
    "\n",
    "\n",
    "\n",
    "with tf.Session() as sess:\n",
    "    costs=[]\n",
    "    sess.run(init)\n",
    "    seed=1\n",
    "    for epoch in range(epochs):\n",
    "        minibatch_cost=0.\n",
    "        num_minibatches=int(m/minibatch_size)\n",
    "        minibatches=random_mini_batches(X_train,Y_train,minibatch_size,seed)\n",
    "        \n",
    "        seed+=1                  \n",
    "        \n",
    "        for minibatch in minibatches:        \n",
    "            (minibatch_X,minibatch_Y)=minibatch\n",
    "            temp_cost,_=sess.run([cost,optimizer],feed_dict={X:minibatch_X,Y:minibatch_Y})\n",
    "            minibatch_cost+=temp_cost/num_minibatches\n",
    "\n",
    "    \n",
    "        if epoch%10==0:\n",
    "            print(\"{:,.2f} seconds later,cost after epoch {:,.0f}: {:,.6f}\".format(time.time()-stime,epoch,minibatch_cost))\n",
    "            costs.append(minibatch_cost)            \n",
    "    plt.plot(np.squeeze(costs))\n",
    "    plt.xlabel(\"iterations per ten\")\n",
    "    plt.ylabel(\"cost\")\n",
    "    plt.title(\"learning_rate={:,.4f}\".format(learning_rate))\n",
    "    plt.show()\n",
    "\n",
    "    prediction_op=tf.argmax(Z3,1)\n",
    "    actual_op=tf.argmax(Y,1)\n",
    "    correct_prediction=tf.equal(prediction_op,actual_op)\n",
    "    accuracy=tf.reduce_mean( tf.cast(correct_prediction,\"float\")) \n",
    "    print(\"prediction_op=\",str(prediction_op))\n",
    "    print(\"actual_op=\",str(actual_op))\n",
    "    print(\"correct_prediction=\",str(correct_prediction))\n",
    "    print(\"accuracy=\",str(accuracy))\n",
    "    \n",
    "    print(\"train accuracy={:,.2%}\".format(sess.run(accuracy,feed_dict={Y:Y_train,X:X_train})))\n",
    "    print(\"test accuracy={:,.2%}\".format(sess.run(accuracy,feed_dict={Y:Y_test,X:X_test})))    \n"
   ]
  },
  {
   "cell_type": "code",
   "execution_count": null,
   "metadata": {
    "collapsed": true
   },
   "outputs": [],
   "source": []
  }
 ],
 "metadata": {
  "kernelspec": {
   "display_name": "Python 3",
   "language": "python",
   "name": "python3"
  },
  "language_info": {
   "codemirror_mode": {
    "name": "ipython",
    "version": 3
   },
   "file_extension": ".py",
   "mimetype": "text/x-python",
   "name": "python",
   "nbconvert_exporter": "python",
   "pygments_lexer": "ipython3",
   "version": "3.4.5"
  }
 },
 "nbformat": 4,
 "nbformat_minor": 2
}
