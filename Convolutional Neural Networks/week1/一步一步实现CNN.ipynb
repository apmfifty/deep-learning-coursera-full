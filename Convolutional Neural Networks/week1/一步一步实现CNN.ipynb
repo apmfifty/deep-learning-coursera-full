{
 "cells": [
  {
   "cell_type": "markdown",
   "metadata": {},
   "source": [
    "# 一步一步实现CNN\n",
    "\n",
    "<img src=\"my_files/cnn_1.png\" style=\"width:600px;height:600px;\">\n",
    "<img src=\"my_files/cnn_2.png\" style=\"width:750px;height:600px;\">"
   ]
  },
  {
   "cell_type": "markdown",
   "metadata": {},
   "source": [
    "## 1 packages"
   ]
  },
  {
   "cell_type": "code",
   "execution_count": 2,
   "metadata": {},
   "outputs": [
    {
     "name": "stderr",
     "output_type": "stream",
     "text": [
      "/Users/pengju/anaconda3/lib/python3.6/site-packages/h5py/__init__.py:34: FutureWarning: Conversion of the second argument of issubdtype from `float` to `np.floating` is deprecated. In future, it will be treated as `np.float64 == np.dtype(float).type`.\n",
      "  from ._conv import register_converters as _register_converters\n"
     ]
    }
   ],
   "source": [
    "import numpy as np\n",
    "import h5py\n",
    "import matplotlib.pyplot as plt\n",
    "\n",
    "%matplotlib inline\n",
    "plt.rcParams['figure.figsize']=(5.0,4.0)\n",
    "plt.rcParams['image.interpolation']='nearest'\n",
    "plt.rcParams['image.cmap']='gray'\n",
    "\n",
    "\n",
    "%load_ext autoreload\n",
    "%autoreload 2\n",
    "\n",
    "np.random.seed(1)\n"
   ]
  },
  {
   "cell_type": "markdown",
   "metadata": {},
   "source": [
    "## 3 卷积层"
   ]
  },
  {
   "cell_type": "markdown",
   "metadata": {},
   "source": [
    "### 3.1 zero-padding"
   ]
  },
  {
   "cell_type": "code",
   "execution_count": 3,
   "metadata": {
    "collapsed": true
   },
   "outputs": [],
   "source": [
    "def zero_pad(X,pad):\n",
    "    \"\"\"\n",
    "    zero padding    \n",
    "\n",
    "    Parameters\n",
    "    ----------\n",
    "    X : (m,n_H,n_W,n_C)    \n",
    "    pad : int\n",
    "\n",
    "    Returns\n",
    "    -------\n",
    "    X_pad : \n",
    "     \n",
    "    \"\"\"\n",
    "    \n",
    "    X_pad=np.pad(X,((0,0),(pad,pad),(pad,pad),(0,0)),mode='constant')\n",
    "    return X_pad\n",
    "    "
   ]
  },
  {
   "cell_type": "code",
   "execution_count": 4,
   "metadata": {},
   "outputs": [
    {
     "name": "stdout",
     "output_type": "stream",
     "text": [
      "x.shape=(4, 3, 3, 2)\n",
      "x_pad.shape=(4, 7, 7, 2)\n",
      "x[1,1] = [[ 0.90085595 -0.68372786]\n",
      " [-0.12289023 -0.93576943]\n",
      " [-0.26788808  0.53035547]]\n",
      "x_pad[1,1] = [[0. 0.]\n",
      " [0. 0.]\n",
      " [0. 0.]\n",
      " [0. 0.]\n",
      " [0. 0.]\n",
      " [0. 0.]\n",
      " [0. 0.]]\n"
     ]
    },
    {
     "data": {
      "text/plain": [
       "<matplotlib.image.AxesImage at 0x111af1ba8>"
      ]
     },
     "execution_count": 4,
     "metadata": {},
     "output_type": "execute_result"
    },
    {
     "data": {
      "image/png": "[encoded data removed]",
      "text/plain": [
       "<Figure size 360x288 with 2 Axes>"
      ]
     },
     "metadata": {},
     "output_type": "display_data"
    }
   ],
   "source": [
    "np.random.seed(1)\n",
    "x=np.random.randn(4,3,3,2)\n",
    "x_pad=zero_pad(x,2)\n",
    "print(\"x.shape={}\".format(x.shape))\n",
    "print(\"x_pad.shape={}\".format(x_pad.shape))\n",
    "\n",
    "print (\"x[1,1] =\", x[1,1])\n",
    "print (\"x_pad[1,1] =\", x_pad[1,1])\n",
    "\n",
    "\n",
    "fig,axarr=plt.subplots(1,2)\n",
    "axarr[0].set_title('x')\n",
    "axarr[0].imshow(x[0,:,:,0])\n",
    "axarr[1].set_title('x_pad')\n",
    "axarr[1].imshow(x_pad[0,:,:,0])\n"
   ]
  },
  {
   "cell_type": "markdown",
   "metadata": {},
   "source": [
    "### 3.2 单步卷积"
   ]
  },
  {
   "cell_type": "code",
   "execution_count": 5,
   "metadata": {
    "collapsed": true
   },
   "outputs": [],
   "source": [
    "def conv_single_step(a_slice_prev,W,b):\n",
    "    \"\"\"\n",
    "    单步卷积计算\n",
    "    \n",
    "\n",
    "    Parameters\n",
    "    ----------\n",
    "    a_slice_prev : f x f x n_c_prev\n",
    "    W : f x f x n_c_prev\n",
    "    b : 1 x 1 x    \n",
    "\n",
    "    Returns\n",
    "    -------\n",
    "    Z : scalar \n",
    "     \n",
    "    \"\"\"\n",
    "    s=np.multiply(W,a_slice_prev)\n",
    "    Z=np.sum(s)\n",
    "\n",
    "    Z=Z+float(b)\n",
    "    return Z\n",
    "    \n",
    "    "
   ]
  },
  {
   "cell_type": "code",
   "execution_count": 6,
   "metadata": {},
   "outputs": [
    {
     "name": "stdout",
     "output_type": "stream",
     "text": [
      "Z=-6.999089450680221\n"
     ]
    }
   ],
   "source": [
    "np.random.seed(1)\n",
    "a_slice_prev=np.random.randn(4,4,3)\n",
    "W=np.random.randn(4,4,3)\n",
    "b=np.random.randn(1,1,1)\n",
    "Z=conv_single_step(a_slice_prev,W,b)\n",
    "print(\"Z={}\".format(Z))"
   ]
  },
  {
   "cell_type": "markdown",
   "metadata": {},
   "source": [
    "### 3.3 卷积整体计算\n",
    "- 核心就是循环计算卷积结果\n",
    "- 发现错误： `A_prev_pad[i,j*f_H:(j+1)*f_H,k*f_W:(k+1)*f_W,:]` 应改为 `A_prev_pad[i,j*stride:(j*stride+f_H),k*stride:(k*stride+f_W),:]`,因为 f=stride，所以没有发现这个错误"
   ]
  },
  {
   "cell_type": "code",
   "execution_count": 80,
   "metadata": {
    "collapsed": true
   },
   "outputs": [],
   "source": [
    "def conv_forward(A_prev,W,b,hparameters):\n",
    "    \"\"\"\n",
    "    卷积正向传播\n",
    "    \n",
    "\n",
    "    Parameters\n",
    "    ----------\n",
    "     A_prev: (m,n_H_prev,n_W_prev,n_C_prev)     \n",
    "     W: (f_H,f_W,n_C_prev,n_C)\n",
    "     b:(1,1,1,n_C) \n",
    "     hparameters: dict pad stride      \n",
    "\n",
    "    Returns\n",
    "    -------\n",
    "    Z:(m,n_H,n_W,n_C)\n",
    "    cache_conv:A_prev,W,b     \n",
    "    \"\"\"\n",
    "    m,n_H_prev,n_W_prev,n_C_prev=A_prev.shape\n",
    "    f_H,f_W,_,n_C=W.shape\n",
    "    pad=hparameters['pad']\n",
    "    stride=hparameters['stride']\n",
    "\n",
    "    n_H=(n_H_prev+2*pad-f_H)//stride+1\n",
    "    n_W=(n_W_prev+2*pad-f_W)//stride+1\n",
    "\n",
    "    Z=np.zeros(shape=(m,n_H,n_W,n_C))\n",
    "\n",
    "    A_prev_pad=zero_pad(A_prev,pad)\n",
    "\n",
    "    for i in range(m):\n",
    "        for j in range(n_H):\n",
    "            for k in range(n_W):\n",
    "                \n",
    "                a_prev_slice=A_prev_pad[i,j*stride:(j*stride+f_H),k*stride:(k*stride+f_W),:]\n",
    "                for l in range(n_C):\n",
    "                    Z[i,j,k,l]=conv_single_step(a_prev_slice,W[:,:,:,l],b[:,:,:,l])\n",
    "    assert(Z.shape==(m,n_H,n_W,n_C))\n",
    "    cache=(A_prev,W,b,hparameters)\n",
    "    return Z,cache"
   ]
  },
  {
   "cell_type": "code",
   "execution_count": 81,
   "metadata": {},
   "outputs": [
    {
     "name": "stdout",
     "output_type": "stream",
     "text": [
      "Z's mean = 0.048995203528855794\n",
      "Z[3,2,1] = [-0.61490741 -6.7439236  -2.55153897  1.75698377  3.56208902  0.53036437\n",
      "  5.18531798  8.75898442]\n",
      "cache_conv[0][1][2][3] = [-0.20075807  0.18656139  0.41005165]\n"
     ]
    }
   ],
   "source": [
    "np.random.seed(1)\n",
    "A_prev=np.random.randn(10,4,4,3)\n",
    "W=np.random.randn(2,2,3,8)\n",
    "b=np.random.randn(1,1,1,8)\n",
    "hparameters={'pad':2,\"stride\":2}\n",
    "\n",
    "\n",
    "\n",
    "Z, cache_conv = conv_forward(A_prev, W, b, hparameters)\n",
    "print(\"Z's mean =\", np.mean(Z))\n",
    "print(\"Z[3,2,1] =\", Z[3,2,1])\n",
    "print(\"cache_conv[0][1][2][3] =\", cache_conv[0][1][2][3])"
   ]
  },
  {
   "cell_type": "markdown",
   "metadata": {},
   "source": [
    "## 4 Pooling layer"
   ]
  },
  {
   "cell_type": "code",
   "execution_count": 109,
   "metadata": {
    "collapsed": true
   },
   "outputs": [],
   "source": [
    "def pool_forward(A_prev,hparameters,mode='max'):\n",
    "    \"\"\"\n",
    "    pool前向传播    \n",
    "\n",
    "    Parameters\n",
    "    ----------\n",
    "    A_prev : (m,n_H_prev,n_W_prev,n_C_prev)\n",
    "    hparameters : stride ,f \n",
    "    mode: mode average\n",
    "    Returns\n",
    "    -------\n",
    "    A : (m,n_H,n_W_prev,n_C_prev)\n",
    "    cache: A_prev,hparameters\n",
    "     \n",
    "    \"\"\"    \n",
    "    \n",
    "    m,n_H_prev,n_W_prev,n_C_prev=A_prev.shape\n",
    "    stride=hparameters['stride']\n",
    "    f=hparameters['f']\n",
    "\n",
    "    n_H=(n_H_prev-f)//stride+1\n",
    "    n_W=(n_W_prev-f)//stride+1\n",
    "    n_C=n_C_prev\n",
    "\n",
    "    A=np.zeros(shape=(m,n_H,n_W,n_C))\n",
    "\n",
    "    for i in range(m):\n",
    "        for j in range(n_H):\n",
    "            for k in range(n_W):\n",
    "                a_prev_slice=A_prev[i,j*stride:(j*stride+f),k*stride:(k*stride+f),:]\n",
    "                if mode=='max':\n",
    "                    A[i,j,k,:]=np.max(a_prev_slice,axis=(0,1))\n",
    "                if mode=='average':\n",
    "                    A[i,j,k,:]=np.average(a_prev_slice,axis=(0,1))\n",
    "\n",
    "                    \n",
    "    cache=(A_prev,hparameters)\n",
    "    assert(A.shape==(m,n_H,n_W,n_C))\n",
    "    \n",
    "    return A,cache\n",
    "\n",
    "    "
   ]
  },
  {
   "cell_type": "code",
   "execution_count": 110,
   "metadata": {},
   "outputs": [
    {
     "name": "stdout",
     "output_type": "stream",
     "text": [
      "mode = max\n",
      "A = [[[[1.74481176 0.86540763 1.13376944]]]\n",
      "\n",
      "\n",
      " [[[1.13162939 1.51981682 2.18557541]]]]\n",
      "\n",
      "mode = average\n",
      "A = [[[[ 0.02105773 -0.20328806 -0.40389855]]]\n",
      "\n",
      "\n",
      " [[[-0.22154621  0.51716526  0.48155844]]]]\n"
     ]
    }
   ],
   "source": [
    "np.random.seed(1)\n",
    "\n",
    "A_prev=np.random.randn(2,4,4,3)\n",
    "hparameters={\"stride\":2,'f':3}\n",
    "\n",
    "\n",
    "\n",
    "A, cache = pool_forward(A_prev, hparameters)\n",
    "print(\"mode = max\")\n",
    "print(\"A =\", A)\n",
    "print()\n",
    "A, cache = pool_forward(A_prev, hparameters, mode = \"average\")\n",
    "print(\"mode = average\")\n",
    "print(\"A =\", A)"
   ]
  },
  {
   "cell_type": "markdown",
   "metadata": {},
   "source": [
    "## 5 反向传播-卷积层\n",
    "\n",
    "- 简化问题思路\n",
    "    - 先从单个conv模块开始\n",
    "    - padding如何处理？"
   ]
  },
  {
   "cell_type": "code",
   "execution_count": 112,
   "metadata": {
    "collapsed": true
   },
   "outputs": [],
   "source": [
    "np.random.seed(1)\n",
    "\n",
    "\n",
    "\n",
    "\n",
    "\n",
    "\n",
    "\n",
    "\n",
    "\n",
    "\n"
   ]
  },
  {
   "cell_type": "code",
   "execution_count": null,
   "metadata": {
    "collapsed": true
   },
   "outputs": [],
   "source": []
  },
  {
   "cell_type": "code",
   "execution_count": null,
   "metadata": {
    "collapsed": true
   },
   "outputs": [],
   "source": []
  },
  {
   "cell_type": "code",
   "execution_count": null,
   "metadata": {
    "collapsed": true
   },
   "outputs": [],
   "source": [
    "np.random.seed(1)\n",
    "dA,dW,db=\n",
    "\n"
   ]
  },
  {
   "cell_type": "code",
   "execution_count": null,
   "metadata": {
    "collapsed": true
   },
   "outputs": [],
   "source": []
  },
  {
   "cell_type": "code",
   "execution_count": null,
   "metadata": {
    "collapsed": true
   },
   "outputs": [],
   "source": []
  },
  {
   "cell_type": "code",
   "execution_count": null,
   "metadata": {
    "collapsed": true
   },
   "outputs": [],
   "source": []
  },
  {
   "cell_type": "code",
   "execution_count": null,
   "metadata": {
    "collapsed": true
   },
   "outputs": [],
   "source": []
  },
  {
   "cell_type": "code",
   "execution_count": null,
   "metadata": {
    "collapsed": true
   },
   "outputs": [],
   "source": []
  },
  {
   "cell_type": "code",
   "execution_count": null,
   "metadata": {
    "collapsed": true
   },
   "outputs": [],
   "source": []
  }
 ],
 "metadata": {
  "kernelspec": {
   "display_name": "Python 3",
   "language": "python",
   "name": "python3"
  },
  "language_info": {
   "codemirror_mode": {
    "name": "ipython",
    "version": 3
   },
   "file_extension": ".py",
   "mimetype": "text/x-python",
   "name": "python",
   "nbconvert_exporter": "python",
   "pygments_lexer": "ipython3",
   "version": "3.6.3"
  }
 },
 "nbformat": 4,
 "nbformat_minor": 2
}
