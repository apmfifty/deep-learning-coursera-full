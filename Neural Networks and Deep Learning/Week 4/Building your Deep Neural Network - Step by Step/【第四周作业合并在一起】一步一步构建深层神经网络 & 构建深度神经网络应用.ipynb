{
 "cells": [
  {
   "cell_type": "markdown",
   "metadata": {},
   "source": [
    "# 一步一步构建深层神经网络\n",
    "\n",
    "参考资料 [【深度学习】神经网络中的权重初始化：Why and How](https://www.jianshu.com/p/03009cfdf733)"
   ]
  },
  {
   "cell_type": "markdown",
   "metadata": {},
   "source": [
    "## 1 Packages \n",
    "\n",
    "- 自动reload： IPython extension to reload modules before executing user code.\n",
    "\n",
    "\n",
    "\n",
    "\n",
    "```\n",
    "%load_ext autoreload\n",
    "%autoreload 2\n",
    "```"
   ]
  },
  {
   "cell_type": "code",
   "execution_count": 121,
   "metadata": {},
   "outputs": [
    {
     "name": "stdout",
     "output_type": "stream",
     "text": [
      "The autoreload extension is already loaded. To reload it, use:\n",
      "  %reload_ext autoreload\n"
     ]
    }
   ],
   "source": [
    "import numpy as np\n",
    "import h5py \n",
    "import matplotlib.pyplot as plt\n",
    "\n",
    "%matplotlib inline\n",
    "plt.rcParams['figure.figsize'] = (5.0, 4.0) # set default size of plots\n",
    "plt.rcParams['image.interpolation'] = 'nearest'\n",
    "plt.rcParams['image.cmap'] = 'gray'\n",
    "\n",
    "%load_ext autoreload\n",
    "%autoreload 2\n",
    "\n",
    "np.random.seed(1)"
   ]
  },
  {
   "cell_type": "markdown",
   "metadata": {},
   "source": [
    "#### np.max vs np.maximum：前者输出一个序列的最大值（一个值），后者将比较两个序列，输出序列的每个位置都是各自位置上的最大值（一组值）"
   ]
  },
  {
   "cell_type": "code",
   "execution_count": 122,
   "metadata": {
    "collapsed": true
   },
   "outputs": [],
   "source": [
    "def sigmoid(Z):\n",
    "    \"\"\"\n",
    "    Implements the sigmoid activation in numpy\n",
    "    \n",
    "    Arguments:\n",
    "    Z -- numpy array of any shape\n",
    "    \n",
    "    Returns:\n",
    "    A -- output of sigmoid(z), same shape as Z\n",
    "    cache -- returns Z as well, useful during backpropagation\n",
    "    \"\"\"        \n",
    "    A=1/(1+np.exp(-Z))\n",
    "    cache=Z\n",
    "    return A,cache\n",
    "def relu(Z):\n",
    "    \"\"\"\n",
    "    Implement the RELU function.\n",
    "\n",
    "    Arguments:\n",
    "    Z -- Output of the linear layer, of any shape\n",
    "\n",
    "    Returns:\n",
    "    A -- Post-activation parameter, of the same shape as Z\n",
    "    cache -- a python dictionary containing \"A\" ; stored for computing the backward pass efficiently\n",
    "    \"\"\"    \n",
    "    A=np.maximum(0,Z)\n",
    "    assert(A.shape==Z.shape)\n",
    "    cache=A\n",
    "    return A,cache\n",
    "\n",
    "\n",
    "def sigmoid_backward(dA,cache):\n",
    "    \"\"\"\n",
    "    Implement the backward propagation for a single SIGMOID unit.\n",
    "\n",
    "    Arguments:\n",
    "    dA -- post-activation gradient, of any shape\n",
    "    cache -- 'Z' where we store for computing backward propagation efficiently\n",
    "\n",
    "    Returns:\n",
    "    dZ -- Gradient of the cost with respect to Z\n",
    "    \"\"\"    \n",
    "    Z=cache\n",
    "    s=1/(1+np.exp(-Z))\n",
    "    dZ=dA*s*(1-s)\n",
    "    assert (dZ.shape==Z.shape)\n",
    "    return dZ\n",
    "\n",
    "def relu_backward(dA,cache):\n",
    "    \"\"\"\n",
    "    Implement the backward propagation for a single RELU unit.\n",
    "\n",
    "    Arguments:\n",
    "    dA -- post-activation gradient, of any shape\n",
    "    cache -- 'Z' where we store for computing backward propagation efficiently\n",
    "\n",
    "    Returns:\n",
    "    dZ -- Gradient of the cost with respect to Z\n",
    "    \"\"\"    \n",
    "    Z=cache\n",
    "    dZ=np.array(dA,copy=True)\n",
    "    dZ[Z<=0]=0\n",
    "    assert(dZ.shape==Z.shape)\n",
    "    return dZ"
   ]
  },
  {
   "cell_type": "markdown",
   "metadata": {},
   "source": [
    "## 2 DNN outline\n",
    "\n",
    "<img src =\"./my_files/dnn_outline.png\" style=\"width:650px;height:900px;\">"
   ]
  },
  {
   "cell_type": "markdown",
   "metadata": {},
   "source": [
    "## 3 初始化"
   ]
  },
  {
   "cell_type": "code",
   "execution_count": 124,
   "metadata": {
    "collapsed": true
   },
   "outputs": [],
   "source": [
    "# 深层神经网络\n",
    "def initialize_parameters_deep(lay_dims):\n",
    "    \"\"\"\n",
    "    初始化\n",
    "    \n",
    "    Parameters\n",
    "    ----------\n",
    "    lay_dims : python list 对于L层nn，list长度为L+1\n",
    "\n",
    "    Returns\n",
    "    -------\n",
    "    parameters : 所有参数 \n",
    "        W1~WL : 权重 (layer_dims[1],layer_dims[1-1])\n",
    "        b1~bL : bias (layer_dims[1],1) \n",
    "            \n",
    "    \"\"\"\n",
    "#     np.random.seed(3)    \n",
    "    np.random.seed(1)\n",
    "    parameters={}\n",
    "    for idx,(n_prev,n) in enumerate(zip(lay_dims[:-1],lay_dims[1:]),1):        \n",
    "        parameters['W{}'.format(idx)]=np.random.randn(n,n_prev)*0.01\n",
    "        parameters['b{}'.format(idx)]=np.zeros((n,1))        \n",
    "    return parameters\n",
    "    \n",
    "    \n",
    "\n"
   ]
  },
  {
   "cell_type": "code",
   "execution_count": 32,
   "metadata": {},
   "outputs": [
    {
     "name": "stdout",
     "output_type": "stream",
     "text": [
      "W1 = [[ 0.01788628  0.0043651   0.00096497 -0.01863493 -0.00277388]\n",
      " [-0.00354759 -0.00082741 -0.00627001 -0.00043818 -0.00477218]\n",
      " [-0.01313865  0.00884622  0.00881318  0.01709573  0.00050034]\n",
      " [-0.00404677 -0.0054536  -0.01546477  0.00982367 -0.01101068]]\n",
      "b1 = [[0.]\n",
      " [0.]\n",
      " [0.]\n",
      " [0.]]\n",
      "W2 = [[-0.01185047 -0.0020565   0.01486148  0.00236716]\n",
      " [-0.01023785 -0.00712993  0.00625245 -0.00160513]\n",
      " [-0.00768836 -0.00230031  0.00745056  0.01976111]]\n",
      "b2 = [[0.]\n",
      " [0.]\n",
      " [0.]]\n"
     ]
    }
   ],
   "source": [
    "\n",
    "parameters = initialize_parameters_deep([5,4,3])\n",
    "print(\"W1 = \" + str(parameters[\"W1\"]))\n",
    "print(\"b1 = \" + str(parameters[\"b1\"]))\n",
    "print(\"W2 = \" + str(parameters[\"W2\"]))\n",
    "print(\"b2 = \" + str(parameters[\"b2\"]))"
   ]
  },
  {
   "cell_type": "markdown",
   "metadata": {},
   "source": [
    "## 4 Forward Propagation"
   ]
  },
  {
   "cell_type": "code",
   "execution_count": 125,
   "metadata": {
    "collapsed": true
   },
   "outputs": [],
   "source": [
    "# linaer\n",
    "def linear_forward(A,W,b):\n",
    "    \"\"\"\n",
    "    linear forward\n",
    "    \n",
    "\n",
    "    Parameters\n",
    "    ----------\n",
    "    A : 上一层的activation\n",
    "    W : 权重\n",
    "    b : bias\n",
    "    \n",
    "    Returns\n",
    "    -------\n",
    "    Z : pre-activation\n",
    "    cache : tuple of  A,W,b\n",
    "        \n",
    "    \"\"\"    \n",
    "    Z=np.matmul(W,A)+b\n",
    "    assert (Z.shape==(W.shape[0],A.shape[1]))\n",
    "    cache=(A,W,b)\n",
    "    return Z,cache"
   ]
  },
  {
   "cell_type": "code",
   "execution_count": 36,
   "metadata": {},
   "outputs": [
    {
     "name": "stdout",
     "output_type": "stream",
     "text": [
      "Z = [[ 3.26295337 -1.23429987]]\n"
     ]
    }
   ],
   "source": [
    "\n",
    "    \n",
    "    \n",
    "\n",
    "def linear_forward_test_case():\n",
    "    np.random.seed(1)\n",
    "    \"\"\"\n",
    "    X = np.array([[-1.02387576, 1.12397796],\n",
    " [-1.62328545, 0.64667545],\n",
    " [-1.74314104, -0.59664964]])\n",
    "    W = np.array([[ 0.74505627, 1.97611078, -1.24412333]])\n",
    "    b = np.array([[1]])\n",
    "    \"\"\"\n",
    "    A = np.random.randn(3,2)\n",
    "    W = np.random.randn(1,3)\n",
    "    b = np.random.randn(1,1)\n",
    "    \n",
    "    return A, W, b\n",
    "\n",
    "A, W, b = linear_forward_test_case()\n",
    "Z, linear_cache = linear_forward(A, W, b)\n",
    "print(\"Z = \" + str(Z))\n",
    "    \n",
    "    "
   ]
  },
  {
   "cell_type": "code",
   "execution_count": 126,
   "metadata": {
    "collapsed": true
   },
   "outputs": [],
   "source": [
    "# linear activation\n",
    "def linear_activation_forward(A_prev,W,b,activation):\n",
    "    \"\"\"\n",
    "    线性激活单元\n",
    "    \n",
    "    Parameters\n",
    "    ----------\n",
    "    A_prev :上一层激活值\n",
    "    W : 权重值\n",
    "    b : bias\n",
    "    activation: sigmoid or relu\n",
    "\n",
    "    Returns\n",
    "    -------\n",
    "    A : 激活值\n",
    "    cache: linear_cache,activation_cache            \n",
    "    \"\"\"    \n",
    "    \n",
    "    if activation=='relu':    \n",
    "        Z, linear_cache = linear_forward(A_prev, W, b)\n",
    "        A,activation_cache=relu(Z)\n",
    "    elif activation=='sigmoid':\n",
    "        Z, linear_cache = linear_forward(A_prev, W, b)\n",
    "        A,activation_cache=sigmoid(Z)        \n",
    "        \n",
    "    assert (A.shape==(W.shape[0],A_prev.shape[1]))\n",
    "    cache=(linear_cache,activation_cache)\n",
    "    return A,cache\n",
    "    "
   ]
  },
  {
   "cell_type": "code",
   "execution_count": 39,
   "metadata": {},
   "outputs": [
    {
     "name": "stdout",
     "output_type": "stream",
     "text": [
      "With sigmoid: A = [[0.96890023 0.11013289]]\n",
      "With ReLU: A = [[3.43896131 0.        ]]\n"
     ]
    }
   ],
   "source": [
    "\n",
    "def linear_activation_forward_test_case():\n",
    "    \"\"\"\n",
    "    X = np.array([[-1.02387576, 1.12397796],\n",
    " [-1.62328545, 0.64667545],\n",
    " [-1.74314104, -0.59664964]])\n",
    "    W = np.array([[ 0.74505627, 1.97611078, -1.24412333]])\n",
    "    b = 5\n",
    "    \"\"\"\n",
    "    np.random.seed(2)\n",
    "    A_prev = np.random.randn(3,2)\n",
    "    W = np.random.randn(1,3)\n",
    "    b = np.random.randn(1,1)\n",
    "    return A_prev, W, b\n",
    "    \n",
    "A_prev, W, b = linear_activation_forward_test_case()\n",
    "\n",
    "A, linear_activation_cache = linear_activation_forward(A_prev, W, b, activation = \"sigmoid\")\n",
    "print(\"With sigmoid: A = \" + str(A))\n",
    "\n",
    "A, linear_activation_cache = linear_activation_forward(A_prev, W, b, activation = \"relu\")\n",
    "print(\"With ReLU: A = \" + str(A))"
   ]
  },
  {
   "cell_type": "markdown",
   "metadata": {},
   "source": [
    "#### python 知识点\n",
    "- `//` 表示返回商的整数部分，抛弃余数\n"
   ]
  },
  {
   "cell_type": "code",
   "execution_count": 127,
   "metadata": {
    "collapsed": true
   },
   "outputs": [],
   "source": [
    "\n",
    "# L层forward模型 L-1层sigmoid 1层relu\n",
    "def L_model_forward(X,parameters):\n",
    "    \"\"\"\n",
    "    正向传播(L-1线性+Relu，L 线性+Sigmoid)\n",
    "    \n",
    "\n",
    "    Parameters\n",
    "    ----------\n",
    "    X : 输入\n",
    "    parameters : 参数 W b L层\n",
    "\n",
    "    Returns\n",
    "    -------\n",
    "    AL : L层激活值\n",
    "    caches : 每一层的cache(linear+activation)\n",
    "            \n",
    "    \"\"\"\n",
    "    L=len(parameters)//2\n",
    "    A_prev=X.copy()\n",
    "    caches=[]\n",
    "    for l in range(1,L):\n",
    "        W=parameters['W{}'.format(l)]\n",
    "        b=parameters['b{}'.format(l)]\n",
    "        A_prev,cache=linear_activation_forward(A_prev, W, b, activation = \"relu\")\n",
    "        caches.append(cache)\n",
    "    WL=parameters['W{}'.format(L)]\n",
    "    bL=parameters['b{}'.format(L)] \n",
    "    AL,cache=linear_activation_forward(A_prev, WL, bL, activation = \"sigmoid\")\n",
    "    caches.append(cache)\n",
    "    assert(AL.shape==(1,X.shape[1]))\n",
    "    return AL,caches\n",
    "    \n",
    "        "
   ]
  },
  {
   "cell_type": "code",
   "execution_count": 49,
   "metadata": {},
   "outputs": [
    {
     "name": "stdout",
     "output_type": "stream",
     "text": [
      "AL = [[0.03921668 0.70498921 0.19734387 0.04728177]]\n",
      "Length of caches list = 3\n"
     ]
    }
   ],
   "source": [
    "\n",
    "        \n",
    "\n",
    "def L_model_forward_test_case_2hidden():\n",
    "    np.random.seed(6)\n",
    "    X = np.random.randn(5,4)\n",
    "    W1 = np.random.randn(4,5)\n",
    "    b1 = np.random.randn(4,1)\n",
    "    W2 = np.random.randn(3,4)\n",
    "    b2 = np.random.randn(3,1)\n",
    "    W3 = np.random.randn(1,3)\n",
    "    b3 = np.random.randn(1,1)\n",
    "  \n",
    "    parameters = {\"W1\": W1,\n",
    "                  \"b1\": b1,\n",
    "                  \"W2\": W2,\n",
    "                  \"b2\": b2,\n",
    "                  \"W3\": W3,\n",
    "                  \"b3\": b3}\n",
    "    \n",
    "    return X, parameters\n",
    "\n",
    "X, parameters=L_model_forward_test_case_2hidden()\n",
    "AL, caches = L_model_forward(X, parameters)\n",
    "print(\"AL = \" + str(AL))\n",
    "print(\"Length of caches list = \" + str(len(caches)))   "
   ]
  },
  {
   "cell_type": "markdown",
   "metadata": {},
   "source": [
    "##  5 Cost function "
   ]
  },
  {
   "cell_type": "code",
   "execution_count": 128,
   "metadata": {
    "collapsed": true
   },
   "outputs": [],
   "source": [
    "def compute_cost(AL,Y):\n",
    "    \"\"\"\n",
    "    计算损失函数\n",
    "    \n",
    "    Parameters\n",
    "    ----------\n",
    "    AL:  \n",
    "    Y : \n",
    "\n",
    "    Returns\n",
    "    -------\n",
    "    cost :         \n",
    "    \"\"\"\n",
    "    m=Y.shape[1]\n",
    "    cost=-(np.dot(np.log(AL.ravel()),Y.ravel())+np.dot((np.log(1-AL.ravel())),1-Y.ravel()))/m\n",
    "    \n",
    "    # dim check\n",
    "    assert( isinstance(cost,float))\n",
    "    \n",
    "    return cost"
   ]
  },
  {
   "cell_type": "code",
   "execution_count": 51,
   "metadata": {},
   "outputs": [
    {
     "name": "stdout",
     "output_type": "stream",
     "text": [
      "cost = 0.414931599615397\n"
     ]
    }
   ],
   "source": [
    "\n",
    "\n",
    "def compute_cost_test_case():\n",
    "    Y = np.asarray([[1, 1, 1]])\n",
    "    aL = np.array([[.8,.9,0.4]])\n",
    "    \n",
    "    return Y, aL\n",
    "Y, AL = compute_cost_test_case()\n",
    "\n",
    "print(\"cost = \" + str(compute_cost(AL, Y)))"
   ]
  },
  {
   "cell_type": "markdown",
   "metadata": {},
   "source": [
    "## 6 反向传播\n"
   ]
  },
  {
   "cell_type": "markdown",
   "metadata": {},
   "source": [
    "### 6.1 线性反向传播"
   ]
  },
  {
   "cell_type": "code",
   "execution_count": 129,
   "metadata": {
    "collapsed": true
   },
   "outputs": [],
   "source": [
    "def linear_backward(dZ,cache):\n",
    "    \"\"\"\n",
    "    线性反向传播\n",
    "    \n",
    "\n",
    "    Parameters\n",
    "    ----------\n",
    "    dZ : \n",
    "    cache : linear cache A,W,b\n",
    "\n",
    "    Returns\n",
    "    -------\n",
    "    dW :\n",
    "    db :\n",
    "    dA_prev : \n",
    "    \"\"\"\n",
    "    A_prev,W,b=cache\n",
    "    m=A_prev.shape[1]\n",
    "    \n",
    "    dW=np.matmul(dZ,A_prev.T)/m\n",
    "    db=np.sum(dZ,axis=1,keepdims=True)/m\n",
    "    dA_prev=np.matmul(W.T,dZ)\n",
    "\n",
    "    assert(dW.shape==(W.shape))\n",
    "    assert(db.shape==(b.shape))\n",
    "    assert(dA_prev.shape==A_prev.shape )   \n",
    "    \n",
    "    return dA_prev,dW,db\n",
    "    "
   ]
  },
  {
   "cell_type": "code",
   "execution_count": 57,
   "metadata": {},
   "outputs": [
    {
     "name": "stdout",
     "output_type": "stream",
     "text": [
      "dA_prev = [[ 0.51822968 -0.19517421]\n",
      " [-0.40506361  0.15255393]\n",
      " [ 2.37496825 -0.89445391]]\n",
      "dW = [[-0.10076895  1.40685096  1.64992505]]\n",
      "db = [[0.50629448]]\n"
     ]
    }
   ],
   "source": [
    "\n",
    "    \n",
    "def linear_backward_test_case():\n",
    "    \"\"\"\n",
    "    z, linear_cache = (np.array([[-0.8019545 ,  3.85763489]]), (np.array([[-1.02387576,  1.12397796],\n",
    "       [-1.62328545,  0.64667545],\n",
    "       [-1.74314104, -0.59664964]]), np.array([[ 0.74505627,  1.97611078, -1.24412333]]), np.array([[1]]))\n",
    "    \"\"\"\n",
    "    np.random.seed(1)\n",
    "    dZ = np.random.randn(1,2)\n",
    "    A = np.random.randn(3,2)\n",
    "    W = np.random.randn(1,3)\n",
    "    b = np.random.randn(1,1)\n",
    "    linear_cache = (A, W, b)\n",
    "    return dZ, linear_cache        \n",
    "        \n",
    "# Set up some test inputs\n",
    "dZ, linear_cache = linear_backward_test_case()\n",
    "\n",
    "dA_prev, dW, db = linear_backward(dZ, linear_cache)\n",
    "print (\"dA_prev = \"+ str(dA_prev))\n",
    "print (\"dW = \" + str(dW))\n",
    "print (\"db = \" + str(db))\n",
    "    "
   ]
  },
  {
   "cell_type": "markdown",
   "metadata": {},
   "source": [
    "## 6.2 线性激活函数传播"
   ]
  },
  {
   "cell_type": "code",
   "execution_count": 130,
   "metadata": {
    "collapsed": true
   },
   "outputs": [],
   "source": [
    "def linear_activation_backward(dA,cache,activation):\n",
    "    \"\"\"\n",
    "    反向传播\n",
    "    \n",
    "\n",
    "    Parameters\n",
    "    ----------\n",
    "    dA :\n",
    "    cache: activation_cache,linear_cache\n",
    "    activation: relu sigmoid\n",
    "\n",
    "    Returns\n",
    "    -------\n",
    "    dW :\n",
    "    db :\n",
    "    dA_prev : \n",
    "        \n",
    "    \"\"\"\n",
    "    linear_cache,activation_cache=cache\n",
    "    if activation=='relu':\n",
    "        dZ=relu_backward(dA,activation_cache)\n",
    "        dA_prev, dW, db = linear_backward(dZ, linear_cache)\n",
    "    elif activation=='sigmoid':\n",
    "        dZ=sigmoid_backward(dA,activation_cache)\n",
    "        dA_prev, dW, db = linear_backward(dZ, linear_cache)        \n",
    "    return dA_prev, dW, db"
   ]
  },
  {
   "cell_type": "code",
   "execution_count": 61,
   "metadata": {
    "scrolled": true
   },
   "outputs": [
    {
     "name": "stdout",
     "output_type": "stream",
     "text": [
      "sigmoid:\n",
      "dA_prev = [[ 0.11017994  0.01105339]\n",
      " [ 0.09466817  0.00949723]\n",
      " [-0.05743092 -0.00576154]]\n",
      "dW = [[ 0.10266786  0.09778551 -0.01968084]]\n",
      "db = [[-0.05729622]]\n",
      "\n",
      "relu:\n",
      "dA_prev = [[ 0.44090989  0.        ]\n",
      " [ 0.37883606  0.        ]\n",
      " [-0.2298228   0.        ]]\n",
      "dW = [[ 0.44513824  0.37371418 -0.10478989]]\n",
      "db = [[-0.20837892]]\n"
     ]
    }
   ],
   "source": [
    "\n",
    "    \n",
    "def linear_activation_backward_test_case():\n",
    "    \"\"\"\n",
    "    aL, linear_activation_cache = (np.array([[ 3.1980455 ,  7.85763489]]), ((np.array([[-1.02387576,  1.12397796], [-1.62328545,  0.64667545], [-1.74314104, -0.59664964]]), np.array([[ 0.74505627,  1.97611078, -1.24412333]]), 5), np.array([[ 3.1980455 ,  7.85763489]])))\n",
    "    \"\"\"\n",
    "    np.random.seed(2)\n",
    "    dA = np.random.randn(1,2)\n",
    "    A = np.random.randn(3,2)\n",
    "    W = np.random.randn(1,3)\n",
    "    b = np.random.randn(1,1)\n",
    "    Z = np.random.randn(1,2)\n",
    "    linear_cache = (A, W, b)\n",
    "    activation_cache = Z\n",
    "    linear_activation_cache = (linear_cache, activation_cache)\n",
    "    \n",
    "    return dA, linear_activation_cache\n",
    "\n",
    "dAL, linear_activation_cache = linear_activation_backward_test_case()\n",
    "\n",
    "dA_prev, dW, db = linear_activation_backward(dAL, linear_activation_cache, activation = \"sigmoid\")\n",
    "print (\"sigmoid:\")\n",
    "print (\"dA_prev = \"+ str(dA_prev))\n",
    "print (\"dW = \" + str(dW))\n",
    "print (\"db = \" + str(db) + \"\\n\")\n",
    "\n",
    "dA_prev, dW, db = linear_activation_backward(dAL, linear_activation_cache, activation = \"relu\")\n",
    "print (\"relu:\")\n",
    "print (\"dA_prev = \"+ str(dA_prev))\n",
    "print (\"dW = \" + str(dW))\n",
    "print (\"db = \" + str(db))\n",
    "    \n",
    "    \n",
    "    \n",
    "    \n",
    "    \n",
    "    "
   ]
  },
  {
   "cell_type": "markdown",
   "metadata": {},
   "source": [
    "### 6.3 L-model backward"
   ]
  },
  {
   "cell_type": "markdown",
   "metadata": {},
   "source": [
    "#### dAL 的求导公式：注意 不是dZ,而应该是 似然损失函数的求导"
   ]
  },
  {
   "cell_type": "code",
   "execution_count": 131,
   "metadata": {
    "collapsed": true
   },
   "outputs": [],
   "source": [
    "def L_model_backward(AL,Y,caches):\n",
    "    \"\"\"\n",
    "    backward propagation\n",
    "\n",
    "    Parameters\n",
    "    ----------\n",
    "    AL : L层激活值\n",
    "    Y : \n",
    "    caches : 每一层的cache(linear+activation)\n",
    "\n",
    "    Returns\n",
    "    -------\n",
    "    grads: dA dW db \n",
    "    \"\"\"\n",
    "    L=len(caches)\n",
    "    grads={}\n",
    "        \n",
    "    dAL=-np.divide(Y,AL)+np.divide(1-Y,1-AL)\n",
    "    grads[\"dA{}\".format(L)]=dAL\n",
    "    current_cache=caches[-1]    \n",
    "    grads[\"dA{}\".format(L-1)], grads['dW{}'.format(L)],grads['db{}'.format(L)]=linear_activation_backward(dAL, current_cache, activation = \"sigmoid\")\n",
    "\n",
    "    for l in reversed(range(1,L)):          \n",
    "        current_cache=caches[l-1]\n",
    "        dA_prev_temp, dW_temp, db_temp = linear_activation_backward(grads[\"dA{}\".format(l)], current_cache, activation = \"relu\")    \n",
    "        grads[\"dA{}\".format(l-1)]=dA_prev_temp        \n",
    "        grads['dW{}'.format(l)]=dW_temp\n",
    "        grads['db{}'.format(l)]=db_temp           \n",
    "    return grads\n",
    "    \n",
    "    "
   ]
  },
  {
   "cell_type": "code",
   "execution_count": 75,
   "metadata": {},
   "outputs": [
    {
     "name": "stdout",
     "output_type": "stream",
     "text": [
      "dW1 = [[0.41010002 0.07807203 0.13798444 0.10502167]\n",
      " [0.         0.         0.         0.        ]\n",
      " [0.05283652 0.01005865 0.01777766 0.0135308 ]]\n",
      "db1 = [[-0.22007063]\n",
      " [ 0.        ]\n",
      " [-0.02835349]]\n",
      "dA1 = [[ 0.12913162 -0.44014127]\n",
      " [-0.14175655  0.48317296]\n",
      " [ 0.01663708 -0.05670698]]\n"
     ]
    }
   ],
   "source": [
    "\n",
    "\n",
    "def L_model_backward_test_case():\n",
    "    \"\"\"\n",
    "    X = np.random.rand(3,2)\n",
    "    Y = np.array([[1, 1]])\n",
    "    parameters = {'W1': np.array([[ 1.78862847,  0.43650985,  0.09649747]]), 'b1': np.array([[ 0.]])}\n",
    "\n",
    "    aL, caches = (np.array([[ 0.60298372,  0.87182628]]), [((np.array([[ 0.20445225,  0.87811744],\n",
    "           [ 0.02738759,  0.67046751],\n",
    "           [ 0.4173048 ,  0.55868983]]),\n",
    "    np.array([[ 1.78862847,  0.43650985,  0.09649747]]),\n",
    "    np.array([[ 0.]])),\n",
    "   np.array([[ 0.41791293,  1.91720367]]))])\n",
    "   \"\"\"\n",
    "    np.random.seed(3)\n",
    "    AL = np.random.randn(1, 2)\n",
    "    Y = np.array([[1, 0]])\n",
    "\n",
    "    A1 = np.random.randn(4,2)\n",
    "    W1 = np.random.randn(3,4)\n",
    "    b1 = np.random.randn(3,1)\n",
    "    Z1 = np.random.randn(3,2)\n",
    "    linear_cache_activation_1 = ((A1, W1, b1), Z1)\n",
    "\n",
    "    A2 = np.random.randn(3,2)\n",
    "    W2 = np.random.randn(1,3)\n",
    "    b2 = np.random.randn(1,1)\n",
    "    Z2 = np.random.randn(1,2)\n",
    "    linear_cache_activation_2 = ((A2, W2, b2), Z2)\n",
    "\n",
    "    caches = (linear_cache_activation_1, linear_cache_activation_2)\n",
    "\n",
    "    return AL, Y, caches    \n",
    "    \n",
    "    \n",
    "def print_grads(grads):\n",
    "    print (\"dW1 = \"+ str(grads[\"dW1\"]))\n",
    "    print (\"db1 = \"+ str(grads[\"db1\"]))\n",
    "    print (\"dA1 = \"+ str(grads[\"dA1\"]))     \n",
    "    \n",
    "    \n",
    "AL, Y_assess, caches = L_model_backward_test_case()\n",
    "grads = L_model_backward(AL, Y_assess, caches)\n",
    "print_grads(grads)    \n"
   ]
  },
  {
   "cell_type": "markdown",
   "metadata": {},
   "source": [
    "### 6.4 更新参数"
   ]
  },
  {
   "cell_type": "code",
   "execution_count": 132,
   "metadata": {
    "collapsed": true
   },
   "outputs": [],
   "source": [
    "\n",
    "def update_parameters(parameters,grads,learning_rate):\n",
    "    \"\"\"\n",
    "    参数更新\n",
    "    \n",
    "\n",
    "    Parameters\n",
    "    ----------\n",
    "    parameters : 所有参数 \n",
    "        W1~WL : 权重 (layer_dims[1],layer_dims[1-1])\n",
    "        b1~bL : bias (layer_dims[1],1) \n",
    "    grads: dA dW db \n",
    "\n",
    "    Returns\n",
    "    -------\n",
    "    parameters : 所有参数 \n",
    "        W1~WL : 权重 (layer_dims[1],layer_dims[1-1])\n",
    "        b1~bL : bias (layer_dims[1],1) \n",
    "\n",
    "    \"\"\"    \n",
    "    L=len(parameters)//2\n",
    "    for l in range(1,L+1):\n",
    "        W_temp,b_temp=parameters['W{}'.format(l)],parameters['b{}'.format(l)]        \n",
    "        dW_temp,db_temp=grads['dW{}'.format(l)],grads['db{}'.format(l)]        \n",
    "        parameters['W{}'.format(l)],parameters['b{}'.format(l)]=W_temp-learning_rate*dW_temp,b_temp-learning_rate*db_temp\n",
    "    return parameters"
   ]
  },
  {
   "cell_type": "code",
   "execution_count": 86,
   "metadata": {
    "scrolled": true
   },
   "outputs": [
    {
     "name": "stdout",
     "output_type": "stream",
     "text": [
      "W1 = [[-0.59562069 -0.09991781 -2.14584584  1.82662008]\n",
      " [-1.76569676 -0.80627147  0.51115557 -1.18258802]\n",
      " [-1.0535704  -0.86128581  0.68284052  2.20374577]]\n",
      "b1 = [[-0.04659241]\n",
      " [-1.28888275]\n",
      " [ 0.53405496]]\n",
      "W2 = [[-0.55569196  0.0354055   1.32964895]]\n",
      "b2 = [[-0.84610769]]\n"
     ]
    }
   ],
   "source": [
    "\n",
    "\n",
    "def update_parameters_test_case():\n",
    "    \"\"\"\n",
    "    parameters = {'W1': np.array([[ 1.78862847,  0.43650985,  0.09649747],\n",
    "        [-1.8634927 , -0.2773882 , -0.35475898],\n",
    "        [-0.08274148, -0.62700068, -0.04381817],\n",
    "        [-0.47721803, -1.31386475,  0.88462238]]),\n",
    " 'W2': np.array([[ 0.88131804,  1.70957306,  0.05003364, -0.40467741],\n",
    "        [-0.54535995, -1.54647732,  0.98236743, -1.10106763],\n",
    "        [-1.18504653, -0.2056499 ,  1.48614836,  0.23671627]]),\n",
    " 'W3': np.array([[-1.02378514, -0.7129932 ,  0.62524497],\n",
    "        [-0.16051336, -0.76883635, -0.23003072]]),\n",
    " 'b1': np.array([[ 0.],\n",
    "        [ 0.],\n",
    "        [ 0.],\n",
    "        [ 0.]]),\n",
    " 'b2': np.array([[ 0.],\n",
    "        [ 0.],\n",
    "        [ 0.]]),\n",
    " 'b3': np.array([[ 0.],\n",
    "        [ 0.]])}\n",
    "    grads = {'dW1': np.array([[ 0.63070583,  0.66482653,  0.18308507],\n",
    "        [ 0.        ,  0.        ,  0.        ],\n",
    "        [ 0.        ,  0.        ,  0.        ],\n",
    "        [ 0.        ,  0.        ,  0.        ]]),\n",
    " 'dW2': np.array([[ 1.62934255,  0.        ,  0.        ,  0.        ],\n",
    "        [ 0.        ,  0.        ,  0.        ,  0.        ],\n",
    "        [ 0.        ,  0.        ,  0.        ,  0.        ]]),\n",
    " 'dW3': np.array([[-1.40260776,  0.        ,  0.        ]]),\n",
    " 'da1': np.array([[ 0.70760786,  0.65063504],\n",
    "        [ 0.17268975,  0.15878569],\n",
    "        [ 0.03817582,  0.03510211]]),\n",
    " 'da2': np.array([[ 0.39561478,  0.36376198],\n",
    "        [ 0.7674101 ,  0.70562233],\n",
    "        [ 0.0224596 ,  0.02065127],\n",
    "        [-0.18165561, -0.16702967]]),\n",
    " 'da3': np.array([[ 0.44888991,  0.41274769],\n",
    "        [ 0.31261975,  0.28744927],\n",
    "        [-0.27414557, -0.25207283]]),\n",
    " 'db1': 0.75937676204411464,\n",
    " 'db2': 0.86163759922811056,\n",
    " 'db3': -0.84161956022334572}\n",
    "    \"\"\"\n",
    "    np.random.seed(2)\n",
    "    W1 = np.random.randn(3,4)\n",
    "    b1 = np.random.randn(3,1)\n",
    "    W2 = np.random.randn(1,3)\n",
    "    b2 = np.random.randn(1,1)\n",
    "    parameters = {\"W1\": W1,\n",
    "                  \"b1\": b1,\n",
    "                  \"W2\": W2,\n",
    "                  \"b2\": b2}\n",
    "    np.random.seed(3)\n",
    "    dW1 = np.random.randn(3,4)\n",
    "    db1 = np.random.randn(3,1)\n",
    "    dW2 = np.random.randn(1,3)\n",
    "    db2 = np.random.randn(1,1)\n",
    "    grads = {\"dW1\": dW1,\n",
    "             \"db1\": db1,\n",
    "             \"dW2\": dW2,\n",
    "             \"db2\": db2}\n",
    "    \n",
    "    return parameters, grads\n",
    "parameters, grads = update_parameters_test_case()\n",
    "parameters = update_parameters(parameters, grads, 0.1)\n",
    "\n",
    "print (\"W1 = \"+ str(parameters[\"W1\"]))\n",
    "print (\"b1 = \"+ str(parameters[\"b1\"]))\n",
    "print (\"W2 = \"+ str(parameters[\"W2\"]))\n",
    "print (\"b2 = \"+ str(parameters[\"b2\"]))"
   ]
  },
  {
   "cell_type": "markdown",
   "metadata": {},
   "source": [
    "# 构建深度神经网络应用"
   ]
  },
  {
   "cell_type": "markdown",
   "metadata": {},
   "source": [
    "## 2 Dataset"
   ]
  },
  {
   "cell_type": "code",
   "execution_count": 133,
   "metadata": {},
   "outputs": [],
   "source": [
    "def load_data():\n",
    "    train_dataset = h5py.File('../Deep Neural Network Application: Image Classification/datasets/train_catvnoncat.h5', \"r\")\n",
    "    train_set_x_orig = np.array(train_dataset[\"train_set_x\"][:]) # your train set features\n",
    "    train_set_y_orig = np.array(train_dataset[\"train_set_y\"][:]) # your train set labels\n",
    "\n",
    "    test_dataset = h5py.File('../Deep Neural Network Application: Image Classification/datasets/test_catvnoncat.h5', \"r\")\n",
    "    test_set_x_orig = np.array(test_dataset[\"test_set_x\"][:]) # your test set features\n",
    "    test_set_y_orig = np.array(test_dataset[\"test_set_y\"][:]) # your test set labels\n",
    "\n",
    "    classes = np.array(test_dataset[\"list_classes\"][:]) # the list of classes\n",
    "    \n",
    "    train_set_y_orig = train_set_y_orig.reshape((1, train_set_y_orig.shape[0]))\n",
    "    test_set_y_orig = test_set_y_orig.reshape((1, test_set_y_orig.shape[0]))\n",
    "    \n",
    "    return train_set_x_orig, train_set_y_orig, test_set_x_orig, test_set_y_orig, classes\n",
    "\n",
    "train_x_orig, train_y, test_x_orig, test_y, classes = load_data()"
   ]
  },
  {
   "cell_type": "code",
   "execution_count": 134,
   "metadata": {},
   "outputs": [
    {
     "name": "stdout",
     "output_type": "stream",
     "text": [
      "y = 0. It's a non-cat picture.\n",
      "Number of training examples: 209\n",
      "Number of testing examples: 50\n",
      "Each image is of size: (64, 64, 3)\n",
      "train_x_orig shape: (209, 64, 64, 3)\n",
      "train_y shape: (1, 209)\n",
      "test_x_orig shape: (50, 64, 64, 3)\n",
      "test_y shape: (1, 50)\n"
     ]
    },
    {
     "data": {
      "image/png": "[encoded data removed]",
      "text/plain": [
       "<Figure size 360x288 with 1 Axes>"
      ]
     },
     "metadata": {},
     "output_type": "display_data"
    }
   ],
   "source": [
    "# Example of a picture\n",
    "index = 10\n",
    "plt.imshow(train_x_orig[index])\n",
    "print (\"y = \" + str(train_y[0,index]) + \". It's a \" + classes[train_y[0,index]].decode(\"utf-8\") +  \" picture.\")\n",
    "\n",
    "# Explore your dataset \n",
    "m_train = train_x_orig.shape[0]\n",
    "num_px = train_x_orig.shape[1]\n",
    "m_test = test_x_orig.shape[0]\n",
    "\n",
    "print (\"Number of training examples: \" + str(m_train))\n",
    "print (\"Number of testing examples: \" + str(m_test))\n",
    "print (\"Each image is of size: (\" + str(num_px) + \", \" + str(num_px) + \", 3)\")\n",
    "print (\"train_x_orig shape: \" + str(train_x_orig.shape))\n",
    "print (\"train_y shape: \" + str(train_y.shape))\n",
    "print (\"test_x_orig shape: \" + str(test_x_orig.shape))\n",
    "print (\"test_y shape: \" + str(test_y.shape))"
   ]
  },
  {
   "cell_type": "code",
   "execution_count": 135,
   "metadata": {},
   "outputs": [
    {
     "name": "stdout",
     "output_type": "stream",
     "text": [
      "train_x's shape: (12288, 209)\n",
      "test_x's shape: (12288, 50)\n"
     ]
    }
   ],
   "source": [
    "# Reshape the training and test examples \n",
    "train_x_flatten = train_x_orig.reshape(train_x_orig.shape[0], -1).T   # The \"-1\" makes reshape flatten the remaining dimensions\n",
    "test_x_flatten = test_x_orig.reshape(test_x_orig.shape[0], -1).T\n",
    "\n",
    "# Standardize data to have feature values between 0 and 1.\n",
    "train_x = train_x_flatten/255.\n",
    "test_x = test_x_flatten/255.\n",
    "\n",
    "print (\"train_x's shape: \" + str(train_x.shape))\n",
    "print (\"test_x's shape: \" + str(test_x.shape))\n"
   ]
  },
  {
   "cell_type": "markdown",
   "metadata": {},
   "source": [
    "## 两层网络模型\n",
    "\n",
    "#### 出现问题，多层数多于2层时，误差率停止下降了:\n",
    "    - 【排除原因】有可能还是全局变量的问题，要想办法进行避免：函数内部变量与外部变量要进行隔离\n",
    "    - 【定位原因】 初始化导致，不能再用统一的0.01进行初始化，要进行处理；一个检验方法就是 检查初始化权重的期望和方差"
   ]
  },
  {
   "cell_type": "code",
   "execution_count": 174,
   "metadata": {
    "collapsed": true
   },
   "outputs": [],
   "source": [
    "# 深层神经网络（系数进行处理 目的是为了下一层的输入值方差为1）\n",
    "def initialize_parameters_deep(lay_dims):\n",
    "    \"\"\"\n",
    "    初始化\n",
    "    \n",
    "    Parameters\n",
    "    ----------\n",
    "    lay_dims : python list 对于L层nn，list长度为L+1\n",
    "\n",
    "    Returns\n",
    "    -------\n",
    "    parameters : 所有参数 \n",
    "        W1~WL : 权重 (layer_dims[1],layer_dims[1-1])\n",
    "        b1~bL : bias (layer_dims[1],1) \n",
    "            \n",
    "    \"\"\"\n",
    "#     np.random.seed(3)    \n",
    "    np.random.seed(1)\n",
    "    parameters={}\n",
    "    for idx,(n_prev,n) in enumerate(zip(lay_dims[:-1],lay_dims[1:]),1):        \n",
    "        parameters['W{}'.format(idx)]=np.random.randn(n,n_prev)/np.sqrt(n_prev)\n",
    "        parameters['b{}'.format(idx)]=np.zeros((n,1))        \n",
    "    return parameters\n",
    "    \n"
   ]
  },
  {
   "cell_type": "code",
   "execution_count": 19,
   "metadata": {
    "collapsed": true
   },
   "outputs": [],
   "source": [
    "n_x=12288\n",
    "n_h=7\n",
    "n_y=1\n",
    "layers_dim=(n_x,n_h,n_y)"
   ]
  },
  {
   "cell_type": "code",
   "execution_count": 175,
   "metadata": {
    "collapsed": true
   },
   "outputs": [],
   "source": [
    "def L_layer_model(X,y,layers_dims,learning_rate=0.0075,num_iterations=3000,print_cost=False):\n",
    "    \"\"\"\n",
    "            \n",
    "    组成模型\n",
    "    \n",
    "    Parameters\n",
    "    ----------\n",
    "    X: input data\n",
    "    Y :真实值\n",
    "    learning_rate: 学习率\n",
    "    layers_dims : 参数\n",
    "    num_iterations： 循环次数\n",
    "    print_cost : 是否打印cost\n",
    "\n",
    "    Returns\n",
    "    -------\n",
    "    parameters :  dict形式\n",
    "        W1 (n_h,n_x)\n",
    "        b1 (n_h,1)\n",
    "        W2 (n_y,n_h)\n",
    "        b2 (n_y,1) \n",
    "    costs:  \n",
    "    \n",
    "            \n",
    "    \"\"\"     \n",
    "    \n",
    "    np.random.seed(1)\n",
    "    \n",
    "    #     参数初始化\n",
    "    parameters = initialize_parameters_deep(layers_dims)\n",
    "    #     循环\n",
    "    costs=[]\n",
    "    for i in range(num_iterations):\n",
    "        #         正向传播\n",
    "        AL,caches=L_model_forward(X,parameters)    \n",
    "        #         反向传播\n",
    "        grads=L_model_backward(AL, y, caches)        \n",
    "        #         参数更新\n",
    "        parameters=update_parameters(parameters,grads,learning_rate) \n",
    "        \n",
    "        #  计算损失函数 \n",
    "        if( i%100==0) :        \n",
    "            cost=compute_cost(AL,y)\n",
    "            costs.append(cost)\n",
    "            if( i%100==0) and( print_cost==True):\n",
    "                print(\"cost after {} iterations, cost={}\".format(i,cost))\n",
    "    plt.plot(np.squeeze(costs))\n",
    "    plt.xlabel(\"cost\")\n",
    "    plt.ylabel(\"iterations per hundred\")\n",
    "    plt.title(\"learnint rate={}\".format(learning_rate))\n",
    "    plt.show()\n",
    "    \n",
    "    return parameters,costs\n"
   ]
  },
  {
   "cell_type": "code",
   "execution_count": 179,
   "metadata": {},
   "outputs": [
    {
     "name": "stdout",
     "output_type": "stream",
     "text": [
      "cost after 0 iterations, cost=0.7717493284237686\n",
      "cost after 100 iterations, cost=0.6720534400822914\n",
      "cost after 200 iterations, cost=0.6482632048575212\n",
      "cost after 300 iterations, cost=0.6115068816101354\n",
      "cost after 400 iterations, cost=0.5670473268366112\n",
      "cost after 500 iterations, cost=0.5401376634547801\n",
      "cost after 600 iterations, cost=0.5279299569455267\n",
      "cost after 700 iterations, cost=0.4654773771766851\n",
      "cost after 800 iterations, cost=0.3691258524959279\n",
      "cost after 900 iterations, cost=0.39174697434805356\n",
      "cost after 1000 iterations, cost=0.31518698886006163\n",
      "cost after 1100 iterations, cost=0.2726998441789385\n",
      "cost after 1200 iterations, cost=0.23741853400268137\n",
      "cost after 1300 iterations, cost=0.19960120532208647\n",
      "cost after 1400 iterations, cost=0.18926300388463305\n",
      "cost after 1500 iterations, cost=0.1611885466582775\n",
      "cost after 1600 iterations, cost=0.14821389662363316\n",
      "cost after 1700 iterations, cost=0.13777487812972944\n",
      "cost after 1800 iterations, cost=0.1297401754919012\n",
      "cost after 1900 iterations, cost=0.12122535068005211\n",
      "cost after 2000 iterations, cost=0.1138206066863371\n",
      "cost after 2100 iterations, cost=0.10783928526254132\n",
      "cost after 2200 iterations, cost=0.10285466069352679\n",
      "cost after 2300 iterations, cost=0.10089745445261786\n",
      "cost after 2400 iterations, cost=0.09287821526472395\n",
      "cost after 2500 iterations, cost=0.08841251177615041\n",
      "cost after 2600 iterations, cost=0.08595130416146428\n",
      "cost after 2700 iterations, cost=0.08168126914926337\n",
      "cost after 2800 iterations, cost=0.07824661275815536\n",
      "cost after 2900 iterations, cost=0.07544408693855482\n"
     ]
    },
    {
     "data": {
      "image/png": "[encoded data removed]",
      "text/plain": [
       "<Figure size 360x288 with 1 Axes>"
      ]
     },
     "metadata": {},
     "output_type": "display_data"
    }
   ],
   "source": [
    "layers_dims = [12288, 20, 7, 5, 1] #  4-layer model\n",
    "parameters,costs = L_layer_model(train_x, train_y, layers_dims = layers_dims,learning_rate=0.0075, num_iterations = 3000, print_cost=True)        \n"
   ]
  },
  {
   "cell_type": "code",
   "execution_count": 181,
   "metadata": {
    "collapsed": true
   },
   "outputs": [],
   "source": [
    "def predict(X,y,parameters):\n",
    "    \"\"\"\n",
    "    预测\n",
    "    \n",
    "    Parameters\n",
    "    ----------\n",
    "    X : \n",
    "    y : \n",
    "    parameters: 模型参数\n",
    "\n",
    "    Returns\n",
    "    -------\n",
    "    y_hat : 预测值            \n",
    "    \"\"\"\n",
    "    m=y.shape[1]\n",
    "    AL,caches=L_model_forward(X,parameters)\n",
    "    y_hat=(AL>0.5)\n",
    "    print(\"accuracy={:,.2%}\".format(np.sum(y_hat==y)/m))\n",
    "    \n",
    "    return y_hat\n",
    "    "
   ]
  },
  {
   "cell_type": "code",
   "execution_count": 184,
   "metadata": {},
   "outputs": [
    {
     "name": "stdout",
     "output_type": "stream",
     "text": [
      "accuracy=99.04%\n",
      "accuracy=82.00%\n"
     ]
    }
   ],
   "source": [
    "prediction_train=predict(train_x,train_y,parameters)\n",
    "prediction_test=predict(test_x,test_y,parameters)"
   ]
  },
  {
   "cell_type": "code",
   "execution_count": 185,
   "metadata": {
    "collapsed": true
   },
   "outputs": [],
   "source": [
    "def print_mislabeled_images(classes,X,y,p):\n",
    "    \n",
    "#     a=p+y\n",
    "#     mislabled_indexes=np.asarray(np.where(a==1))\n",
    "#     plt.rcParams['figure.figsize'] = (40.0, 40.0) # set default size of plots    \n",
    "#     num_images=len(mislabled_indexes[0])\n",
    "#     for i in range(num_images):\n",
    "#         index=mislabled_indexes[1][i]\n",
    "#         plt.subplot(2,num_images,i+1)\n",
    "#         plt.imshow(X[:,index].reshape(64,64,3), interpolation='nearest')\n",
    "#         plt.axis('off')\n",
    "#         plt.title(\"Prediction: \" + classes[int(p[0,index])].decode(\"utf-8\") + \" \\n Class: \" + classes[y[0,index]].decode(\"utf-8\"))        \n",
    "        \n",
    "    a = p + y\n",
    "    mislabeled_indices = np.asarray(np.where(a == 1))\n",
    "    plt.rcParams['figure.figsize'] = (40.0, 40.0) # set default size of plots\n",
    "    num_images = len(mislabeled_indices[0])\n",
    "    for i in range(num_images):\n",
    "        index = mislabeled_indices[1][i]\n",
    "        \n",
    "        plt.subplot(1, num_images, i + 1)\n",
    "        plt.imshow(X[:,index].reshape(64,64,3), interpolation='nearest')\n",
    "        plt.axis('off')\n",
    "        plt.title(\"Prediction: \" + classes[int(p[0,index])].decode(\"utf-8\") + \" \\n Class: \" + classes[y[0,index]].decode(\"utf-8\"))\n",
    "        \n",
    "    \n",
    "    \n",
    "    "
   ]
  },
  {
   "cell_type": "code",
   "execution_count": 186,
   "metadata": {},
   "outputs": [
    {
     "data": {
      "image/png": "[encoded data removed]",
      "text/plain": [
       "<Figure size 2880x2880 with 9 Axes>"
      ]
     },
     "metadata": {},
     "output_type": "display_data"
    }
   ],
   "source": [
    "print_mislabeled_images(classes, test_x, test_y, prediction_test)"
   ]
  },
  {
   "cell_type": "markdown",
   "metadata": {},
   "source": [
    "## 拓展 神经网络中的权重初始化：Why and How\n",
    "\n",
    "在学习过程中，发现权重初始化对结果影响非常大，现在予以探索分析。\n",
    "\n",
    "参考资料 [【深度学习】神经网络中的权重初始化：Why and How](https://www.jianshu.com/p/03009cfdf733)"
   ]
  },
  {
   "cell_type": "code",
   "execution_count": 194,
   "metadata": {},
   "outputs": [
    {
     "name": "stdout",
     "output_type": "stream",
     "text": [
      "(12288, 209)\n"
     ]
    }
   ],
   "source": [
    "print(train_x.shape)"
   ]
  },
  {
   "cell_type": "code",
   "execution_count": 191,
   "metadata": {
    "scrolled": true
   },
   "outputs": [
    {
     "data": {
      "text/plain": [
       "0.40394951382292327"
      ]
     },
     "execution_count": 191,
     "metadata": {},
     "output_type": "execute_result"
    }
   ],
   "source": [
    "train_x.mean()"
   ]
  },
  {
   "cell_type": "code",
   "execution_count": 204,
   "metadata": {},
   "outputs": [
    {
     "data": {
      "text/plain": [
       "0.2632300743951364"
      ]
     },
     "execution_count": 204,
     "metadata": {},
     "output_type": "execute_result"
    }
   ],
   "source": [
    "train_x.std()"
   ]
  },
  {
   "cell_type": "code",
   "execution_count": 206,
   "metadata": {
    "scrolled": true
   },
   "outputs": [
    {
     "name": "stdout",
     "output_type": "stream",
     "text": [
      "745.5631027642584 2482.250202261762\n",
      "6.7216755334696074 22.387937541033068\n"
     ]
    }
   ],
   "source": [
    "n_prev=train_x.shape[0]\n",
    "n_next=100\n",
    "W=np.random.rand(n_next,n_prev)\n",
    "Z1=np.matmul(W,train_x)\n",
    "plt.plot(kind='hist',np.squeeze(W))\n",
    "print(Z1.std(),Z1.mean())\n",
    "W=np.random.rand(n_next,n_prev)/np.sqrt(12288)\n",
    "Z1=np.matmul(W,train_x)\n",
    "print(Z1.std(),Z1.mean())\n"
   ]
  },
  {
   "cell_type": "code",
   "execution_count": 207,
   "metadata": {},
   "outputs": [
    {
     "name": "stdout",
     "output_type": "stream",
     "text": [
      "743.3998002503545 2475.0704637114386\n",
      "6.732520980325034 22.41436893648117\n"
     ]
    }
   ],
   "source": [
    "n_prev=train_x.shape[0]\n",
    "n_next=10\n",
    "W=np.random.rand(n_next,n_prev)\n",
    "Z1=np.matmul(W,train_x)\n",
    "print(Z1.std(),Z1.mean())\n",
    "W=np.random.rand(n_next,n_prev)/np.sqrt(12288)\n",
    "Z1=np.matmul(W,train_x)\n",
    "print(Z1.std(),Z1.mean())"
   ]
  },
  {
   "cell_type": "code",
   "execution_count": 213,
   "metadata": {
    "collapsed": true
   },
   "outputs": [],
   "source": [
    "# 结论： 如果方差不为1 或者均值不为0，那么一直处于饱和状态，这也解释了为什么之前数据一直不收敛的情况。"
   ]
  },
  {
   "cell_type": "code",
   "execution_count": 214,
   "metadata": {},
   "outputs": [
    {
     "data": {
      "text/plain": [
       "'/Users/pengju/python-workspace/deep-learning-coursera-full/Neural Networks and Deep Learning/Week 4/Building your Deep Neural Network - Step by Step'"
      ]
     },
     "execution_count": 214,
     "metadata": {},
     "output_type": "execute_result"
    }
   ],
   "source": [
    "pwd"
   ]
  },
  {
   "cell_type": "code",
   "execution_count": null,
   "metadata": {
    "collapsed": true
   },
   "outputs": [],
   "source": []
  }
 ],
 "metadata": {
  "kernelspec": {
   "display_name": "Python 3",
   "language": "python",
   "name": "python3"
  },
  "language_info": {
   "codemirror_mode": {
    "name": "ipython",
    "version": 3
   },
   "file_extension": ".py",
   "mimetype": "text/x-python",
   "name": "python",
   "nbconvert_exporter": "python",
   "pygments_lexer": "ipython3",
   "version": "3.6.3"
  }
 },
 "nbformat": 4,
 "nbformat_minor": 2
}
