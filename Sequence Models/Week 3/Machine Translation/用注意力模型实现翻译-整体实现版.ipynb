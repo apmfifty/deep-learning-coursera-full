{
 "cells": [
  {
   "cell_type": "code",
   "execution_count": 20,
   "metadata": {},
   "outputs": [],
   "source": [
    "from keras.layers import Bidirectional, Concatenate, Permute, Dot, Input, LSTM, Multiply\n",
    "from keras.layers import RepeatVector, Dense, Activation, Lambda\n",
    "from keras.optimizers import Adam\n",
    "from keras.utils import to_categorical\n",
    "from keras.models import load_model, Model\n",
    "import keras.backend as K\n",
    "import numpy as np\n",
    "\n",
    "from faker import Faker\n",
    "import random\n",
    "from tqdm import tqdm\n",
    "from babel.dates import format_date\n",
    "from nmt_utils import *\n",
    "import matplotlib.pyplot as plt\n",
    "%matplotlib inline"
   ]
  },
  {
   "cell_type": "code",
   "execution_count": 21,
   "metadata": {},
   "outputs": [
    {
     "name": "stderr",
     "output_type": "stream",
     "text": [
      "100%|██████████| 10000/10000 [00:00<00:00, 21490.32it/s]\n"
     ]
    }
   ],
   "source": [
    "m = 10000\n",
    "dataset, human_vocab, machine_vocab, inv_machine_vocab = load_dataset(m)"
   ]
  },
  {
   "cell_type": "code",
   "execution_count": 22,
   "metadata": {},
   "outputs": [
    {
     "data": {
      "text/plain": [
       "[('21 march 1973', '1973-03-21'),\n",
       " ('sunday july 8 2012', '2012-07-08'),\n",
       " ('thursday april 9 2015', '2015-04-09'),\n",
       " ('8/10/96', '1996-08-10'),\n",
       " ('monday january 22 1990', '1990-01-22'),\n",
       " ('wednesday may 5 1976', '1976-05-05'),\n",
       " ('05 jun 2017', '2017-06-05'),\n",
       " ('8 09 81', '1981-09-08'),\n",
       " ('friday december 17 2010', '2010-12-17'),\n",
       " ('thursday may 31 2001', '2001-05-31')]"
      ]
     },
     "execution_count": 22,
     "metadata": {},
     "output_type": "execute_result"
    }
   ],
   "source": [
    "dataset[:10]"
   ]
  },
  {
   "cell_type": "code",
   "execution_count": 23,
   "metadata": {},
   "outputs": [
    {
     "name": "stdout",
     "output_type": "stream",
     "text": [
      "X.shape: (10000, 30)\n",
      "Y.shape: (10000, 10)\n",
      "Xoh.shape: (10000, 30, 37)\n",
      "Yoh.shape: (10000, 10, 11)\n"
     ]
    }
   ],
   "source": [
    "Tx = 30\n",
    "Ty = 10\n",
    "X, Y, Xoh, Yoh = preprocess_data(dataset, human_vocab, machine_vocab, Tx, Ty)\n",
    "\n",
    "print(\"X.shape:\", X.shape)\n",
    "print(\"Y.shape:\", Y.shape)\n",
    "print(\"Xoh.shape:\", Xoh.shape)\n",
    "print(\"Yoh.shape:\", Yoh.shape)"
   ]
  },
  {
   "cell_type": "code",
   "execution_count": 24,
   "metadata": {},
   "outputs": [
    {
     "name": "stdout",
     "output_type": "stream",
     "text": [
      "Source date: 21 march 1973\n",
      "Target date: 1973-03-21\n",
      "\n",
      "Source after preprocessing (indices): [ 5  4  0 24 13 28 15 20  0  4 12 10  6 36 36 36 36 36 36 36 36 36 36 36\n",
      " 36 36 36 36 36 36]\n",
      "Target after preprocessing (indices): [ 2 10  8  4  0  1  4  0  3  2]\n",
      "\n",
      "Source after preprocessing (one-hot): [[0. 0. 0. ... 0. 0. 0.]\n",
      " [0. 0. 0. ... 0. 0. 0.]\n",
      " [1. 0. 0. ... 0. 0. 0.]\n",
      " ...\n",
      " [0. 0. 0. ... 0. 0. 1.]\n",
      " [0. 0. 0. ... 0. 0. 1.]\n",
      " [0. 0. 0. ... 0. 0. 1.]]\n",
      "Target after preprocessing (one-hot): [[0. 0. 1. 0. 0. 0. 0. 0. 0. 0. 0.]\n",
      " [0. 0. 0. 0. 0. 0. 0. 0. 0. 0. 1.]\n",
      " [0. 0. 0. 0. 0. 0. 0. 0. 1. 0. 0.]\n",
      " [0. 0. 0. 0. 1. 0. 0. 0. 0. 0. 0.]\n",
      " [1. 0. 0. 0. 0. 0. 0. 0. 0. 0. 0.]\n",
      " [0. 1. 0. 0. 0. 0. 0. 0. 0. 0. 0.]\n",
      " [0. 0. 0. 0. 1. 0. 0. 0. 0. 0. 0.]\n",
      " [1. 0. 0. 0. 0. 0. 0. 0. 0. 0. 0.]\n",
      " [0. 0. 0. 1. 0. 0. 0. 0. 0. 0. 0.]\n",
      " [0. 0. 1. 0. 0. 0. 0. 0. 0. 0. 0.]]\n"
     ]
    }
   ],
   "source": [
    "index = 0\n",
    "print(\"Source date:\", dataset[index][0])\n",
    "print(\"Target date:\", dataset[index][1])\n",
    "print()\n",
    "print(\"Source after preprocessing (indices):\", X[index])\n",
    "print(\"Target after preprocessing (indices):\", Y[index])\n",
    "print()\n",
    "print(\"Source after preprocessing (one-hot):\", Xoh[index])\n",
    "print(\"Target after preprocessing (one-hot):\", Yoh[index])"
   ]
  },
  {
   "cell_type": "code",
   "execution_count": 25,
   "metadata": {},
   "outputs": [],
   "source": [
    "repeator=RepeatVector(Tx)\n",
    "concatenator=Concatenate(axis=-1)\n",
    "densor1=Dense(10,activation='tanh')\n",
    "densor2=Dense(1,activation='relu')\n",
    "activator = Activation(softmax, name='attention_weights') # We are using a custom softmax(axis = 1) loaded in this notebook\n",
    "dotor = Dot(axes = 1)"
   ]
  },
  {
   "cell_type": "markdown",
   "metadata": {},
   "source": [
    "```context=dotor(alphas,a)```改为 ```     context=dotor([alphas,a])```"
   ]
  },
  {
   "cell_type": "code",
   "execution_count": 26,
   "metadata": {},
   "outputs": [],
   "source": [
    "def one_step_attention(a,s_prev):\n",
    "    s_prev=repeator(s_prev)\n",
    "#     concat=concatenator([s_prev,a])\n",
    "    concat=concatenator([a,s_prev])\n",
    "    e=densor1(concat)\n",
    "    energies=densor2(e)\n",
    "    alphas=activator(energies)\n",
    "    context=dotor([alphas,a])\n",
    "    return context\n",
    "    \n",
    "    \n",
    "    "
   ]
  },
  {
   "cell_type": "code",
   "execution_count": 27,
   "metadata": {},
   "outputs": [],
   "source": [
    "n_a=32\n",
    "n_s=64\n",
    "post_activation_LSTM_cell=LSTM(n_s,return_state=True)\n",
    "output_layer=Dense(len(machine_vocab),activation=softmax)"
   ]
  },
  {
   "cell_type": "markdown",
   "metadata": {},
   "source": [
    "####  双向LSTM:  应该是嵌套关系（外层Bidirectional，内层LSTM）\n",
    "- 错误\n",
    "\n",
    "```\n",
    "    a=Bidirectional(n_s,return_state=True)\n",
    "\n",
    "```\n",
    "- 正确\n",
    "\n",
    "```\n",
    "    a=Bidirectional(LSTM(n_s,return_state=True))\n",
    "\n",
    "```\n",
    "\n",
    "\n",
    "#### bug\n",
    "\n",
    "```\n",
    "<ipython-input-116-57255807c600> in one_step_attention(a, s_prev)\n",
    "      2     s_prev=RepeatVector(s_prev)\n",
    "      3 #     concat=concatenator([s_prev,a])\n",
    "----> 4     concat=concatenator([a,s_prev])\n",
    "      5     e=densor1(concat)\n",
    "      6     energies=densor2(e)\n",
    "\n",
    "~/miniconda3/lib/python3.6/site-packages/keras/engine/topology.py in __call__(self, inputs, **kwargs)\n",
    "    556                 # Raise exceptions in case the input is not compatible\n",
    "    557                 # with the input_spec specified in the layer constructor.\n",
    "--> 558                 self.assert_input_compatibility(inputs)\n",
    "    559 \n",
    "    560                 # Collect input shapes to build layer.\n",
    "\n",
    "~/miniconda3/lib/python3.6/site-packages/keras/engine/topology.py in assert_input_compatibility(self, inputs)\n",
    "    429                                  'Received type: ' +\n",
    "    430                                  str(type(x)) + '. Full input: ' +\n",
    "--> 431                                  str(inputs) + '. All inputs to the layer '\n",
    "    432                                  'should be tensors.')\n",
    "    433 \n",
    "\n",
    "ValueError: Layer concatenate_3 was called with an input that isn't a symbolic tensor. Received type: <class 'keras.layers.core.RepeatVector'>. Full input: [<tf.Tensor 'bidirectional_14/concat_2:0' shape=(?, ?, 128) dtype=float32>, <keras.layers.core.RepeatVector object at 0x7f65a7af1c18>]. All inputs to the layer should be tensors.\n",
    "\n",
    "```\n",
    "\n",
    "\n",
    "#### 【bug】`a=Bidirectional(LSTM(n_s,return_state=True),input_shape=(m,Tx,n_a*2))(X) `中 `return_state=True` 改为 `return_sequence=True`\n",
    "\n",
    "```\n",
    "<ipython-input-103-060c318cc92f> in model(Tx, Ty, n_a, n_s, human_vocab_size, machine_vocab_size)\n",
    "      6     c=c0\n",
    "      7 \n",
    "----> 8     a=Bidirectional(LSTM(n_s,return_state=True),input_shape=(m,Tx,n_a*2))(X)\n",
    "      9 \n",
    "     10     outputs=[]\n",
    "     \n",
    "~/miniconda3/lib/python3.6/site-packages/keras/backend/tensorflow_backend.py in ndim(x)\n",
    "    542     \n",
    "    543     \"\"\"\n",
    "--> 544     dims = x.get_shape()._dims\n",
    "    545     if dims is not None:\n",
    "    546         return len(dims)\n",
    "\n",
    "AttributeError: 'list' object has no attribute 'get_shape'     \n",
    "```\n",
    "\n",
    "#### 【bug】系数比预期 `(None, 30, 64) `翻了一番\n",
    "```\n",
    "bidirectional_1 (Bidirectional)  (None, 30, 128) \n",
    "```"
   ]
  },
  {
   "cell_type": "code",
   "execution_count": 28,
   "metadata": {},
   "outputs": [],
   "source": [
    "def model(Tx,Ty,n_a,n_s,human_vocab_size,machine_vocab_size):\n",
    "    X=Input(shape=(Tx,human_vocab_size))\n",
    "    s0=Input(shape=(n_s,),name='s0')\n",
    "    c0=Input(shape=(n_s,),name='c0')\n",
    "    s=s0\n",
    "    c=c0\n",
    "    \n",
    "    a=Bidirectional(LSTM(n_a,return_sequences=True),input_shape=(m,Tx,n_a*2))(X)\n",
    "    \n",
    "    outputs=[]\n",
    "    \n",
    "    for t in range(Ty):    \n",
    "        context=one_step_attention(a,s)\n",
    "        s,_,c=post_activation_LSTM_cell(context,initial_state=[s,c])\n",
    "        out=output_layer(s)\n",
    "        outputs.append(out)\n",
    "        \n",
    "    model = Model(inputs=[X,s0,c0],outputs=outputs)\n",
    "    \n",
    "    return model"
   ]
  },
  {
   "cell_type": "code",
   "execution_count": 29,
   "metadata": {
    "scrolled": true
   },
   "outputs": [],
   "source": [
    "model=model(Tx,Ty,n_a,n_s,len(human_vocab),len(machine_vocab))"
   ]
  },
  {
   "cell_type": "code",
   "execution_count": 30,
   "metadata": {
    "scrolled": true
   },
   "outputs": [
    {
     "name": "stdout",
     "output_type": "stream",
     "text": [
      "____________________________________________________________________________________________________\n",
      "Layer (type)                     Output Shape          Param #     Connected to                     \n",
      "====================================================================================================\n",
      "input_2 (InputLayer)             (None, 30, 37)        0                                            \n",
      "____________________________________________________________________________________________________\n",
      "s0 (InputLayer)                  (None, 64)            0                                            \n",
      "____________________________________________________________________________________________________\n",
      "bidirectional_2 (Bidirectional)  (None, 30, 64)        17920       input_2[0][0]                    \n",
      "____________________________________________________________________________________________________\n",
      "repeat_vector_2 (RepeatVector)   (None, 30, 64)        0           s0[0][0]                         \n",
      "                                                                   lstm_3[0][0]                     \n",
      "                                                                   lstm_3[1][0]                     \n",
      "                                                                   lstm_3[2][0]                     \n",
      "                                                                   lstm_3[3][0]                     \n",
      "                                                                   lstm_3[4][0]                     \n",
      "                                                                   lstm_3[5][0]                     \n",
      "                                                                   lstm_3[6][0]                     \n",
      "                                                                   lstm_3[7][0]                     \n",
      "                                                                   lstm_3[8][0]                     \n",
      "____________________________________________________________________________________________________\n",
      "concatenate_2 (Concatenate)      (None, 30, 128)       0           bidirectional_2[0][0]            \n",
      "                                                                   repeat_vector_2[0][0]            \n",
      "                                                                   bidirectional_2[0][0]            \n",
      "                                                                   repeat_vector_2[1][0]            \n",
      "                                                                   bidirectional_2[0][0]            \n",
      "                                                                   repeat_vector_2[2][0]            \n",
      "                                                                   bidirectional_2[0][0]            \n",
      "                                                                   repeat_vector_2[3][0]            \n",
      "                                                                   bidirectional_2[0][0]            \n",
      "                                                                   repeat_vector_2[4][0]            \n",
      "                                                                   bidirectional_2[0][0]            \n",
      "                                                                   repeat_vector_2[5][0]            \n",
      "                                                                   bidirectional_2[0][0]            \n",
      "                                                                   repeat_vector_2[6][0]            \n",
      "                                                                   bidirectional_2[0][0]            \n",
      "                                                                   repeat_vector_2[7][0]            \n",
      "                                                                   bidirectional_2[0][0]            \n",
      "                                                                   repeat_vector_2[8][0]            \n",
      "                                                                   bidirectional_2[0][0]            \n",
      "                                                                   repeat_vector_2[9][0]            \n",
      "____________________________________________________________________________________________________\n",
      "dense_4 (Dense)                  (None, 30, 10)        1290        concatenate_2[0][0]              \n",
      "                                                                   concatenate_2[1][0]              \n",
      "                                                                   concatenate_2[2][0]              \n",
      "                                                                   concatenate_2[3][0]              \n",
      "                                                                   concatenate_2[4][0]              \n",
      "                                                                   concatenate_2[5][0]              \n",
      "                                                                   concatenate_2[6][0]              \n",
      "                                                                   concatenate_2[7][0]              \n",
      "                                                                   concatenate_2[8][0]              \n",
      "                                                                   concatenate_2[9][0]              \n",
      "____________________________________________________________________________________________________\n",
      "dense_5 (Dense)                  (None, 30, 1)         11          dense_4[0][0]                    \n",
      "                                                                   dense_4[1][0]                    \n",
      "                                                                   dense_4[2][0]                    \n",
      "                                                                   dense_4[3][0]                    \n",
      "                                                                   dense_4[4][0]                    \n",
      "                                                                   dense_4[5][0]                    \n",
      "                                                                   dense_4[6][0]                    \n",
      "                                                                   dense_4[7][0]                    \n",
      "                                                                   dense_4[8][0]                    \n",
      "                                                                   dense_4[9][0]                    \n",
      "____________________________________________________________________________________________________\n",
      "attention_weights (Activation)   (None, 30, 1)         0           dense_5[0][0]                    \n",
      "                                                                   dense_5[1][0]                    \n",
      "                                                                   dense_5[2][0]                    \n",
      "                                                                   dense_5[3][0]                    \n",
      "                                                                   dense_5[4][0]                    \n",
      "                                                                   dense_5[5][0]                    \n",
      "                                                                   dense_5[6][0]                    \n",
      "                                                                   dense_5[7][0]                    \n",
      "                                                                   dense_5[8][0]                    \n",
      "                                                                   dense_5[9][0]                    \n",
      "____________________________________________________________________________________________________\n",
      "dot_2 (Dot)                      (None, 1, 64)         0           attention_weights[0][0]          \n",
      "                                                                   bidirectional_2[0][0]            \n",
      "                                                                   attention_weights[1][0]          \n",
      "                                                                   bidirectional_2[0][0]            \n",
      "                                                                   attention_weights[2][0]          \n",
      "                                                                   bidirectional_2[0][0]            \n",
      "                                                                   attention_weights[3][0]          \n",
      "                                                                   bidirectional_2[0][0]            \n",
      "                                                                   attention_weights[4][0]          \n",
      "                                                                   bidirectional_2[0][0]            \n",
      "                                                                   attention_weights[5][0]          \n",
      "                                                                   bidirectional_2[0][0]            \n",
      "                                                                   attention_weights[6][0]          \n",
      "                                                                   bidirectional_2[0][0]            \n",
      "                                                                   attention_weights[7][0]          \n",
      "                                                                   bidirectional_2[0][0]            \n",
      "                                                                   attention_weights[8][0]          \n",
      "                                                                   bidirectional_2[0][0]            \n",
      "                                                                   attention_weights[9][0]          \n",
      "                                                                   bidirectional_2[0][0]            \n",
      "____________________________________________________________________________________________________\n",
      "c0 (InputLayer)                  (None, 64)            0                                            \n",
      "____________________________________________________________________________________________________\n",
      "lstm_3 (LSTM)                    [(None, 64), (None, 6 33024       dot_2[0][0]                      \n",
      "                                                                   s0[0][0]                         \n",
      "                                                                   c0[0][0]                         \n",
      "                                                                   dot_2[1][0]                      \n",
      "                                                                   lstm_3[0][0]                     \n",
      "                                                                   lstm_3[0][2]                     \n",
      "                                                                   dot_2[2][0]                      \n",
      "                                                                   lstm_3[1][0]                     \n",
      "                                                                   lstm_3[1][2]                     \n",
      "                                                                   dot_2[3][0]                      \n",
      "                                                                   lstm_3[2][0]                     \n",
      "                                                                   lstm_3[2][2]                     \n",
      "                                                                   dot_2[4][0]                      \n",
      "                                                                   lstm_3[3][0]                     \n",
      "                                                                   lstm_3[3][2]                     \n",
      "                                                                   dot_2[5][0]                      \n",
      "                                                                   lstm_3[4][0]                     \n",
      "                                                                   lstm_3[4][2]                     \n",
      "                                                                   dot_2[6][0]                      \n",
      "                                                                   lstm_3[5][0]                     \n",
      "                                                                   lstm_3[5][2]                     \n",
      "                                                                   dot_2[7][0]                      \n",
      "                                                                   lstm_3[6][0]                     \n",
      "                                                                   lstm_3[6][2]                     \n",
      "                                                                   dot_2[8][0]                      \n",
      "                                                                   lstm_3[7][0]                     \n",
      "                                                                   lstm_3[7][2]                     \n",
      "                                                                   dot_2[9][0]                      \n",
      "                                                                   lstm_3[8][0]                     \n",
      "                                                                   lstm_3[8][2]                     \n",
      "____________________________________________________________________________________________________\n",
      "dense_6 (Dense)                  (None, 11)            715         lstm_3[0][0]                     \n",
      "                                                                   lstm_3[1][0]                     \n",
      "                                                                   lstm_3[2][0]                     \n",
      "                                                                   lstm_3[3][0]                     \n",
      "                                                                   lstm_3[4][0]                     \n",
      "                                                                   lstm_3[5][0]                     \n",
      "                                                                   lstm_3[6][0]                     \n",
      "                                                                   lstm_3[7][0]                     \n",
      "                                                                   lstm_3[8][0]                     \n",
      "                                                                   lstm_3[9][0]                     \n",
      "====================================================================================================\n",
      "Total params: 52,960\n",
      "Trainable params: 52,960\n",
      "Non-trainable params: 0\n",
      "____________________________________________________________________________________________________\n"
     ]
    }
   ],
   "source": [
    "model.summary()"
   ]
  },
  {
   "cell_type": "code",
   "execution_count": 31,
   "metadata": {},
   "outputs": [],
   "source": [
    "opt=Adam(lr=0.005,beta_1=0.9,beta_2=0.999,decay=0.01)\n",
    "model.compile(loss='categorical_crossentropy',optimizer=opt,metrics=['accuracy'])"
   ]
  },
  {
   "cell_type": "code",
   "execution_count": 32,
   "metadata": {},
   "outputs": [],
   "source": [
    "s0=np.zeros((m,n_s))\n",
    "c0=np.zeros((m,n_s))\n",
    "outputs=list(Yoh.swapaxes(0,1))"
   ]
  },
  {
   "cell_type": "code",
   "execution_count": 33,
   "metadata": {
    "scrolled": true
   },
   "outputs": [
    {
     "name": "stdout",
     "output_type": "stream",
     "text": [
      "Epoch 1/50\n",
      "10000/10000 [==============================] - 13s - loss: 16.8011 - dense_6_loss_1: 1.1405 - dense_6_loss_2: 0.9764 - dense_6_loss_3: 1.7010 - dense_6_loss_4: 2.6880 - dense_6_loss_5: 0.8111 - dense_6_loss_6: 1.3757 - dense_6_loss_7: 2.7021 - dense_6_loss_8: 1.0605 - dense_6_loss_9: 1.7320 - dense_6_loss_10: 2.6139 - dense_6_acc_1: 0.5447 - dense_6_acc_2: 0.7282 - dense_6_acc_3: 0.3114 - dense_6_acc_4: 0.0740 - dense_6_acc_5: 0.9633 - dense_6_acc_6: 0.3013 - dense_6_acc_7: 0.0509 - dense_6_acc_8: 0.8825 - dense_6_acc_9: 0.2584 - dense_6_acc_10: 0.1031    \n",
      "Epoch 2/50\n",
      "10000/10000 [==============================] - 11s - loss: 9.0614 - dense_6_loss_1: 0.1354 - dense_6_loss_2: 0.1135 - dense_6_loss_3: 1.0192 - dense_6_loss_4: 2.1661 - dense_6_loss_5: 0.0338 - dense_6_loss_6: 0.3928 - dense_6_loss_7: 1.8798 - dense_6_loss_8: 0.0229 - dense_6_loss_9: 1.1416 - dense_6_loss_10: 2.1563 - dense_6_acc_1: 0.9702 - dense_6_acc_2: 0.9708 - dense_6_acc_3: 0.5209 - dense_6_acc_4: 0.2074 - dense_6_acc_5: 1.0000 - dense_6_acc_6: 0.8549 - dense_6_acc_7: 0.3385 - dense_6_acc_8: 1.0000 - dense_6_acc_9: 0.4817 - dense_6_acc_10: 0.2078    \n",
      "Epoch 3/50\n",
      "10000/10000 [==============================] - 12s - loss: 7.4471 - dense_6_loss_1: 0.0884 - dense_6_loss_2: 0.0733 - dense_6_loss_3: 0.8758 - dense_6_loss_4: 1.9410 - dense_6_loss_5: 0.0181 - dense_6_loss_6: 0.1967 - dense_6_loss_7: 1.4286 - dense_6_loss_8: 0.0140 - dense_6_loss_9: 0.9028 - dense_6_loss_10: 1.9085 - dense_6_acc_1: 0.9764 - dense_6_acc_2: 0.9770 - dense_6_acc_3: 0.6329 - dense_6_acc_4: 0.3072 - dense_6_acc_5: 1.0000 - dense_6_acc_6: 0.9456 - dense_6_acc_7: 0.5286 - dense_6_acc_8: 1.0000 - dense_6_acc_9: 0.6208 - dense_6_acc_10: 0.2894    \n",
      "Epoch 4/50\n",
      "10000/10000 [==============================] - 11s - loss: 5.9784 - dense_6_loss_1: 0.0802 - dense_6_loss_2: 0.0630 - dense_6_loss_3: 0.6601 - dense_6_loss_4: 1.4832 - dense_6_loss_5: 0.0149 - dense_6_loss_6: 0.1415 - dense_6_loss_7: 1.1213 - dense_6_loss_8: 0.0146 - dense_6_loss_9: 0.7858 - dense_6_loss_10: 1.6138 - dense_6_acc_1: 0.9778 - dense_6_acc_2: 0.9788 - dense_6_acc_3: 0.7823 - dense_6_acc_4: 0.5202 - dense_6_acc_5: 0.9999 - dense_6_acc_6: 0.9610 - dense_6_acc_7: 0.6209 - dense_6_acc_8: 1.0000 - dense_6_acc_9: 0.6805 - dense_6_acc_10: 0.4039    \n",
      "Epoch 5/50\n",
      "10000/10000 [==============================] - 11s - loss: 4.4960 - dense_6_loss_1: 0.0768 - dense_6_loss_2: 0.0566 - dense_6_loss_3: 0.4792 - dense_6_loss_4: 0.9695 - dense_6_loss_5: 0.0121 - dense_6_loss_6: 0.1214 - dense_6_loss_7: 0.8969 - dense_6_loss_8: 0.0146 - dense_6_loss_9: 0.6943 - dense_6_loss_10: 1.1745 - dense_6_acc_1: 0.9796 - dense_6_acc_2: 0.9820 - dense_6_acc_3: 0.8385 - dense_6_acc_4: 0.7408 - dense_6_acc_5: 0.9999 - dense_6_acc_6: 0.9664 - dense_6_acc_7: 0.7112 - dense_6_acc_8: 1.0000 - dense_6_acc_9: 0.7335 - dense_6_acc_10: 0.6093    \n",
      "Epoch 6/50\n",
      "10000/10000 [==============================] - 11s - loss: 3.4409 - dense_6_loss_1: 0.0741 - dense_6_loss_2: 0.0538 - dense_6_loss_3: 0.3833 - dense_6_loss_4: 0.6410 - dense_6_loss_5: 0.0097 - dense_6_loss_6: 0.1054 - dense_6_loss_7: 0.7342 - dense_6_loss_8: 0.0124 - dense_6_loss_9: 0.6232 - dense_6_loss_10: 0.8037 - dense_6_acc_1: 0.9786 - dense_6_acc_2: 0.9822 - dense_6_acc_3: 0.8626 - dense_6_acc_4: 0.8552 - dense_6_acc_5: 1.0000 - dense_6_acc_6: 0.9721 - dense_6_acc_7: 0.7779 - dense_6_acc_8: 1.0000 - dense_6_acc_9: 0.7728 - dense_6_acc_10: 0.7571    \n",
      "Epoch 7/50\n",
      "10000/10000 [==============================] - 11s - loss: 2.7382 - dense_6_loss_1: 0.0686 - dense_6_loss_2: 0.0489 - dense_6_loss_3: 0.3167 - dense_6_loss_4: 0.4632 - dense_6_loss_5: 0.0077 - dense_6_loss_6: 0.0925 - dense_6_loss_7: 0.6109 - dense_6_loss_8: 0.0105 - dense_6_loss_9: 0.5649 - dense_6_loss_10: 0.5542 - dense_6_acc_1: 0.9790 - dense_6_acc_2: 0.9837 - dense_6_acc_3: 0.8894 - dense_6_acc_4: 0.8999 - dense_6_acc_5: 1.0000 - dense_6_acc_6: 0.9745 - dense_6_acc_7: 0.8224 - dense_6_acc_8: 1.0000 - dense_6_acc_9: 0.7987 - dense_6_acc_10: 0.8379    \n",
      "Epoch 8/50\n",
      "10000/10000 [==============================] - 11s - loss: 2.2416 - dense_6_loss_1: 0.0635 - dense_6_loss_2: 0.0425 - dense_6_loss_3: 0.2630 - dense_6_loss_4: 0.3589 - dense_6_loss_5: 0.0066 - dense_6_loss_6: 0.0808 - dense_6_loss_7: 0.5050 - dense_6_loss_8: 0.0088 - dense_6_loss_9: 0.5066 - dense_6_loss_10: 0.4060 - dense_6_acc_1: 0.9789 - dense_6_acc_2: 0.9852 - dense_6_acc_3: 0.9094 - dense_6_acc_4: 0.9256 - dense_6_acc_5: 1.0000 - dense_6_acc_6: 0.9776 - dense_6_acc_7: 0.8662 - dense_6_acc_8: 1.0000 - dense_6_acc_9: 0.8254 - dense_6_acc_10: 0.8871    \n",
      "Epoch 9/50\n",
      "10000/10000 [==============================] - 12s - loss: 1.9051 - dense_6_loss_1: 0.0585 - dense_6_loss_2: 0.0374 - dense_6_loss_3: 0.2181 - dense_6_loss_4: 0.2918 - dense_6_loss_5: 0.0056 - dense_6_loss_6: 0.0739 - dense_6_loss_7: 0.4381 - dense_6_loss_8: 0.0073 - dense_6_loss_9: 0.4594 - dense_6_loss_10: 0.3150 - dense_6_acc_1: 0.9806 - dense_6_acc_2: 0.9870 - dense_6_acc_3: 0.9325 - dense_6_acc_4: 0.9425 - dense_6_acc_5: 1.0000 - dense_6_acc_6: 0.9785 - dense_6_acc_7: 0.8886 - dense_6_acc_8: 1.0000 - dense_6_acc_9: 0.8389 - dense_6_acc_10: 0.9160    \n",
      "Epoch 10/50\n",
      "10000/10000 [==============================] - 11s - loss: 1.6464 - dense_6_loss_1: 0.0544 - dense_6_loss_2: 0.0327 - dense_6_loss_3: 0.1822 - dense_6_loss_4: 0.2409 - dense_6_loss_5: 0.0050 - dense_6_loss_6: 0.0652 - dense_6_loss_7: 0.3835 - dense_6_loss_8: 0.0065 - dense_6_loss_9: 0.4162 - dense_6_loss_10: 0.2596 - dense_6_acc_1: 0.9821 - dense_6_acc_2: 0.9884 - dense_6_acc_3: 0.9490 - dense_6_acc_4: 0.9591 - dense_6_acc_5: 1.0000 - dense_6_acc_6: 0.9818 - dense_6_acc_7: 0.9041 - dense_6_acc_8: 1.0000 - dense_6_acc_9: 0.8543 - dense_6_acc_10: 0.9344    \n",
      "Epoch 11/50\n",
      "10000/10000 [==============================] - 11s - loss: 1.4474 - dense_6_loss_1: 0.0509 - dense_6_loss_2: 0.0294 - dense_6_loss_3: 0.1526 - dense_6_loss_4: 0.2021 - dense_6_loss_5: 0.0045 - dense_6_loss_6: 0.0601 - dense_6_loss_7: 0.3449 - dense_6_loss_8: 0.0055 - dense_6_loss_9: 0.3766 - dense_6_loss_10: 0.2208 - dense_6_acc_1: 0.9833 - dense_6_acc_2: 0.9903 - dense_6_acc_3: 0.9625 - dense_6_acc_4: 0.9736 - dense_6_acc_5: 1.0000 - dense_6_acc_6: 0.9819 - dense_6_acc_7: 0.9098 - dense_6_acc_8: 1.0000 - dense_6_acc_9: 0.8700 - dense_6_acc_10: 0.9426    \n",
      "Epoch 12/50\n",
      "10000/10000 [==============================] - 12s - loss: 1.2711 - dense_6_loss_1: 0.0480 - dense_6_loss_2: 0.0255 - dense_6_loss_3: 0.1244 - dense_6_loss_4: 0.1716 - dense_6_loss_5: 0.0039 - dense_6_loss_6: 0.0540 - dense_6_loss_7: 0.3090 - dense_6_loss_8: 0.0050 - dense_6_loss_9: 0.3382 - dense_6_loss_10: 0.1915 - dense_6_acc_1: 0.9836 - dense_6_acc_2: 0.9914 - dense_6_acc_3: 0.9739 - dense_6_acc_4: 0.9832 - dense_6_acc_5: 1.0000 - dense_6_acc_6: 0.9857 - dense_6_acc_7: 0.9183 - dense_6_acc_8: 1.0000 - dense_6_acc_9: 0.8855 - dense_6_acc_10: 0.9523    \n",
      "Epoch 13/50\n",
      "10000/10000 [==============================] - 12s - loss: 1.1286 - dense_6_loss_1: 0.0444 - dense_6_loss_2: 0.0216 - dense_6_loss_3: 0.1032 - dense_6_loss_4: 0.1447 - dense_6_loss_5: 0.0035 - dense_6_loss_6: 0.0505 - dense_6_loss_7: 0.2821 - dense_6_loss_8: 0.0047 - dense_6_loss_9: 0.3079 - dense_6_loss_10: 0.1659 - dense_6_acc_1: 0.9846 - dense_6_acc_2: 0.9919 - dense_6_acc_3: 0.9826 - dense_6_acc_4: 0.9906 - dense_6_acc_5: 1.0000 - dense_6_acc_6: 0.9868 - dense_6_acc_7: 0.9237 - dense_6_acc_8: 1.0000 - dense_6_acc_9: 0.8960 - dense_6_acc_10: 0.9594    \n",
      "Epoch 14/50\n",
      "10000/10000 [==============================] - 11s - loss: 1.0142 - dense_6_loss_1: 0.0425 - dense_6_loss_2: 0.0193 - dense_6_loss_3: 0.0863 - dense_6_loss_4: 0.1225 - dense_6_loss_5: 0.0032 - dense_6_loss_6: 0.0477 - dense_6_loss_7: 0.2590 - dense_6_loss_8: 0.0042 - dense_6_loss_9: 0.2806 - dense_6_loss_10: 0.1488 - dense_6_acc_1: 0.9853 - dense_6_acc_2: 0.9933 - dense_6_acc_3: 0.9879 - dense_6_acc_4: 0.9946 - dense_6_acc_5: 1.0000 - dense_6_acc_6: 0.9857 - dense_6_acc_7: 0.9288 - dense_6_acc_8: 1.0000 - dense_6_acc_9: 0.9060 - dense_6_acc_10: 0.9638    \n",
      "Epoch 15/50\n"
     ]
    },
    {
     "name": "stdout",
     "output_type": "stream",
     "text": [
      "10000/10000 [==============================] - 11s - loss: 0.9168 - dense_6_loss_1: 0.0387 - dense_6_loss_2: 0.0164 - dense_6_loss_3: 0.0711 - dense_6_loss_4: 0.1063 - dense_6_loss_5: 0.0029 - dense_6_loss_6: 0.0447 - dense_6_loss_7: 0.2373 - dense_6_loss_8: 0.0043 - dense_6_loss_9: 0.2617 - dense_6_loss_10: 0.1335 - dense_6_acc_1: 0.9868 - dense_6_acc_2: 0.9946 - dense_6_acc_3: 0.9918 - dense_6_acc_4: 0.9968 - dense_6_acc_5: 1.0000 - dense_6_acc_6: 0.9871 - dense_6_acc_7: 0.9341 - dense_6_acc_8: 1.0000 - dense_6_acc_9: 0.9134 - dense_6_acc_10: 0.9684    \n",
      "Epoch 16/50\n",
      "10000/10000 [==============================] - 11s - loss: 0.8282 - dense_6_loss_1: 0.0356 - dense_6_loss_2: 0.0135 - dense_6_loss_3: 0.0592 - dense_6_loss_4: 0.0908 - dense_6_loss_5: 0.0025 - dense_6_loss_6: 0.0420 - dense_6_loss_7: 0.2217 - dense_6_loss_8: 0.0038 - dense_6_loss_9: 0.2402 - dense_6_loss_10: 0.1189 - dense_6_acc_1: 0.9880 - dense_6_acc_2: 0.9958 - dense_6_acc_3: 0.9933 - dense_6_acc_4: 0.9986 - dense_6_acc_5: 1.0000 - dense_6_acc_6: 0.9888 - dense_6_acc_7: 0.9371 - dense_6_acc_8: 1.0000 - dense_6_acc_9: 0.9192 - dense_6_acc_10: 0.9729    \n",
      "Epoch 17/50\n",
      "10000/10000 [==============================] - 11s - loss: 0.7596 - dense_6_loss_1: 0.0328 - dense_6_loss_2: 0.0116 - dense_6_loss_3: 0.0501 - dense_6_loss_4: 0.0794 - dense_6_loss_5: 0.0023 - dense_6_loss_6: 0.0406 - dense_6_loss_7: 0.2044 - dense_6_loss_8: 0.0037 - dense_6_loss_9: 0.2254 - dense_6_loss_10: 0.1093 - dense_6_acc_1: 0.9895 - dense_6_acc_2: 0.9965 - dense_6_acc_3: 0.9949 - dense_6_acc_4: 0.9990 - dense_6_acc_5: 1.0000 - dense_6_acc_6: 0.9879 - dense_6_acc_7: 0.9419 - dense_6_acc_8: 1.0000 - dense_6_acc_9: 0.9259 - dense_6_acc_10: 0.9747    \n",
      "Epoch 18/50\n",
      "10000/10000 [==============================] - 11s - loss: 0.6985 - dense_6_loss_1: 0.0304 - dense_6_loss_2: 0.0103 - dense_6_loss_3: 0.0427 - dense_6_loss_4: 0.0696 - dense_6_loss_5: 0.0022 - dense_6_loss_6: 0.0383 - dense_6_loss_7: 0.1936 - dense_6_loss_8: 0.0034 - dense_6_loss_9: 0.2102 - dense_6_loss_10: 0.0979 - dense_6_acc_1: 0.9904 - dense_6_acc_2: 0.9975 - dense_6_acc_3: 0.9961 - dense_6_acc_4: 0.9988 - dense_6_acc_5: 1.0000 - dense_6_acc_6: 0.9887 - dense_6_acc_7: 0.9424 - dense_6_acc_8: 1.0000 - dense_6_acc_9: 0.9317 - dense_6_acc_10: 0.9807    \n",
      "Epoch 19/50\n",
      "10000/10000 [==============================] - 11s - loss: 0.6439 - dense_6_loss_1: 0.0288 - dense_6_loss_2: 0.0091 - dense_6_loss_3: 0.0376 - dense_6_loss_4: 0.0617 - dense_6_loss_5: 0.0020 - dense_6_loss_6: 0.0362 - dense_6_loss_7: 0.1800 - dense_6_loss_8: 0.0033 - dense_6_loss_9: 0.1951 - dense_6_loss_10: 0.0900 - dense_6_acc_1: 0.9912 - dense_6_acc_2: 0.9976 - dense_6_acc_3: 0.9965 - dense_6_acc_4: 0.9991 - dense_6_acc_5: 1.0000 - dense_6_acc_6: 0.9905 - dense_6_acc_7: 0.9480 - dense_6_acc_8: 1.0000 - dense_6_acc_9: 0.9375 - dense_6_acc_10: 0.9822    \n",
      "Epoch 20/50\n",
      "10000/10000 [==============================] - 11s - loss: 0.5918 - dense_6_loss_1: 0.0266 - dense_6_loss_2: 0.0078 - dense_6_loss_3: 0.0328 - dense_6_loss_4: 0.0556 - dense_6_loss_5: 0.0018 - dense_6_loss_6: 0.0342 - dense_6_loss_7: 0.1692 - dense_6_loss_8: 0.0032 - dense_6_loss_9: 0.1793 - dense_6_loss_10: 0.0812 - dense_6_acc_1: 0.9925 - dense_6_acc_2: 0.9981 - dense_6_acc_3: 0.9972 - dense_6_acc_4: 0.9994 - dense_6_acc_5: 1.0000 - dense_6_acc_6: 0.9904 - dense_6_acc_7: 0.9503 - dense_6_acc_8: 1.0000 - dense_6_acc_9: 0.9434 - dense_6_acc_10: 0.9860    \n",
      "Epoch 21/50\n",
      "10000/10000 [==============================] - 12s - loss: 0.5522 - dense_6_loss_1: 0.0252 - dense_6_loss_2: 0.0070 - dense_6_loss_3: 0.0291 - dense_6_loss_4: 0.0498 - dense_6_loss_5: 0.0018 - dense_6_loss_6: 0.0318 - dense_6_loss_7: 0.1579 - dense_6_loss_8: 0.0030 - dense_6_loss_9: 0.1700 - dense_6_loss_10: 0.0766 - dense_6_acc_1: 0.9927 - dense_6_acc_2: 0.9989 - dense_6_acc_3: 0.9980 - dense_6_acc_4: 0.9995 - dense_6_acc_5: 1.0000 - dense_6_acc_6: 0.9909 - dense_6_acc_7: 0.9531 - dense_6_acc_8: 1.0000 - dense_6_acc_9: 0.9489 - dense_6_acc_10: 0.9863    \n",
      "Epoch 22/50\n",
      "10000/10000 [==============================] - 11s - loss: 0.5126 - dense_6_loss_1: 0.0236 - dense_6_loss_2: 0.0065 - dense_6_loss_3: 0.0263 - dense_6_loss_4: 0.0451 - dense_6_loss_5: 0.0016 - dense_6_loss_6: 0.0306 - dense_6_loss_7: 0.1501 - dense_6_loss_8: 0.0028 - dense_6_loss_9: 0.1558 - dense_6_loss_10: 0.0702 - dense_6_acc_1: 0.9933 - dense_6_acc_2: 0.9992 - dense_6_acc_3: 0.9982 - dense_6_acc_4: 0.9996 - dense_6_acc_5: 1.0000 - dense_6_acc_6: 0.9913 - dense_6_acc_7: 0.9540 - dense_6_acc_8: 1.0000 - dense_6_acc_9: 0.9531 - dense_6_acc_10: 0.9875    \n",
      "Epoch 23/50\n",
      "10000/10000 [==============================] - 12s - loss: 0.4781 - dense_6_loss_1: 0.0222 - dense_6_loss_2: 0.0059 - dense_6_loss_3: 0.0235 - dense_6_loss_4: 0.0413 - dense_6_loss_5: 0.0015 - dense_6_loss_6: 0.0290 - dense_6_loss_7: 0.1425 - dense_6_loss_8: 0.0028 - dense_6_loss_9: 0.1450 - dense_6_loss_10: 0.0644 - dense_6_acc_1: 0.9947 - dense_6_acc_2: 0.9995 - dense_6_acc_3: 0.9985 - dense_6_acc_4: 0.9998 - dense_6_acc_5: 1.0000 - dense_6_acc_6: 0.9914 - dense_6_acc_7: 0.9573 - dense_6_acc_8: 1.0000 - dense_6_acc_9: 0.9589 - dense_6_acc_10: 0.9893    \n",
      "Epoch 24/50\n",
      "10000/10000 [==============================] - 11s - loss: 0.4509 - dense_6_loss_1: 0.0209 - dense_6_loss_2: 0.0052 - dense_6_loss_3: 0.0215 - dense_6_loss_4: 0.0380 - dense_6_loss_5: 0.0014 - dense_6_loss_6: 0.0288 - dense_6_loss_7: 0.1353 - dense_6_loss_8: 0.0026 - dense_6_loss_9: 0.1371 - dense_6_loss_10: 0.0602 - dense_6_acc_1: 0.9952 - dense_6_acc_2: 0.9995 - dense_6_acc_3: 0.9990 - dense_6_acc_4: 0.9997 - dense_6_acc_5: 1.0000 - dense_6_acc_6: 0.9911 - dense_6_acc_7: 0.9585 - dense_6_acc_8: 1.0000 - dense_6_acc_9: 0.9607 - dense_6_acc_10: 0.9905    \n",
      "Epoch 25/50\n",
      "10000/10000 [==============================] - 11s - loss: 0.4194 - dense_6_loss_1: 0.0198 - dense_6_loss_2: 0.0049 - dense_6_loss_3: 0.0198 - dense_6_loss_4: 0.0351 - dense_6_loss_5: 0.0013 - dense_6_loss_6: 0.0266 - dense_6_loss_7: 0.1276 - dense_6_loss_8: 0.0026 - dense_6_loss_9: 0.1259 - dense_6_loss_10: 0.0559 - dense_6_acc_1: 0.9953 - dense_6_acc_2: 0.9995 - dense_6_acc_3: 0.9989 - dense_6_acc_4: 0.9999 - dense_6_acc_5: 1.0000 - dense_6_acc_6: 0.9922 - dense_6_acc_7: 0.9611 - dense_6_acc_8: 1.0000 - dense_6_acc_9: 0.9659 - dense_6_acc_10: 0.9912    \n",
      "Epoch 26/50\n",
      "10000/10000 [==============================] - 11s - loss: 0.3928 - dense_6_loss_1: 0.0189 - dense_6_loss_2: 0.0045 - dense_6_loss_3: 0.0180 - dense_6_loss_4: 0.0325 - dense_6_loss_5: 0.0012 - dense_6_loss_6: 0.0254 - dense_6_loss_7: 0.1203 - dense_6_loss_8: 0.0025 - dense_6_loss_9: 0.1175 - dense_6_loss_10: 0.0519 - dense_6_acc_1: 0.9963 - dense_6_acc_2: 0.9996 - dense_6_acc_3: 0.9993 - dense_6_acc_4: 0.9999 - dense_6_acc_5: 1.0000 - dense_6_acc_6: 0.9918 - dense_6_acc_7: 0.9644 - dense_6_acc_8: 1.0000 - dense_6_acc_9: 0.9685 - dense_6_acc_10: 0.9913    \n",
      "Epoch 27/50\n",
      "10000/10000 [==============================] - 11s - loss: 0.3691 - dense_6_loss_1: 0.0180 - dense_6_loss_2: 0.0041 - dense_6_loss_3: 0.0165 - dense_6_loss_4: 0.0304 - dense_6_loss_5: 0.0012 - dense_6_loss_6: 0.0240 - dense_6_loss_7: 0.1149 - dense_6_loss_8: 0.0024 - dense_6_loss_9: 0.1100 - dense_6_loss_10: 0.0476 - dense_6_acc_1: 0.9963 - dense_6_acc_2: 0.9996 - dense_6_acc_3: 0.9995 - dense_6_acc_4: 0.9999 - dense_6_acc_5: 1.0000 - dense_6_acc_6: 0.9930 - dense_6_acc_7: 0.9663 - dense_6_acc_8: 1.0000 - dense_6_acc_9: 0.9726 - dense_6_acc_10: 0.9924    \n",
      "Epoch 28/50\n",
      "10000/10000 [==============================] - 11s - loss: 0.3472 - dense_6_loss_1: 0.0171 - dense_6_loss_2: 0.0038 - dense_6_loss_3: 0.0155 - dense_6_loss_4: 0.0283 - dense_6_loss_5: 0.0011 - dense_6_loss_6: 0.0226 - dense_6_loss_7: 0.1086 - dense_6_loss_8: 0.0023 - dense_6_loss_9: 0.1028 - dense_6_loss_10: 0.0452 - dense_6_acc_1: 0.9970 - dense_6_acc_2: 0.9996 - dense_6_acc_3: 0.9995 - dense_6_acc_4: 0.9999 - dense_6_acc_5: 1.0000 - dense_6_acc_6: 0.9938 - dense_6_acc_7: 0.9679 - dense_6_acc_8: 1.0000 - dense_6_acc_9: 0.9751 - dense_6_acc_10: 0.9933    \n",
      "Epoch 29/50\n"
     ]
    },
    {
     "name": "stdout",
     "output_type": "stream",
     "text": [
      "10000/10000 [==============================] - 11s - loss: 0.3298 - dense_6_loss_1: 0.0161 - dense_6_loss_2: 0.0035 - dense_6_loss_3: 0.0145 - dense_6_loss_4: 0.0265 - dense_6_loss_5: 0.0010 - dense_6_loss_6: 0.0227 - dense_6_loss_7: 0.1041 - dense_6_loss_8: 0.0023 - dense_6_loss_9: 0.0966 - dense_6_loss_10: 0.0425 - dense_6_acc_1: 0.9972 - dense_6_acc_2: 0.9996 - dense_6_acc_3: 0.9996 - dense_6_acc_4: 0.9999 - dense_6_acc_5: 1.0000 - dense_6_acc_6: 0.9928 - dense_6_acc_7: 0.9696 - dense_6_acc_8: 1.0000 - dense_6_acc_9: 0.9782 - dense_6_acc_10: 0.9935    \n",
      "Epoch 30/50\n",
      "10000/10000 [==============================] - 12s - loss: 0.3075 - dense_6_loss_1: 0.0154 - dense_6_loss_2: 0.0032 - dense_6_loss_3: 0.0133 - dense_6_loss_4: 0.0253 - dense_6_loss_5: 9.9209e-04 - dense_6_loss_6: 0.0199 - dense_6_loss_7: 0.0986 - dense_6_loss_8: 0.0022 - dense_6_loss_9: 0.0888 - dense_6_loss_10: 0.0399 - dense_6_acc_1: 0.9972 - dense_6_acc_2: 0.9997 - dense_6_acc_3: 0.9995 - dense_6_acc_4: 0.9999 - dense_6_acc_5: 1.0000 - dense_6_acc_6: 0.9939 - dense_6_acc_7: 0.9714 - dense_6_acc_8: 1.0000 - dense_6_acc_9: 0.9823 - dense_6_acc_10: 0.9945    \n",
      "Epoch 31/50\n",
      "10000/10000 [==============================] - 11s - loss: 0.2915 - dense_6_loss_1: 0.0146 - dense_6_loss_2: 0.0031 - dense_6_loss_3: 0.0126 - dense_6_loss_4: 0.0235 - dense_6_loss_5: 9.6307e-04 - dense_6_loss_6: 0.0198 - dense_6_loss_7: 0.0943 - dense_6_loss_8: 0.0022 - dense_6_loss_9: 0.0830 - dense_6_loss_10: 0.0375 - dense_6_acc_1: 0.9974 - dense_6_acc_2: 0.9996 - dense_6_acc_3: 0.9996 - dense_6_acc_4: 0.9999 - dense_6_acc_5: 1.0000 - dense_6_acc_6: 0.9939 - dense_6_acc_7: 0.9741 - dense_6_acc_8: 1.0000 - dense_6_acc_9: 0.9835 - dense_6_acc_10: 0.9948    \n",
      "Epoch 32/50\n",
      "10000/10000 [==============================] - 11s - loss: 0.2723 - dense_6_loss_1: 0.0139 - dense_6_loss_2: 0.0029 - dense_6_loss_3: 0.0118 - dense_6_loss_4: 0.0222 - dense_6_loss_5: 9.1846e-04 - dense_6_loss_6: 0.0182 - dense_6_loss_7: 0.0888 - dense_6_loss_8: 0.0021 - dense_6_loss_9: 0.0773 - dense_6_loss_10: 0.0343 - dense_6_acc_1: 0.9980 - dense_6_acc_2: 0.9997 - dense_6_acc_3: 0.9996 - dense_6_acc_4: 1.0000 - dense_6_acc_5: 1.0000 - dense_6_acc_6: 0.9941 - dense_6_acc_7: 0.9753 - dense_6_acc_8: 1.0000 - dense_6_acc_9: 0.9859 - dense_6_acc_10: 0.9952    \n",
      "Epoch 33/50\n",
      "10000/10000 [==============================] - 11s - loss: 0.2571 - dense_6_loss_1: 0.0133 - dense_6_loss_2: 0.0027 - dense_6_loss_3: 0.0112 - dense_6_loss_4: 0.0209 - dense_6_loss_5: 8.8442e-04 - dense_6_loss_6: 0.0169 - dense_6_loss_7: 0.0845 - dense_6_loss_8: 0.0021 - dense_6_loss_9: 0.0716 - dense_6_loss_10: 0.0329 - dense_6_acc_1: 0.9976 - dense_6_acc_2: 0.9997 - dense_6_acc_3: 0.9996 - dense_6_acc_4: 1.0000 - dense_6_acc_5: 1.0000 - dense_6_acc_6: 0.9953 - dense_6_acc_7: 0.9778 - dense_6_acc_8: 1.0000 - dense_6_acc_9: 0.9889 - dense_6_acc_10: 0.9950    \n",
      "Epoch 34/50\n",
      "10000/10000 [==============================] - 11s - loss: 0.2441 - dense_6_loss_1: 0.0128 - dense_6_loss_2: 0.0025 - dense_6_loss_3: 0.0104 - dense_6_loss_4: 0.0200 - dense_6_loss_5: 8.1640e-04 - dense_6_loss_6: 0.0159 - dense_6_loss_7: 0.0808 - dense_6_loss_8: 0.0020 - dense_6_loss_9: 0.0684 - dense_6_loss_10: 0.0304 - dense_6_acc_1: 0.9978 - dense_6_acc_2: 0.9997 - dense_6_acc_3: 0.9998 - dense_6_acc_4: 1.0000 - dense_6_acc_5: 1.0000 - dense_6_acc_6: 0.9955 - dense_6_acc_7: 0.9787 - dense_6_acc_8: 1.0000 - dense_6_acc_9: 0.9894 - dense_6_acc_10: 0.9960    \n",
      "Epoch 35/50\n",
      "10000/10000 [==============================] - 11s - loss: 0.2321 - dense_6_loss_1: 0.0123 - dense_6_loss_2: 0.0025 - dense_6_loss_3: 0.0099 - dense_6_loss_4: 0.0188 - dense_6_loss_5: 7.8234e-04 - dense_6_loss_6: 0.0158 - dense_6_loss_7: 0.0773 - dense_6_loss_8: 0.0019 - dense_6_loss_9: 0.0641 - dense_6_loss_10: 0.0289 - dense_6_acc_1: 0.9980 - dense_6_acc_2: 0.9997 - dense_6_acc_3: 0.9997 - dense_6_acc_4: 1.0000 - dense_6_acc_5: 1.0000 - dense_6_acc_6: 0.9951 - dense_6_acc_7: 0.9795 - dense_6_acc_8: 1.0000 - dense_6_acc_9: 0.9900 - dense_6_acc_10: 0.9957    \n",
      "Epoch 36/50\n",
      "10000/10000 [==============================] - 12s - loss: 0.2208 - dense_6_loss_1: 0.0118 - dense_6_loss_2: 0.0023 - dense_6_loss_3: 0.0095 - dense_6_loss_4: 0.0179 - dense_6_loss_5: 7.7208e-04 - dense_6_loss_6: 0.0156 - dense_6_loss_7: 0.0733 - dense_6_loss_8: 0.0019 - dense_6_loss_9: 0.0604 - dense_6_loss_10: 0.0274 - dense_6_acc_1: 0.9982 - dense_6_acc_2: 0.9998 - dense_6_acc_3: 0.9997 - dense_6_acc_4: 1.0000 - dense_6_acc_5: 1.0000 - dense_6_acc_6: 0.9959 - dense_6_acc_7: 0.9810 - dense_6_acc_8: 1.0000 - dense_6_acc_9: 0.9911 - dense_6_acc_10: 0.9961    \n",
      "Epoch 37/50\n",
      "10000/10000 [==============================] - 11s - loss: 0.2088 - dense_6_loss_1: 0.0112 - dense_6_loss_2: 0.0021 - dense_6_loss_3: 0.0090 - dense_6_loss_4: 0.0170 - dense_6_loss_5: 7.1700e-04 - dense_6_loss_6: 0.0136 - dense_6_loss_7: 0.0702 - dense_6_loss_8: 0.0018 - dense_6_loss_9: 0.0575 - dense_6_loss_10: 0.0256 - dense_6_acc_1: 0.9982 - dense_6_acc_2: 0.9997 - dense_6_acc_3: 0.9998 - dense_6_acc_4: 1.0000 - dense_6_acc_5: 1.0000 - dense_6_acc_6: 0.9969 - dense_6_acc_7: 0.9817 - dense_6_acc_8: 1.0000 - dense_6_acc_9: 0.9919 - dense_6_acc_10: 0.9965    \n",
      "Epoch 38/50\n",
      "10000/10000 [==============================] - 11s - loss: 0.1971 - dense_6_loss_1: 0.0108 - dense_6_loss_2: 0.0021 - dense_6_loss_3: 0.0084 - dense_6_loss_4: 0.0162 - dense_6_loss_5: 7.0627e-04 - dense_6_loss_6: 0.0133 - dense_6_loss_7: 0.0674 - dense_6_loss_8: 0.0018 - dense_6_loss_9: 0.0524 - dense_6_loss_10: 0.0240 - dense_6_acc_1: 0.9985 - dense_6_acc_2: 0.9998 - dense_6_acc_3: 0.9997 - dense_6_acc_4: 1.0000 - dense_6_acc_5: 1.0000 - dense_6_acc_6: 0.9962 - dense_6_acc_7: 0.9828 - dense_6_acc_8: 1.0000 - dense_6_acc_9: 0.9927 - dense_6_acc_10: 0.9973    \n",
      "Epoch 39/50\n",
      "10000/10000 [==============================] - 11s - loss: 0.1878 - dense_6_loss_1: 0.0103 - dense_6_loss_2: 0.0020 - dense_6_loss_3: 0.0081 - dense_6_loss_4: 0.0155 - dense_6_loss_5: 6.7531e-04 - dense_6_loss_6: 0.0125 - dense_6_loss_7: 0.0638 - dense_6_loss_8: 0.0017 - dense_6_loss_9: 0.0501 - dense_6_loss_10: 0.0231 - dense_6_acc_1: 0.9984 - dense_6_acc_2: 0.9998 - dense_6_acc_3: 0.9998 - dense_6_acc_4: 1.0000 - dense_6_acc_5: 1.0000 - dense_6_acc_6: 0.9968 - dense_6_acc_7: 0.9839 - dense_6_acc_8: 1.0000 - dense_6_acc_9: 0.9929 - dense_6_acc_10: 0.9970    \n",
      "Epoch 40/50\n",
      "10000/10000 [==============================] - 11s - loss: 0.1805 - dense_6_loss_1: 0.0099 - dense_6_loss_2: 0.0018 - dense_6_loss_3: 0.0078 - dense_6_loss_4: 0.0146 - dense_6_loss_5: 6.5594e-04 - dense_6_loss_6: 0.0129 - dense_6_loss_7: 0.0614 - dense_6_loss_8: 0.0016 - dense_6_loss_9: 0.0476 - dense_6_loss_10: 0.0222 - dense_6_acc_1: 0.9985 - dense_6_acc_2: 0.9998 - dense_6_acc_3: 0.9998 - dense_6_acc_4: 1.0000 - dense_6_acc_5: 1.0000 - dense_6_acc_6: 0.9965 - dense_6_acc_7: 0.9841 - dense_6_acc_8: 1.0000 - dense_6_acc_9: 0.9939 - dense_6_acc_10: 0.9973    \n",
      "Epoch 41/50\n",
      "10000/10000 [==============================] - 11s - loss: 0.1697 - dense_6_loss_1: 0.0095 - dense_6_loss_2: 0.0017 - dense_6_loss_3: 0.0073 - dense_6_loss_4: 0.0142 - dense_6_loss_5: 6.1554e-04 - dense_6_loss_6: 0.0113 - dense_6_loss_7: 0.0589 - dense_6_loss_8: 0.0016 - dense_6_loss_9: 0.0443 - dense_6_loss_10: 0.0204 - dense_6_acc_1: 0.9986 - dense_6_acc_2: 0.9998 - dense_6_acc_3: 0.9999 - dense_6_acc_4: 1.0000 - dense_6_acc_5: 1.0000 - dense_6_acc_6: 0.9975 - dense_6_acc_7: 0.9854 - dense_6_acc_8: 1.0000 - dense_6_acc_9: 0.9941 - dense_6_acc_10: 0.9979    \n",
      "Epoch 42/50\n",
      "10000/10000 [==============================] - 12s - loss: 0.1625 - dense_6_loss_1: 0.0092 - dense_6_loss_2: 0.0017 - dense_6_loss_3: 0.0070 - dense_6_loss_4: 0.0134 - dense_6_loss_5: 5.9589e-04 - dense_6_loss_6: 0.0112 - dense_6_loss_7: 0.0566 - dense_6_loss_8: 0.0016 - dense_6_loss_9: 0.0416 - dense_6_loss_10: 0.0196 - dense_6_acc_1: 0.9989 - dense_6_acc_2: 0.9998 - dense_6_acc_3: 0.9999 - dense_6_acc_4: 1.0000 - dense_6_acc_5: 1.0000 - dense_6_acc_6: 0.9968 - dense_6_acc_7: 0.9864 - dense_6_acc_8: 1.0000 - dense_6_acc_9: 0.9948 - dense_6_acc_10: 0.9983    \n",
      "Epoch 43/50\n"
     ]
    },
    {
     "name": "stdout",
     "output_type": "stream",
     "text": [
      "10000/10000 [==============================] - 11s - loss: 0.1549 - dense_6_loss_1: 0.0088 - dense_6_loss_2: 0.0016 - dense_6_loss_3: 0.0067 - dense_6_loss_4: 0.0129 - dense_6_loss_5: 5.7192e-04 - dense_6_loss_6: 0.0105 - dense_6_loss_7: 0.0538 - dense_6_loss_8: 0.0015 - dense_6_loss_9: 0.0397 - dense_6_loss_10: 0.0189 - dense_6_acc_1: 0.9989 - dense_6_acc_2: 0.9998 - dense_6_acc_3: 0.9999 - dense_6_acc_4: 1.0000 - dense_6_acc_5: 1.0000 - dense_6_acc_6: 0.9975 - dense_6_acc_7: 0.9878 - dense_6_acc_8: 1.0000 - dense_6_acc_9: 0.9949 - dense_6_acc_10: 0.9983    \n",
      "Epoch 44/50\n",
      "10000/10000 [==============================] - 11s - loss: 0.1482 - dense_6_loss_1: 0.0085 - dense_6_loss_2: 0.0015 - dense_6_loss_3: 0.0065 - dense_6_loss_4: 0.0123 - dense_6_loss_5: 5.5718e-04 - dense_6_loss_6: 0.0103 - dense_6_loss_7: 0.0516 - dense_6_loss_8: 0.0014 - dense_6_loss_9: 0.0378 - dense_6_loss_10: 0.0179 - dense_6_acc_1: 0.9988 - dense_6_acc_2: 0.9998 - dense_6_acc_3: 0.9999 - dense_6_acc_4: 1.0000 - dense_6_acc_5: 1.0000 - dense_6_acc_6: 0.9974 - dense_6_acc_7: 0.9884 - dense_6_acc_8: 1.0000 - dense_6_acc_9: 0.9953 - dense_6_acc_10: 0.9982    \n",
      "Epoch 45/50\n",
      "10000/10000 [==============================] - 11s - loss: 0.1421 - dense_6_loss_1: 0.0081 - dense_6_loss_2: 0.0014 - dense_6_loss_3: 0.0062 - dense_6_loss_4: 0.0117 - dense_6_loss_5: 5.3593e-04 - dense_6_loss_6: 0.0097 - dense_6_loss_7: 0.0504 - dense_6_loss_8: 0.0013 - dense_6_loss_9: 0.0357 - dense_6_loss_10: 0.0169 - dense_6_acc_1: 0.9989 - dense_6_acc_2: 0.9998 - dense_6_acc_3: 1.0000 - dense_6_acc_4: 1.0000 - dense_6_acc_5: 1.0000 - dense_6_acc_6: 0.9978 - dense_6_acc_7: 0.9886 - dense_6_acc_8: 1.0000 - dense_6_acc_9: 0.9955 - dense_6_acc_10: 0.9985    \n",
      "Epoch 46/50\n",
      "10000/10000 [==============================] - 11s - loss: 0.1360 - dense_6_loss_1: 0.0078 - dense_6_loss_2: 0.0014 - dense_6_loss_3: 0.0059 - dense_6_loss_4: 0.0114 - dense_6_loss_5: 5.1244e-04 - dense_6_loss_6: 0.0093 - dense_6_loss_7: 0.0480 - dense_6_loss_8: 0.0013 - dense_6_loss_9: 0.0341 - dense_6_loss_10: 0.0163 - dense_6_acc_1: 0.9991 - dense_6_acc_2: 0.9998 - dense_6_acc_3: 1.0000 - dense_6_acc_4: 1.0000 - dense_6_acc_5: 1.0000 - dense_6_acc_6: 0.9982 - dense_6_acc_7: 0.9891 - dense_6_acc_8: 1.0000 - dense_6_acc_9: 0.9957 - dense_6_acc_10: 0.9983    \n",
      "Epoch 47/50\n",
      "10000/10000 [==============================] - 11s - loss: 0.1304 - dense_6_loss_1: 0.0076 - dense_6_loss_2: 0.0013 - dense_6_loss_3: 0.0058 - dense_6_loss_4: 0.0109 - dense_6_loss_5: 4.5705e-04 - dense_6_loss_6: 0.0090 - dense_6_loss_7: 0.0462 - dense_6_loss_8: 0.0013 - dense_6_loss_9: 0.0324 - dense_6_loss_10: 0.0154 - dense_6_acc_1: 0.9990 - dense_6_acc_2: 0.9999 - dense_6_acc_3: 1.0000 - dense_6_acc_4: 1.0000 - dense_6_acc_5: 1.0000 - dense_6_acc_6: 0.9984 - dense_6_acc_7: 0.9906 - dense_6_acc_8: 1.0000 - dense_6_acc_9: 0.9958 - dense_6_acc_10: 0.9985    \n",
      "Epoch 48/50\n",
      "10000/10000 [==============================] - 12s - loss: 0.1250 - dense_6_loss_1: 0.0074 - dense_6_loss_2: 0.0013 - dense_6_loss_3: 0.0054 - dense_6_loss_4: 0.0104 - dense_6_loss_5: 4.6467e-04 - dense_6_loss_6: 0.0089 - dense_6_loss_7: 0.0444 - dense_6_loss_8: 0.0012 - dense_6_loss_9: 0.0305 - dense_6_loss_10: 0.0150 - dense_6_acc_1: 0.9993 - dense_6_acc_2: 0.9999 - dense_6_acc_3: 1.0000 - dense_6_acc_4: 1.0000 - dense_6_acc_5: 1.0000 - dense_6_acc_6: 0.9981 - dense_6_acc_7: 0.9908 - dense_6_acc_8: 1.0000 - dense_6_acc_9: 0.9960 - dense_6_acc_10: 0.9987    \n",
      "Epoch 49/50\n",
      "10000/10000 [==============================] - 11s - loss: 0.1195 - dense_6_loss_1: 0.0069 - dense_6_loss_2: 0.0012 - dense_6_loss_3: 0.0052 - dense_6_loss_4: 0.0100 - dense_6_loss_5: 4.5620e-04 - dense_6_loss_6: 0.0084 - dense_6_loss_7: 0.0428 - dense_6_loss_8: 0.0012 - dense_6_loss_9: 0.0293 - dense_6_loss_10: 0.0140 - dense_6_acc_1: 0.9994 - dense_6_acc_2: 0.9999 - dense_6_acc_3: 1.0000 - dense_6_acc_4: 1.0000 - dense_6_acc_5: 1.0000 - dense_6_acc_6: 0.9981 - dense_6_acc_7: 0.9911 - dense_6_acc_8: 1.0000 - dense_6_acc_9: 0.9961 - dense_6_acc_10: 0.9987    \n",
      "Epoch 50/50\n",
      "10000/10000 [==============================] - 11s - loss: 0.1155 - dense_6_loss_1: 0.0067 - dense_6_loss_2: 0.0012 - dense_6_loss_3: 0.0050 - dense_6_loss_4: 0.0096 - dense_6_loss_5: 4.4238e-04 - dense_6_loss_6: 0.0084 - dense_6_loss_7: 0.0415 - dense_6_loss_8: 0.0011 - dense_6_loss_9: 0.0280 - dense_6_loss_10: 0.0137 - dense_6_acc_1: 0.9994 - dense_6_acc_2: 0.9999 - dense_6_acc_3: 1.0000 - dense_6_acc_4: 1.0000 - dense_6_acc_5: 1.0000 - dense_6_acc_6: 0.9983 - dense_6_acc_7: 0.9918 - dense_6_acc_8: 1.0000 - dense_6_acc_9: 0.9961 - dense_6_acc_10: 0.9987    \n"
     ]
    },
    {
     "data": {
      "text/plain": [
       "<keras.callbacks.History at 0x7fd8f47fc6a0>"
      ]
     },
     "execution_count": 33,
     "metadata": {},
     "output_type": "execute_result"
    }
   ],
   "source": [
    "model.fit([Xoh, s0, c0], outputs, epochs=50, batch_size=100)"
   ]
  },
  {
   "cell_type": "code",
   "execution_count": 34,
   "metadata": {},
   "outputs": [
    {
     "name": "stdout",
     "output_type": "stream",
     "text": [
      "source: 3 May 1979\n",
      "output: 1979-05-03\n",
      "source: 5 April 09\n",
      "output: 2009-04-04\n",
      "source: 21th of August 2016\n",
      "output: 2016-08-21\n",
      "source: Tue 10 Jul 2007\n",
      "output: 2007-07-10\n",
      "source: Saturday May 9 2018\n",
      "output: 2018-05-09\n",
      "source: March 3 2001\n",
      "output: 2001-03-03\n",
      "source: March 3rd 2001\n",
      "output: 2001-03-03\n",
      "source: 1 March 2001\n",
      "output: 2001-03-01\n"
     ]
    }
   ],
   "source": [
    "EXAMPLES = ['3 May 1979', '5 April 09', '21th of August 2016', 'Tue 10 Jul 2007', 'Saturday May 9 2018', 'March 3 2001', 'March 3rd 2001', '1 March 2001']\n",
    "for example in EXAMPLES:\n",
    "    \n",
    "    source = string_to_int(example, Tx, human_vocab)\n",
    "    source = np.array(list(map(lambda x: to_categorical(x, num_classes=len(human_vocab)), source))).swapaxes(0,1)\n",
    "    prediction = model.predict([source, s0, c0])\n",
    "    prediction = np.argmax(prediction, axis = -1)\n",
    "    output = [inv_machine_vocab[int(i)] for i in prediction]\n",
    "    \n",
    "    print(\"source:\", example)\n",
    "    print(\"output:\", ''.join(output))"
   ]
  },
  {
   "cell_type": "code",
   "execution_count": 35,
   "metadata": {},
   "outputs": [
    {
     "name": "stdout",
     "output_type": "stream",
     "text": [
      "source: 3 May 1979\n",
      "output: 1979-05-03\n",
      "source: 5 April 09\n",
      "output: 2009-05-05\n",
      "source: 21th of August 2016\n",
      "output: 2016-08-21\n",
      "source: Tue 10 Jul 2007\n",
      "output: 2007-07-10\n",
      "source: Saturday May 9 2018\n",
      "output: 2018-05-09\n",
      "source: March 3 2001\n",
      "output: 2001-03-03\n",
      "source: March 3rd 2001\n",
      "output: 2001-03-03\n",
      "source: 1 March 2001\n",
      "output: 2001-03-01\n"
     ]
    }
   ],
   "source": [
    "model.load_weights('models/model.h5')\n",
    "\n",
    "EXAMPLES = ['3 May 1979', '5 April 09', '21th of August 2016', 'Tue 10 Jul 2007', 'Saturday May 9 2018', 'March 3 2001', 'March 3rd 2001', '1 March 2001']\n",
    "for example in EXAMPLES:\n",
    "    \n",
    "    source = string_to_int(example, Tx, human_vocab)\n",
    "    source = np.array(list(map(lambda x: to_categorical(x, num_classes=len(human_vocab)), source))).swapaxes(0,1)\n",
    "    prediction = model.predict([source, s0, c0])\n",
    "    prediction = np.argmax(prediction, axis = -1)\n",
    "    output = [inv_machine_vocab[int(i)] for i in prediction]\n",
    "    \n",
    "    print(\"source:\", example)\n",
    "    print(\"output:\", ''.join(output))"
   ]
  },
  {
   "cell_type": "code",
   "execution_count": 36,
   "metadata": {},
   "outputs": [
    {
     "name": "stdout",
     "output_type": "stream",
     "text": [
      "____________________________________________________________________________________________________\n",
      "Layer (type)                     Output Shape          Param #     Connected to                     \n",
      "====================================================================================================\n",
      "input_2 (InputLayer)             (None, 30, 37)        0                                            \n",
      "____________________________________________________________________________________________________\n",
      "s0 (InputLayer)                  (None, 64)            0                                            \n",
      "____________________________________________________________________________________________________\n",
      "bidirectional_2 (Bidirectional)  (None, 30, 64)        17920       input_2[0][0]                    \n",
      "____________________________________________________________________________________________________\n",
      "repeat_vector_2 (RepeatVector)   (None, 30, 64)        0           s0[0][0]                         \n",
      "                                                                   lstm_3[0][0]                     \n",
      "                                                                   lstm_3[1][0]                     \n",
      "                                                                   lstm_3[2][0]                     \n",
      "                                                                   lstm_3[3][0]                     \n",
      "                                                                   lstm_3[4][0]                     \n",
      "                                                                   lstm_3[5][0]                     \n",
      "                                                                   lstm_3[6][0]                     \n",
      "                                                                   lstm_3[7][0]                     \n",
      "                                                                   lstm_3[8][0]                     \n",
      "____________________________________________________________________________________________________\n",
      "concatenate_2 (Concatenate)      (None, 30, 128)       0           bidirectional_2[0][0]            \n",
      "                                                                   repeat_vector_2[0][0]            \n",
      "                                                                   bidirectional_2[0][0]            \n",
      "                                                                   repeat_vector_2[1][0]            \n",
      "                                                                   bidirectional_2[0][0]            \n",
      "                                                                   repeat_vector_2[2][0]            \n",
      "                                                                   bidirectional_2[0][0]            \n",
      "                                                                   repeat_vector_2[3][0]            \n",
      "                                                                   bidirectional_2[0][0]            \n",
      "                                                                   repeat_vector_2[4][0]            \n",
      "                                                                   bidirectional_2[0][0]            \n",
      "                                                                   repeat_vector_2[5][0]            \n",
      "                                                                   bidirectional_2[0][0]            \n",
      "                                                                   repeat_vector_2[6][0]            \n",
      "                                                                   bidirectional_2[0][0]            \n",
      "                                                                   repeat_vector_2[7][0]            \n",
      "                                                                   bidirectional_2[0][0]            \n",
      "                                                                   repeat_vector_2[8][0]            \n",
      "                                                                   bidirectional_2[0][0]            \n",
      "                                                                   repeat_vector_2[9][0]            \n",
      "____________________________________________________________________________________________________\n",
      "dense_4 (Dense)                  (None, 30, 10)        1290        concatenate_2[0][0]              \n",
      "                                                                   concatenate_2[1][0]              \n",
      "                                                                   concatenate_2[2][0]              \n",
      "                                                                   concatenate_2[3][0]              \n",
      "                                                                   concatenate_2[4][0]              \n",
      "                                                                   concatenate_2[5][0]              \n",
      "                                                                   concatenate_2[6][0]              \n",
      "                                                                   concatenate_2[7][0]              \n",
      "                                                                   concatenate_2[8][0]              \n",
      "                                                                   concatenate_2[9][0]              \n",
      "____________________________________________________________________________________________________\n",
      "dense_5 (Dense)                  (None, 30, 1)         11          dense_4[0][0]                    \n",
      "                                                                   dense_4[1][0]                    \n",
      "                                                                   dense_4[2][0]                    \n",
      "                                                                   dense_4[3][0]                    \n",
      "                                                                   dense_4[4][0]                    \n",
      "                                                                   dense_4[5][0]                    \n",
      "                                                                   dense_4[6][0]                    \n",
      "                                                                   dense_4[7][0]                    \n",
      "                                                                   dense_4[8][0]                    \n",
      "                                                                   dense_4[9][0]                    \n",
      "____________________________________________________________________________________________________\n",
      "attention_weights (Activation)   (None, 30, 1)         0           dense_5[0][0]                    \n",
      "                                                                   dense_5[1][0]                    \n",
      "                                                                   dense_5[2][0]                    \n",
      "                                                                   dense_5[3][0]                    \n",
      "                                                                   dense_5[4][0]                    \n",
      "                                                                   dense_5[5][0]                    \n",
      "                                                                   dense_5[6][0]                    \n",
      "                                                                   dense_5[7][0]                    \n",
      "                                                                   dense_5[8][0]                    \n",
      "                                                                   dense_5[9][0]                    \n",
      "____________________________________________________________________________________________________\n",
      "dot_2 (Dot)                      (None, 1, 64)         0           attention_weights[0][0]          \n",
      "                                                                   bidirectional_2[0][0]            \n",
      "                                                                   attention_weights[1][0]          \n",
      "                                                                   bidirectional_2[0][0]            \n",
      "                                                                   attention_weights[2][0]          \n",
      "                                                                   bidirectional_2[0][0]            \n",
      "                                                                   attention_weights[3][0]          \n",
      "                                                                   bidirectional_2[0][0]            \n",
      "                                                                   attention_weights[4][0]          \n",
      "                                                                   bidirectional_2[0][0]            \n",
      "                                                                   attention_weights[5][0]          \n",
      "                                                                   bidirectional_2[0][0]            \n",
      "                                                                   attention_weights[6][0]          \n",
      "                                                                   bidirectional_2[0][0]            \n",
      "                                                                   attention_weights[7][0]          \n",
      "                                                                   bidirectional_2[0][0]            \n",
      "                                                                   attention_weights[8][0]          \n",
      "                                                                   bidirectional_2[0][0]            \n",
      "                                                                   attention_weights[9][0]          \n",
      "                                                                   bidirectional_2[0][0]            \n",
      "____________________________________________________________________________________________________\n",
      "c0 (InputLayer)                  (None, 64)            0                                            \n",
      "____________________________________________________________________________________________________\n",
      "lstm_3 (LSTM)                    [(None, 64), (None, 6 33024       dot_2[0][0]                      \n",
      "                                                                   s0[0][0]                         \n",
      "                                                                   c0[0][0]                         \n",
      "                                                                   dot_2[1][0]                      \n",
      "                                                                   lstm_3[0][0]                     \n",
      "                                                                   lstm_3[0][2]                     \n",
      "                                                                   dot_2[2][0]                      \n",
      "                                                                   lstm_3[1][0]                     \n",
      "                                                                   lstm_3[1][2]                     \n",
      "                                                                   dot_2[3][0]                      \n",
      "                                                                   lstm_3[2][0]                     \n",
      "                                                                   lstm_3[2][2]                     \n",
      "                                                                   dot_2[4][0]                      \n",
      "                                                                   lstm_3[3][0]                     \n",
      "                                                                   lstm_3[3][2]                     \n",
      "                                                                   dot_2[5][0]                      \n",
      "                                                                   lstm_3[4][0]                     \n",
      "                                                                   lstm_3[4][2]                     \n",
      "                                                                   dot_2[6][0]                      \n",
      "                                                                   lstm_3[5][0]                     \n",
      "                                                                   lstm_3[5][2]                     \n",
      "                                                                   dot_2[7][0]                      \n",
      "                                                                   lstm_3[6][0]                     \n",
      "                                                                   lstm_3[6][2]                     \n",
      "                                                                   dot_2[8][0]                      \n",
      "                                                                   lstm_3[7][0]                     \n",
      "                                                                   lstm_3[7][2]                     \n",
      "                                                                   dot_2[9][0]                      \n",
      "                                                                   lstm_3[8][0]                     \n",
      "                                                                   lstm_3[8][2]                     \n",
      "____________________________________________________________________________________________________\n",
      "dense_6 (Dense)                  (None, 11)            715         lstm_3[0][0]                     \n",
      "                                                                   lstm_3[1][0]                     \n",
      "                                                                   lstm_3[2][0]                     \n",
      "                                                                   lstm_3[3][0]                     \n",
      "                                                                   lstm_3[4][0]                     \n",
      "                                                                   lstm_3[5][0]                     \n",
      "                                                                   lstm_3[6][0]                     \n",
      "                                                                   lstm_3[7][0]                     \n",
      "                                                                   lstm_3[8][0]                     \n",
      "                                                                   lstm_3[9][0]                     \n",
      "====================================================================================================\n",
      "Total params: 52,960\n",
      "Trainable params: 52,960\n",
      "Non-trainable params: 0\n",
      "____________________________________________________________________________________________________\n"
     ]
    }
   ],
   "source": [
    "model.summary()"
   ]
  },
  {
   "cell_type": "code",
   "execution_count": 37,
   "metadata": {},
   "outputs": [
    {
     "data": {
      "text/plain": [
       "<matplotlib.figure.Figure at 0x7fda265b8128>"
      ]
     },
     "metadata": {},
     "output_type": "display_data"
    },
    {
     "data": {
      "image/png": "[encoded data removed]",
      "text/plain": [
       "<matplotlib.figure.Figure at 0x7fd8a8705c88>"
      ]
     },
     "metadata": {},
     "output_type": "display_data"
    }
   ],
   "source": [
    "attention_map = plot_attention_map(model, human_vocab, inv_machine_vocab, \"Tuesday 09 Oct 1993\", num = 7, n_s = 64)"
   ]
  },
  {
   "cell_type": "code",
   "execution_count": null,
   "metadata": {},
   "outputs": [],
   "source": []
  }
 ],
 "metadata": {
  "kernelspec": {
   "display_name": "Python 3",
   "language": "python",
   "name": "python3"
  },
  "language_info": {
   "codemirror_mode": {
    "name": "ipython",
    "version": 3
   },
   "file_extension": ".py",
   "mimetype": "text/x-python",
   "name": "python",
   "nbconvert_exporter": "python",
   "pygments_lexer": "ipython3",
   "version": "3.6.0"
  }
 },
 "nbformat": 4,
 "nbformat_minor": 2
}
